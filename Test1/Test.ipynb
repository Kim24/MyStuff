{
 "cells": [
  {
   "cell_type": "code",
   "execution_count": 1,
   "id": "08acc3c4-9ae7-4626-bb97-986fd71614a6",
   "metadata": {},
   "outputs": [],
   "source": [
    "import os"
   ]
  },
  {
   "cell_type": "code",
   "execution_count": 2,
   "id": "b4e3551c-b071-4627-add7-80862e2abcb9",
   "metadata": {},
   "outputs": [
    {
     "data": {
      "text/plain": [
       "'c:\\\\Users\\\\kimm0\\\\OneDrive\\\\Desktop\\\\Proyectos\\\\Otros\\\\Interviews'"
      ]
     },
     "execution_count": 2,
     "metadata": {},
     "output_type": "execute_result"
    }
   ],
   "source": [
    "os.getcwd()"
   ]
  },
  {
   "cell_type": "code",
   "execution_count": 3,
   "id": "6981c8a7-f184-4933-89ed-9e0d142a1d93",
   "metadata": {},
   "outputs": [],
   "source": [
    "os.chdir(r'C:\\Users\\kimm0\\Downloads')"
   ]
  },
  {
   "cell_type": "markdown",
   "id": "01f20530-9415-4774-99ff-1dcb0e758f7f",
   "metadata": {},
   "source": [
    "### Importar librerías"
   ]
  },
  {
   "cell_type": "code",
   "execution_count": 5,
   "id": "2228f8fd-7a4c-4afd-ae31-2c5f1542c973",
   "metadata": {},
   "outputs": [],
   "source": [
    "import pandas as pd\n",
    "import matplotlib.pyplot as plt\n",
    "import numpy as np\n",
    "import seaborn as sns\n",
    "import missingno as msno\n",
    "import warnings"
   ]
  },
  {
   "cell_type": "code",
   "execution_count": 6,
   "id": "44b70460-6f26-4aef-bede-75770767f2c0",
   "metadata": {},
   "outputs": [],
   "source": [
    "pd.set_option('display.float_format', lambda x: '%.5f' % x)"
   ]
  },
  {
   "cell_type": "markdown",
   "id": "43f6a5e3-c33b-41db-8044-ac4dfbf9ad03",
   "metadata": {},
   "source": [
    "### Importar archivos csv"
   ]
  },
  {
   "cell_type": "code",
   "execution_count": 8,
   "id": "ba7c1d1c-c701-4d63-817f-00dbc4689739",
   "metadata": {},
   "outputs": [],
   "source": [
    "df_users = pd.read_csv('users.csv')\n",
    "df_reports = pd.read_csv('credit_reports.csv')"
   ]
  },
  {
   "cell_type": "markdown",
   "id": "88fb4a09-a620-4e8c-9390-684a931e4e48",
   "metadata": {
    "tags": []
   },
   "source": [
    "### Exploratory Data Analysis de la Data de clientes y Data de reporte crediticio"
   ]
  },
  {
   "cell_type": "code",
   "execution_count": 9,
   "id": "c24086ae-b4e4-4ea0-8abd-3ba69ee51279",
   "metadata": {
    "tags": []
   },
   "outputs": [
    {
     "name": "stdout",
     "output_type": "stream",
     "text": [
      "Data de clientes\n"
     ]
    },
    {
     "data": {
      "text/html": [
       "<div>\n",
       "<style scoped>\n",
       "    .dataframe tbody tr th:only-of-type {\n",
       "        vertical-align: middle;\n",
       "    }\n",
       "\n",
       "    .dataframe tbody tr th {\n",
       "        vertical-align: top;\n",
       "    }\n",
       "\n",
       "    .dataframe thead th {\n",
       "        text-align: right;\n",
       "    }\n",
       "</style>\n",
       "<table border=\"1\" class=\"dataframe\">\n",
       "  <thead>\n",
       "    <tr style=\"text-align: right;\">\n",
       "      <th></th>\n",
       "      <th>id</th>\n",
       "      <th>monthly_income</th>\n",
       "      <th>monthly_outcome</th>\n",
       "      <th>class</th>\n",
       "    </tr>\n",
       "  </thead>\n",
       "  <tbody>\n",
       "    <tr>\n",
       "      <th>0</th>\n",
       "      <td>0</td>\n",
       "      <td>255359</td>\n",
       "      <td>151439</td>\n",
       "      <td>1</td>\n",
       "    </tr>\n",
       "    <tr>\n",
       "      <th>1</th>\n",
       "      <td>1</td>\n",
       "      <td>8940</td>\n",
       "      <td>789</td>\n",
       "      <td>0</td>\n",
       "    </tr>\n",
       "    <tr>\n",
       "      <th>2</th>\n",
       "      <td>2</td>\n",
       "      <td>11436</td>\n",
       "      <td>3316</td>\n",
       "      <td>0</td>\n",
       "    </tr>\n",
       "    <tr>\n",
       "      <th>3</th>\n",
       "      <td>3</td>\n",
       "      <td>17143</td>\n",
       "      <td>47547</td>\n",
       "      <td>1</td>\n",
       "    </tr>\n",
       "    <tr>\n",
       "      <th>4</th>\n",
       "      <td>4</td>\n",
       "      <td>26990</td>\n",
       "      <td>15585</td>\n",
       "      <td>1</td>\n",
       "    </tr>\n",
       "  </tbody>\n",
       "</table>\n",
       "</div>"
      ],
      "text/plain": [
       "   id  monthly_income  monthly_outcome  class\n",
       "0   0          255359           151439      1\n",
       "1   1            8940              789      0\n",
       "2   2           11436             3316      0\n",
       "3   3           17143            47547      1\n",
       "4   4           26990            15585      1"
      ]
     },
     "metadata": {},
     "output_type": "display_data"
    },
    {
     "name": "stdout",
     "output_type": "stream",
     "text": [
      "\n",
      "\n",
      "Data de reporte crediticio\n"
     ]
    },
    {
     "data": {
      "text/html": [
       "<div>\n",
       "<style scoped>\n",
       "    .dataframe tbody tr th:only-of-type {\n",
       "        vertical-align: middle;\n",
       "    }\n",
       "\n",
       "    .dataframe tbody tr th {\n",
       "        vertical-align: top;\n",
       "    }\n",
       "\n",
       "    .dataframe thead th {\n",
       "        text-align: right;\n",
       "    }\n",
       "</style>\n",
       "<table border=\"1\" class=\"dataframe\">\n",
       "  <thead>\n",
       "    <tr style=\"text-align: right;\">\n",
       "      <th></th>\n",
       "      <th>user_id</th>\n",
       "      <th>institution</th>\n",
       "      <th>account_type</th>\n",
       "      <th>credit_type</th>\n",
       "      <th>total_credit_payments</th>\n",
       "      <th>payment_frequency</th>\n",
       "      <th>amount_to_pay_next_payment</th>\n",
       "      <th>account_opening_date</th>\n",
       "      <th>account_closing_date</th>\n",
       "      <th>maximum_credit_amount</th>\n",
       "      <th>current_balance</th>\n",
       "      <th>credit_limit</th>\n",
       "      <th>past_due_balance</th>\n",
       "      <th>number_of_payments_due</th>\n",
       "      <th>worst_delinquency</th>\n",
       "      <th>worst_delinquency_date</th>\n",
       "      <th>worst_delinquency_past_due_balance</th>\n",
       "    </tr>\n",
       "  </thead>\n",
       "  <tbody>\n",
       "    <tr>\n",
       "      <th>0</th>\n",
       "      <td>0</td>\n",
       "      <td>MERCANCIA PARA HOGAR Y OFICINA</td>\n",
       "      <td>Pagos Fijos</td>\n",
       "      <td>Línea de Crédito</td>\n",
       "      <td>78.00000</td>\n",
       "      <td>Semanal</td>\n",
       "      <td>0.00000</td>\n",
       "      <td>11/10/14</td>\n",
       "      <td>12/5/15</td>\n",
       "      <td>9826.00000</td>\n",
       "      <td>0.00000</td>\n",
       "      <td>0.00000</td>\n",
       "      <td>0.00000</td>\n",
       "      <td>0.00000</td>\n",
       "      <td>0.00000</td>\n",
       "      <td>NaN</td>\n",
       "      <td>0.00000</td>\n",
       "    </tr>\n",
       "    <tr>\n",
       "      <th>1</th>\n",
       "      <td>0</td>\n",
       "      <td>MERCANCIA PARA HOGAR Y OFICINA</td>\n",
       "      <td>Pagos Fijos</td>\n",
       "      <td>Préstamo Personal</td>\n",
       "      <td>80.00000</td>\n",
       "      <td>Semanal</td>\n",
       "      <td>0.00000</td>\n",
       "      <td>12/5/15</td>\n",
       "      <td>10/14/16</td>\n",
       "      <td>16000.00000</td>\n",
       "      <td>0.00000</td>\n",
       "      <td>0.00000</td>\n",
       "      <td>0.00000</td>\n",
       "      <td>3.00000</td>\n",
       "      <td>1.00000</td>\n",
       "      <td>5/28/16</td>\n",
       "      <td>200.00000</td>\n",
       "    </tr>\n",
       "    <tr>\n",
       "      <th>2</th>\n",
       "      <td>0</td>\n",
       "      <td>MERCANCIA PARA HOGAR Y OFICINA</td>\n",
       "      <td>Pagos Fijos</td>\n",
       "      <td>Línea de Crédito</td>\n",
       "      <td>102.00000</td>\n",
       "      <td>Semanal</td>\n",
       "      <td>100.00000</td>\n",
       "      <td>9/2/16</td>\n",
       "      <td>NaN</td>\n",
       "      <td>10205.00000</td>\n",
       "      <td>3505.00000</td>\n",
       "      <td>0.00000</td>\n",
       "      <td>0.00000</td>\n",
       "      <td>3.00000</td>\n",
       "      <td>1.00000</td>\n",
       "      <td>3/3/17</td>\n",
       "      <td>100.00000</td>\n",
       "    </tr>\n",
       "    <tr>\n",
       "      <th>3</th>\n",
       "      <td>0</td>\n",
       "      <td>MERCANCIA PARA HOGAR Y OFICINA</td>\n",
       "      <td>Pagos Fijos</td>\n",
       "      <td>Préstamo Personal</td>\n",
       "      <td>120.00000</td>\n",
       "      <td>Semanal</td>\n",
       "      <td>191.00000</td>\n",
       "      <td>10/14/16</td>\n",
       "      <td>NaN</td>\n",
       "      <td>22920.00000</td>\n",
       "      <td>11269.00000</td>\n",
       "      <td>0.00000</td>\n",
       "      <td>0.00000</td>\n",
       "      <td>3.00000</td>\n",
       "      <td>1.00000</td>\n",
       "      <td>3/3/17</td>\n",
       "      <td>191.00000</td>\n",
       "    </tr>\n",
       "    <tr>\n",
       "      <th>4</th>\n",
       "      <td>0</td>\n",
       "      <td>KONFIO</td>\n",
       "      <td>Pagos Fijos</td>\n",
       "      <td>Préstamo Personal</td>\n",
       "      <td>12.00000</td>\n",
       "      <td>Quincenal</td>\n",
       "      <td>0.00000</td>\n",
       "      <td>12/27/16</td>\n",
       "      <td>6/27/17</td>\n",
       "      <td>150000.00000</td>\n",
       "      <td>0.00000</td>\n",
       "      <td>0.00000</td>\n",
       "      <td>0.00000</td>\n",
       "      <td>0.00000</td>\n",
       "      <td>0.00000</td>\n",
       "      <td>NaN</td>\n",
       "      <td>0.00000</td>\n",
       "    </tr>\n",
       "  </tbody>\n",
       "</table>\n",
       "</div>"
      ],
      "text/plain": [
       "   user_id                     institution account_type         credit_type  \\\n",
       "0        0  MERCANCIA PARA HOGAR Y OFICINA  Pagos Fijos    Línea de Crédito   \n",
       "1        0  MERCANCIA PARA HOGAR Y OFICINA  Pagos Fijos  Préstamo Personal    \n",
       "2        0  MERCANCIA PARA HOGAR Y OFICINA  Pagos Fijos    Línea de Crédito   \n",
       "3        0  MERCANCIA PARA HOGAR Y OFICINA  Pagos Fijos  Préstamo Personal    \n",
       "4        0                          KONFIO  Pagos Fijos  Préstamo Personal    \n",
       "\n",
       "   total_credit_payments payment_frequency  amount_to_pay_next_payment  \\\n",
       "0               78.00000           Semanal                     0.00000   \n",
       "1               80.00000           Semanal                     0.00000   \n",
       "2              102.00000           Semanal                   100.00000   \n",
       "3              120.00000           Semanal                   191.00000   \n",
       "4               12.00000         Quincenal                     0.00000   \n",
       "\n",
       "  account_opening_date account_closing_date  maximum_credit_amount  \\\n",
       "0             11/10/14              12/5/15             9826.00000   \n",
       "1              12/5/15             10/14/16            16000.00000   \n",
       "2               9/2/16                  NaN            10205.00000   \n",
       "3             10/14/16                  NaN            22920.00000   \n",
       "4             12/27/16              6/27/17           150000.00000   \n",
       "\n",
       "   current_balance  credit_limit  past_due_balance  number_of_payments_due  \\\n",
       "0          0.00000       0.00000           0.00000                 0.00000   \n",
       "1          0.00000       0.00000           0.00000                 3.00000   \n",
       "2       3505.00000       0.00000           0.00000                 3.00000   \n",
       "3      11269.00000       0.00000           0.00000                 3.00000   \n",
       "4          0.00000       0.00000           0.00000                 0.00000   \n",
       "\n",
       "   worst_delinquency worst_delinquency_date  \\\n",
       "0            0.00000                    NaN   \n",
       "1            1.00000                5/28/16   \n",
       "2            1.00000                 3/3/17   \n",
       "3            1.00000                 3/3/17   \n",
       "4            0.00000                    NaN   \n",
       "\n",
       "   worst_delinquency_past_due_balance  \n",
       "0                             0.00000  \n",
       "1                           200.00000  \n",
       "2                           100.00000  \n",
       "3                           191.00000  \n",
       "4                             0.00000  "
      ]
     },
     "metadata": {},
     "output_type": "display_data"
    }
   ],
   "source": [
    "print('Data de clientes')\n",
    "display(df_users.head())\n",
    "print('\\n')\n",
    "print('Data de reporte crediticio')\n",
    "display(df_reports.head())"
   ]
  },
  {
   "cell_type": "code",
   "execution_count": 10,
   "id": "6501c775-8f1b-4b71-8a89-c610ecd35cfd",
   "metadata": {
    "tags": []
   },
   "outputs": [
    {
     "name": "stdout",
     "output_type": "stream",
     "text": [
      "Data de clientes\n"
     ]
    },
    {
     "data": {
      "text/html": [
       "<div>\n",
       "<style scoped>\n",
       "    .dataframe tbody tr th:only-of-type {\n",
       "        vertical-align: middle;\n",
       "    }\n",
       "\n",
       "    .dataframe tbody tr th {\n",
       "        vertical-align: top;\n",
       "    }\n",
       "\n",
       "    .dataframe thead th {\n",
       "        text-align: right;\n",
       "    }\n",
       "</style>\n",
       "<table border=\"1\" class=\"dataframe\">\n",
       "  <thead>\n",
       "    <tr style=\"text-align: right;\">\n",
       "      <th></th>\n",
       "      <th>id</th>\n",
       "      <th>monthly_income</th>\n",
       "      <th>monthly_outcome</th>\n",
       "      <th>class</th>\n",
       "    </tr>\n",
       "  </thead>\n",
       "  <tbody>\n",
       "    <tr>\n",
       "      <th>995</th>\n",
       "      <td>995</td>\n",
       "      <td>4157</td>\n",
       "      <td>18828</td>\n",
       "      <td>0</td>\n",
       "    </tr>\n",
       "    <tr>\n",
       "      <th>996</th>\n",
       "      <td>996</td>\n",
       "      <td>14094</td>\n",
       "      <td>35554</td>\n",
       "      <td>1</td>\n",
       "    </tr>\n",
       "    <tr>\n",
       "      <th>997</th>\n",
       "      <td>997</td>\n",
       "      <td>7437</td>\n",
       "      <td>32840</td>\n",
       "      <td>1</td>\n",
       "    </tr>\n",
       "    <tr>\n",
       "      <th>998</th>\n",
       "      <td>998</td>\n",
       "      <td>256645</td>\n",
       "      <td>166441</td>\n",
       "      <td>1</td>\n",
       "    </tr>\n",
       "    <tr>\n",
       "      <th>999</th>\n",
       "      <td>999</td>\n",
       "      <td>168517</td>\n",
       "      <td>211733</td>\n",
       "      <td>1</td>\n",
       "    </tr>\n",
       "  </tbody>\n",
       "</table>\n",
       "</div>"
      ],
      "text/plain": [
       "      id  monthly_income  monthly_outcome  class\n",
       "995  995            4157            18828      0\n",
       "996  996           14094            35554      1\n",
       "997  997            7437            32840      1\n",
       "998  998          256645           166441      1\n",
       "999  999          168517           211733      1"
      ]
     },
     "metadata": {},
     "output_type": "display_data"
    },
    {
     "name": "stdout",
     "output_type": "stream",
     "text": [
      "\n",
      "\n",
      "Data de reporte crediticio\n"
     ]
    },
    {
     "data": {
      "text/html": [
       "<div>\n",
       "<style scoped>\n",
       "    .dataframe tbody tr th:only-of-type {\n",
       "        vertical-align: middle;\n",
       "    }\n",
       "\n",
       "    .dataframe tbody tr th {\n",
       "        vertical-align: top;\n",
       "    }\n",
       "\n",
       "    .dataframe thead th {\n",
       "        text-align: right;\n",
       "    }\n",
       "</style>\n",
       "<table border=\"1\" class=\"dataframe\">\n",
       "  <thead>\n",
       "    <tr style=\"text-align: right;\">\n",
       "      <th></th>\n",
       "      <th>user_id</th>\n",
       "      <th>institution</th>\n",
       "      <th>account_type</th>\n",
       "      <th>credit_type</th>\n",
       "      <th>total_credit_payments</th>\n",
       "      <th>payment_frequency</th>\n",
       "      <th>amount_to_pay_next_payment</th>\n",
       "      <th>account_opening_date</th>\n",
       "      <th>account_closing_date</th>\n",
       "      <th>maximum_credit_amount</th>\n",
       "      <th>current_balance</th>\n",
       "      <th>credit_limit</th>\n",
       "      <th>past_due_balance</th>\n",
       "      <th>number_of_payments_due</th>\n",
       "      <th>worst_delinquency</th>\n",
       "      <th>worst_delinquency_date</th>\n",
       "      <th>worst_delinquency_past_due_balance</th>\n",
       "    </tr>\n",
       "  </thead>\n",
       "  <tbody>\n",
       "    <tr>\n",
       "      <th>16304</th>\n",
       "      <td>715</td>\n",
       "      <td>COMUNICACIONES</td>\n",
       "      <td>Sin Límite Preestablecido</td>\n",
       "      <td>Línea de Crédito</td>\n",
       "      <td>1.00000</td>\n",
       "      <td>Mensual</td>\n",
       "      <td>0.00000</td>\n",
       "      <td>7/12/04</td>\n",
       "      <td>NaN</td>\n",
       "      <td>2655.00000</td>\n",
       "      <td>0.00000</td>\n",
       "      <td>0.00000</td>\n",
       "      <td>0.00000</td>\n",
       "      <td>0.00000</td>\n",
       "      <td>0.00000</td>\n",
       "      <td>NaN</td>\n",
       "      <td>0.00000</td>\n",
       "    </tr>\n",
       "    <tr>\n",
       "      <th>16305</th>\n",
       "      <td>715</td>\n",
       "      <td>COMUNICACIONES</td>\n",
       "      <td>Sin Límite Preestablecido</td>\n",
       "      <td>Línea de Crédito</td>\n",
       "      <td>1.00000</td>\n",
       "      <td>Mensual</td>\n",
       "      <td>0.00000</td>\n",
       "      <td>2/6/15</td>\n",
       "      <td>1/31/17</td>\n",
       "      <td>6314.00000</td>\n",
       "      <td>0.00000</td>\n",
       "      <td>0.00000</td>\n",
       "      <td>0.00000</td>\n",
       "      <td>0.00000</td>\n",
       "      <td>0.00000</td>\n",
       "      <td>NaN</td>\n",
       "      <td>0.00000</td>\n",
       "    </tr>\n",
       "    <tr>\n",
       "      <th>16306</th>\n",
       "      <td>715</td>\n",
       "      <td>TIENDA COMERCIAL</td>\n",
       "      <td>Pagos Fijos</td>\n",
       "      <td>Aparatos - Muebles</td>\n",
       "      <td>1.00000</td>\n",
       "      <td>Mensual</td>\n",
       "      <td>0.00000</td>\n",
       "      <td>7/30/16</td>\n",
       "      <td>9/19/16</td>\n",
       "      <td>3976.00000</td>\n",
       "      <td>0.00000</td>\n",
       "      <td>3976.00000</td>\n",
       "      <td>0.00000</td>\n",
       "      <td>0.00000</td>\n",
       "      <td>0.00000</td>\n",
       "      <td>NaN</td>\n",
       "      <td>0.00000</td>\n",
       "    </tr>\n",
       "    <tr>\n",
       "      <th>16307</th>\n",
       "      <td>715</td>\n",
       "      <td>TIENDA COMERCIAL</td>\n",
       "      <td>Pagos Fijos</td>\n",
       "      <td>Aparatos - Muebles</td>\n",
       "      <td>1.00000</td>\n",
       "      <td>Mensual</td>\n",
       "      <td>0.00000</td>\n",
       "      <td>7/29/16</td>\n",
       "      <td>9/19/16</td>\n",
       "      <td>441.00000</td>\n",
       "      <td>0.00000</td>\n",
       "      <td>441.00000</td>\n",
       "      <td>0.00000</td>\n",
       "      <td>0.00000</td>\n",
       "      <td>0.00000</td>\n",
       "      <td>NaN</td>\n",
       "      <td>0.00000</td>\n",
       "    </tr>\n",
       "    <tr>\n",
       "      <th>16308</th>\n",
       "      <td>715</td>\n",
       "      <td>BANCO</td>\n",
       "      <td>Pagos Fijos</td>\n",
       "      <td>Línea de Crédito</td>\n",
       "      <td>0.00000</td>\n",
       "      <td>Mensual</td>\n",
       "      <td>3528.00000</td>\n",
       "      <td>5/8/12</td>\n",
       "      <td>7/28/16</td>\n",
       "      <td>5666.00000</td>\n",
       "      <td>0.00000</td>\n",
       "      <td>19500.00000</td>\n",
       "      <td>5363.00000</td>\n",
       "      <td>0.00000</td>\n",
       "      <td>0.00000</td>\n",
       "      <td>NaN</td>\n",
       "      <td>0.00000</td>\n",
       "    </tr>\n",
       "  </tbody>\n",
       "</table>\n",
       "</div>"
      ],
      "text/plain": [
       "       user_id       institution               account_type  \\\n",
       "16304      715    COMUNICACIONES  Sin Límite Preestablecido   \n",
       "16305      715    COMUNICACIONES  Sin Límite Preestablecido   \n",
       "16306      715  TIENDA COMERCIAL                Pagos Fijos   \n",
       "16307      715  TIENDA COMERCIAL                Pagos Fijos   \n",
       "16308      715             BANCO                Pagos Fijos   \n",
       "\n",
       "              credit_type  total_credit_payments payment_frequency  \\\n",
       "16304    Línea de Crédito                1.00000           Mensual   \n",
       "16305    Línea de Crédito                1.00000           Mensual   \n",
       "16306  Aparatos - Muebles                1.00000           Mensual   \n",
       "16307  Aparatos - Muebles                1.00000           Mensual   \n",
       "16308    Línea de Crédito                0.00000           Mensual   \n",
       "\n",
       "       amount_to_pay_next_payment account_opening_date account_closing_date  \\\n",
       "16304                     0.00000              7/12/04                  NaN   \n",
       "16305                     0.00000               2/6/15              1/31/17   \n",
       "16306                     0.00000              7/30/16              9/19/16   \n",
       "16307                     0.00000              7/29/16              9/19/16   \n",
       "16308                  3528.00000               5/8/12              7/28/16   \n",
       "\n",
       "       maximum_credit_amount  current_balance  credit_limit  past_due_balance  \\\n",
       "16304             2655.00000          0.00000       0.00000           0.00000   \n",
       "16305             6314.00000          0.00000       0.00000           0.00000   \n",
       "16306             3976.00000          0.00000    3976.00000           0.00000   \n",
       "16307              441.00000          0.00000     441.00000           0.00000   \n",
       "16308             5666.00000          0.00000   19500.00000        5363.00000   \n",
       "\n",
       "       number_of_payments_due  worst_delinquency worst_delinquency_date  \\\n",
       "16304                 0.00000            0.00000                    NaN   \n",
       "16305                 0.00000            0.00000                    NaN   \n",
       "16306                 0.00000            0.00000                    NaN   \n",
       "16307                 0.00000            0.00000                    NaN   \n",
       "16308                 0.00000            0.00000                    NaN   \n",
       "\n",
       "       worst_delinquency_past_due_balance  \n",
       "16304                             0.00000  \n",
       "16305                             0.00000  \n",
       "16306                             0.00000  \n",
       "16307                             0.00000  \n",
       "16308                             0.00000  "
      ]
     },
     "metadata": {},
     "output_type": "display_data"
    }
   ],
   "source": [
    "print('Data de clientes')\n",
    "display(df_users.tail())\n",
    "print('\\n')\n",
    "print('Data de reporte crediticio')\n",
    "display(df_reports.tail())"
   ]
  },
  {
   "cell_type": "code",
   "execution_count": 11,
   "id": "22ffb471-6bb8-4ef9-8726-204de8666d53",
   "metadata": {
    "tags": []
   },
   "outputs": [
    {
     "name": "stdout",
     "output_type": "stream",
     "text": [
      "Data de clientes\n",
      "\n",
      "\n",
      "<class 'pandas.core.frame.DataFrame'>\n",
      "RangeIndex: 1000 entries, 0 to 999\n",
      "Data columns (total 4 columns):\n",
      " #   Column           Non-Null Count  Dtype\n",
      "---  ------           --------------  -----\n",
      " 0   id               1000 non-null   int64\n",
      " 1   monthly_income   1000 non-null   int64\n",
      " 2   monthly_outcome  1000 non-null   int64\n",
      " 3   class            1000 non-null   int64\n",
      "dtypes: int64(4)\n",
      "memory usage: 31.4 KB\n"
     ]
    },
    {
     "data": {
      "text/plain": [
       "None"
      ]
     },
     "metadata": {},
     "output_type": "display_data"
    }
   ],
   "source": [
    "print('Data de clientes')\n",
    "print('\\n')\n",
    "display(df_users.info())"
   ]
  },
  {
   "cell_type": "code",
   "execution_count": 12,
   "id": "24b497e3-5dc3-457a-957b-69f3d58b1529",
   "metadata": {},
   "outputs": [
    {
     "name": "stdout",
     "output_type": "stream",
     "text": [
      "Data de reporte credicio\n",
      "\n",
      "\n",
      "<class 'pandas.core.frame.DataFrame'>\n",
      "RangeIndex: 16309 entries, 0 to 16308\n",
      "Data columns (total 17 columns):\n",
      " #   Column                              Non-Null Count  Dtype  \n",
      "---  ------                              --------------  -----  \n",
      " 0   user_id                             16309 non-null  int64  \n",
      " 1   institution                         16309 non-null  object \n",
      " 2   account_type                        16309 non-null  object \n",
      " 3   credit_type                         16309 non-null  object \n",
      " 4   total_credit_payments               16268 non-null  float64\n",
      " 5   payment_frequency                   16308 non-null  object \n",
      " 6   amount_to_pay_next_payment          16304 non-null  float64\n",
      " 7   account_opening_date                16309 non-null  object \n",
      " 8   account_closing_date                9068 non-null   object \n",
      " 9   maximum_credit_amount               16307 non-null  float64\n",
      " 10  current_balance                     16304 non-null  float64\n",
      " 11  credit_limit                        16296 non-null  float64\n",
      " 12  past_due_balance                    16304 non-null  float64\n",
      " 13  number_of_payments_due              16297 non-null  float64\n",
      " 14  worst_delinquency                   16255 non-null  float64\n",
      " 15  worst_delinquency_date              3312 non-null   object \n",
      " 16  worst_delinquency_past_due_balance  16297 non-null  float64\n",
      "dtypes: float64(9), int64(1), object(7)\n",
      "memory usage: 2.1+ MB\n"
     ]
    }
   ],
   "source": [
    "print('Data de reporte credicio')\n",
    "print('\\n')\n",
    "df_reports.info()"
   ]
  },
  {
   "cell_type": "code",
   "execution_count": 13,
   "id": "58daf5fb-fd89-4fc5-8c51-001c0655b23f",
   "metadata": {},
   "outputs": [
    {
     "data": {
      "text/html": [
       "<div>\n",
       "<style scoped>\n",
       "    .dataframe tbody tr th:only-of-type {\n",
       "        vertical-align: middle;\n",
       "    }\n",
       "\n",
       "    .dataframe tbody tr th {\n",
       "        vertical-align: top;\n",
       "    }\n",
       "\n",
       "    .dataframe thead th {\n",
       "        text-align: right;\n",
       "    }\n",
       "</style>\n",
       "<table border=\"1\" class=\"dataframe\">\n",
       "  <thead>\n",
       "    <tr style=\"text-align: right;\">\n",
       "      <th></th>\n",
       "      <th>id</th>\n",
       "      <th>monthly_income</th>\n",
       "      <th>monthly_outcome</th>\n",
       "      <th>class</th>\n",
       "    </tr>\n",
       "  </thead>\n",
       "  <tbody>\n",
       "    <tr>\n",
       "      <th>count</th>\n",
       "      <td>1000.00000</td>\n",
       "      <td>1000.00000</td>\n",
       "      <td>1000.00000</td>\n",
       "      <td>1000.00000</td>\n",
       "    </tr>\n",
       "    <tr>\n",
       "      <th>mean</th>\n",
       "      <td>499.50000</td>\n",
       "      <td>121613.81300</td>\n",
       "      <td>124965.72300</td>\n",
       "      <td>0.53500</td>\n",
       "    </tr>\n",
       "    <tr>\n",
       "      <th>std</th>\n",
       "      <td>288.81944</td>\n",
       "      <td>470941.59721</td>\n",
       "      <td>579628.08160</td>\n",
       "      <td>0.49902</td>\n",
       "    </tr>\n",
       "    <tr>\n",
       "      <th>min</th>\n",
       "      <td>0.00000</td>\n",
       "      <td>1.00000</td>\n",
       "      <td>1.00000</td>\n",
       "      <td>0.00000</td>\n",
       "    </tr>\n",
       "    <tr>\n",
       "      <th>25%</th>\n",
       "      <td>249.75000</td>\n",
       "      <td>2691.25000</td>\n",
       "      <td>3397.75000</td>\n",
       "      <td>0.00000</td>\n",
       "    </tr>\n",
       "    <tr>\n",
       "      <th>50%</th>\n",
       "      <td>499.50000</td>\n",
       "      <td>12533.50000</td>\n",
       "      <td>14242.50000</td>\n",
       "      <td>1.00000</td>\n",
       "    </tr>\n",
       "    <tr>\n",
       "      <th>75%</th>\n",
       "      <td>749.25000</td>\n",
       "      <td>58686.00000</td>\n",
       "      <td>57228.50000</td>\n",
       "      <td>1.00000</td>\n",
       "    </tr>\n",
       "    <tr>\n",
       "      <th>max</th>\n",
       "      <td>999.00000</td>\n",
       "      <td>9344842.00000</td>\n",
       "      <td>9749651.00000</td>\n",
       "      <td>1.00000</td>\n",
       "    </tr>\n",
       "  </tbody>\n",
       "</table>\n",
       "</div>"
      ],
      "text/plain": [
       "              id  monthly_income  monthly_outcome      class\n",
       "count 1000.00000      1000.00000       1000.00000 1000.00000\n",
       "mean   499.50000    121613.81300     124965.72300    0.53500\n",
       "std    288.81944    470941.59721     579628.08160    0.49902\n",
       "min      0.00000         1.00000          1.00000    0.00000\n",
       "25%    249.75000      2691.25000       3397.75000    0.00000\n",
       "50%    499.50000     12533.50000      14242.50000    1.00000\n",
       "75%    749.25000     58686.00000      57228.50000    1.00000\n",
       "max    999.00000   9344842.00000    9749651.00000    1.00000"
      ]
     },
     "execution_count": 13,
     "metadata": {},
     "output_type": "execute_result"
    }
   ],
   "source": [
    "df_users.describe()"
   ]
  },
  {
   "cell_type": "code",
   "execution_count": 14,
   "id": "65bd7d0b-8140-46dc-aea6-cf12d54bc5bc",
   "metadata": {},
   "outputs": [
    {
     "data": {
      "text/html": [
       "<div>\n",
       "<style scoped>\n",
       "    .dataframe tbody tr th:only-of-type {\n",
       "        vertical-align: middle;\n",
       "    }\n",
       "\n",
       "    .dataframe tbody tr th {\n",
       "        vertical-align: top;\n",
       "    }\n",
       "\n",
       "    .dataframe thead th {\n",
       "        text-align: right;\n",
       "    }\n",
       "</style>\n",
       "<table border=\"1\" class=\"dataframe\">\n",
       "  <thead>\n",
       "    <tr style=\"text-align: right;\">\n",
       "      <th></th>\n",
       "      <th>user_id</th>\n",
       "      <th>total_credit_payments</th>\n",
       "      <th>amount_to_pay_next_payment</th>\n",
       "      <th>maximum_credit_amount</th>\n",
       "      <th>current_balance</th>\n",
       "      <th>credit_limit</th>\n",
       "      <th>past_due_balance</th>\n",
       "      <th>number_of_payments_due</th>\n",
       "      <th>worst_delinquency</th>\n",
       "      <th>worst_delinquency_past_due_balance</th>\n",
       "    </tr>\n",
       "  </thead>\n",
       "  <tbody>\n",
       "    <tr>\n",
       "      <th>count</th>\n",
       "      <td>16309.00000</td>\n",
       "      <td>16268.00000</td>\n",
       "      <td>16304.00000</td>\n",
       "      <td>16307.00000</td>\n",
       "      <td>16304.00000</td>\n",
       "      <td>16296.00000</td>\n",
       "      <td>16304.00000</td>\n",
       "      <td>16297.00000</td>\n",
       "      <td>16255.00000</td>\n",
       "      <td>16297.00000</td>\n",
       "    </tr>\n",
       "    <tr>\n",
       "      <th>mean</th>\n",
       "      <td>474.06763</td>\n",
       "      <td>22.40577</td>\n",
       "      <td>2779.24233</td>\n",
       "      <td>39947.39419</td>\n",
       "      <td>19933.76981</td>\n",
       "      <td>23981.14642</td>\n",
       "      <td>3618.91039</td>\n",
       "      <td>2.29122</td>\n",
       "      <td>1.54162</td>\n",
       "      <td>1617.18881</td>\n",
       "    </tr>\n",
       "    <tr>\n",
       "      <th>std</th>\n",
       "      <td>293.16509</td>\n",
       "      <td>77.41314</td>\n",
       "      <td>21450.46241</td>\n",
       "      <td>133740.17201</td>\n",
       "      <td>106721.26177</td>\n",
       "      <td>94299.67316</td>\n",
       "      <td>28167.34328</td>\n",
       "      <td>8.25087</td>\n",
       "      <td>6.81656</td>\n",
       "      <td>28451.79836</td>\n",
       "    </tr>\n",
       "    <tr>\n",
       "      <th>min</th>\n",
       "      <td>0.00000</td>\n",
       "      <td>0.00000</td>\n",
       "      <td>0.00000</td>\n",
       "      <td>0.00000</td>\n",
       "      <td>0.00000</td>\n",
       "      <td>0.00000</td>\n",
       "      <td>0.00000</td>\n",
       "      <td>0.00000</td>\n",
       "      <td>0.00000</td>\n",
       "      <td>0.00000</td>\n",
       "    </tr>\n",
       "    <tr>\n",
       "      <th>25%</th>\n",
       "      <td>213.00000</td>\n",
       "      <td>0.00000</td>\n",
       "      <td>0.00000</td>\n",
       "      <td>2000.00000</td>\n",
       "      <td>0.00000</td>\n",
       "      <td>0.00000</td>\n",
       "      <td>0.00000</td>\n",
       "      <td>0.00000</td>\n",
       "      <td>0.00000</td>\n",
       "      <td>0.00000</td>\n",
       "    </tr>\n",
       "    <tr>\n",
       "      <th>50%</th>\n",
       "      <td>466.00000</td>\n",
       "      <td>1.00000</td>\n",
       "      <td>0.00000</td>\n",
       "      <td>6899.00000</td>\n",
       "      <td>0.00000</td>\n",
       "      <td>892.50000</td>\n",
       "      <td>0.00000</td>\n",
       "      <td>0.00000</td>\n",
       "      <td>0.00000</td>\n",
       "      <td>0.00000</td>\n",
       "    </tr>\n",
       "    <tr>\n",
       "      <th>75%</th>\n",
       "      <td>726.00000</td>\n",
       "      <td>16.00000</td>\n",
       "      <td>583.00000</td>\n",
       "      <td>26347.50000</td>\n",
       "      <td>3224.25000</td>\n",
       "      <td>14406.00000</td>\n",
       "      <td>0.00000</td>\n",
       "      <td>0.00000</td>\n",
       "      <td>0.00000</td>\n",
       "      <td>0.00000</td>\n",
       "    </tr>\n",
       "    <tr>\n",
       "      <th>max</th>\n",
       "      <td>999.00000</td>\n",
       "      <td>1800.00000</td>\n",
       "      <td>1263964.00000</td>\n",
       "      <td>4883200.00000</td>\n",
       "      <td>4697583.00000</td>\n",
       "      <td>3269355.00000</td>\n",
       "      <td>1915973.00000</td>\n",
       "      <td>96.00000</td>\n",
       "      <td>84.00000</td>\n",
       "      <td>3234351.00000</td>\n",
       "    </tr>\n",
       "  </tbody>\n",
       "</table>\n",
       "</div>"
      ],
      "text/plain": [
       "          user_id  total_credit_payments  amount_to_pay_next_payment  \\\n",
       "count 16309.00000            16268.00000                 16304.00000   \n",
       "mean    474.06763               22.40577                  2779.24233   \n",
       "std     293.16509               77.41314                 21450.46241   \n",
       "min       0.00000                0.00000                     0.00000   \n",
       "25%     213.00000                0.00000                     0.00000   \n",
       "50%     466.00000                1.00000                     0.00000   \n",
       "75%     726.00000               16.00000                   583.00000   \n",
       "max     999.00000             1800.00000               1263964.00000   \n",
       "\n",
       "       maximum_credit_amount  current_balance  credit_limit  past_due_balance  \\\n",
       "count            16307.00000      16304.00000   16296.00000       16304.00000   \n",
       "mean             39947.39419      19933.76981   23981.14642        3618.91039   \n",
       "std             133740.17201     106721.26177   94299.67316       28167.34328   \n",
       "min                  0.00000          0.00000       0.00000           0.00000   \n",
       "25%               2000.00000          0.00000       0.00000           0.00000   \n",
       "50%               6899.00000          0.00000     892.50000           0.00000   \n",
       "75%              26347.50000       3224.25000   14406.00000           0.00000   \n",
       "max            4883200.00000    4697583.00000 3269355.00000     1915973.00000   \n",
       "\n",
       "       number_of_payments_due  worst_delinquency  \\\n",
       "count             16297.00000        16255.00000   \n",
       "mean                  2.29122            1.54162   \n",
       "std                   8.25087            6.81656   \n",
       "min                   0.00000            0.00000   \n",
       "25%                   0.00000            0.00000   \n",
       "50%                   0.00000            0.00000   \n",
       "75%                   0.00000            0.00000   \n",
       "max                  96.00000           84.00000   \n",
       "\n",
       "       worst_delinquency_past_due_balance  \n",
       "count                         16297.00000  \n",
       "mean                           1617.18881  \n",
       "std                           28451.79836  \n",
       "min                               0.00000  \n",
       "25%                               0.00000  \n",
       "50%                               0.00000  \n",
       "75%                               0.00000  \n",
       "max                         3234351.00000  "
      ]
     },
     "execution_count": 14,
     "metadata": {},
     "output_type": "execute_result"
    }
   ],
   "source": [
    "df_reports.describe()"
   ]
  },
  {
   "cell_type": "code",
   "execution_count": 16,
   "id": "29b602bc-9c79-4186-87ce-f86a8f81b6ff",
   "metadata": {},
   "outputs": [
    {
     "data": {
      "text/plain": [
       "12533.5"
      ]
     },
     "execution_count": 16,
     "metadata": {},
     "output_type": "execute_result"
    }
   ],
   "source": [
    "df_users['monthly_income'].median()"
   ]
  },
  {
   "cell_type": "code",
   "execution_count": 17,
   "id": "f7737084-da1f-4923-9f0b-0abb9e7cf8d6",
   "metadata": {},
   "outputs": [
    {
     "data": {
      "text/plain": [
       "14242.5"
      ]
     },
     "execution_count": 17,
     "metadata": {},
     "output_type": "execute_result"
    }
   ],
   "source": [
    "df_users['monthly_outcome'].median()"
   ]
  },
  {
   "cell_type": "code",
   "execution_count": 18,
   "id": "4205f605-0650-4f6d-9901-1d23e59d9caf",
   "metadata": {},
   "outputs": [
    {
     "name": "stdout",
     "output_type": "stream",
     "text": [
      "Data de clientes\n"
     ]
    },
    {
     "data": {
      "text/plain": [
       "(1000, 4)"
      ]
     },
     "execution_count": 18,
     "metadata": {},
     "output_type": "execute_result"
    }
   ],
   "source": [
    "print('Data de clientes')\n",
    "df_users.shape"
   ]
  },
  {
   "cell_type": "code",
   "execution_count": 20,
   "id": "5c635e80-185f-4ca8-bb43-b234ebbe1712",
   "metadata": {},
   "outputs": [
    {
     "name": "stdout",
     "output_type": "stream",
     "text": [
      "Data de reporte crediticio\n"
     ]
    },
    {
     "data": {
      "text/plain": [
       "(16309, 17)"
      ]
     },
     "execution_count": 20,
     "metadata": {},
     "output_type": "execute_result"
    }
   ],
   "source": [
    "print('Data de reporte crediticio')\n",
    "df_reports.shape"
   ]
  },
  {
   "cell_type": "code",
   "execution_count": 21,
   "id": "f868e63d-a802-4f9f-af04-6a368fa4f2e0",
   "metadata": {
    "tags": []
   },
   "outputs": [
    {
     "name": "stdout",
     "output_type": "stream",
     "text": [
      "Data de clientes\n"
     ]
    },
    {
     "data": {
      "text/plain": [
       "id                 0\n",
       "monthly_income     0\n",
       "monthly_outcome    0\n",
       "class              0\n",
       "dtype: int64"
      ]
     },
     "execution_count": 21,
     "metadata": {},
     "output_type": "execute_result"
    }
   ],
   "source": [
    "print('Data de clientes')\n",
    "df_users.isnull().sum()"
   ]
  },
  {
   "cell_type": "code",
   "execution_count": 22,
   "id": "587aac50-8dc1-46ac-bc1c-25fb0b35d09a",
   "metadata": {},
   "outputs": [
    {
     "name": "stdout",
     "output_type": "stream",
     "text": [
      "Data de reporte credicio\n"
     ]
    },
    {
     "data": {
      "text/plain": [
       "user_id                                   0\n",
       "institution                               0\n",
       "account_type                              0\n",
       "credit_type                               0\n",
       "total_credit_payments                    41\n",
       "payment_frequency                         1\n",
       "amount_to_pay_next_payment                5\n",
       "account_opening_date                      0\n",
       "account_closing_date                   7241\n",
       "maximum_credit_amount                     2\n",
       "current_balance                           5\n",
       "credit_limit                             13\n",
       "past_due_balance                          5\n",
       "number_of_payments_due                   12\n",
       "worst_delinquency                        54\n",
       "worst_delinquency_date                12997\n",
       "worst_delinquency_past_due_balance       12\n",
       "dtype: int64"
      ]
     },
     "execution_count": 22,
     "metadata": {},
     "output_type": "execute_result"
    }
   ],
   "source": [
    "print('Data de reporte credicio')\n",
    "df_reports.isnull().sum()"
   ]
  },
  {
   "cell_type": "code",
   "execution_count": 23,
   "id": "2efa6eac-e770-4105-943e-710adb1a186f",
   "metadata": {
    "tags": []
   },
   "outputs": [
    {
     "name": "stdout",
     "output_type": "stream",
     "text": [
      "Visualización de missing values en Data de clientes\n"
     ]
    },
    {
     "data": {
      "text/plain": [
       "<AxesSubplot:>"
      ]
     },
     "execution_count": 23,
     "metadata": {},
     "output_type": "execute_result"
    },
    {
     "data": {
      "image/png": "[encoded data removed]",
      "text/plain": [
       "<Figure size 1800x720 with 1 Axes>"
      ]
     },
     "metadata": {
      "needs_background": "light"
     },
     "output_type": "display_data"
    }
   ],
   "source": [
    "print('Visualización de missing values en Data de clientes')\n",
    "msno.matrix(df_users, sparkline=False, color=(121/255, 100/255, 205/255))"
   ]
  },
  {
   "cell_type": "code",
   "execution_count": 24,
   "id": "2e74b902-c3ba-45a0-a793-5e049dabb3f3",
   "metadata": {
    "tags": []
   },
   "outputs": [
    {
     "name": "stdout",
     "output_type": "stream",
     "text": [
      "Visualización de missing values en Data de reporte crediticio\n"
     ]
    },
    {
     "data": {
      "text/plain": [
       "<AxesSubplot:>"
      ]
     },
     "execution_count": 24,
     "metadata": {},
     "output_type": "execute_result"
    },
    {
     "data": {
      "image/png": "[encoded data removed]",
      "text/plain": [
       "<Figure size 1800x720 with 1 Axes>"
      ]
     },
     "metadata": {
      "needs_background": "light"
     },
     "output_type": "display_data"
    }
   ],
   "source": [
    "print('Visualización de missing values en Data de reporte crediticio')\n",
    "msno.matrix(df_reports, sparkline=False, color=(121/255, 100/255, 205/255))"
   ]
  },
  {
   "cell_type": "code",
   "execution_count": 25,
   "id": "c2889d4c-9ad9-438e-966f-03d7a7f26807",
   "metadata": {
    "tags": []
   },
   "outputs": [
    {
     "name": "stdout",
     "output_type": "stream",
     "text": [
      "Conteo de usuarios por clase\n"
     ]
    },
    {
     "data": {
      "text/html": [
       "<div>\n",
       "<style scoped>\n",
       "    .dataframe tbody tr th:only-of-type {\n",
       "        vertical-align: middle;\n",
       "    }\n",
       "\n",
       "    .dataframe tbody tr th {\n",
       "        vertical-align: top;\n",
       "    }\n",
       "\n",
       "    .dataframe thead th {\n",
       "        text-align: right;\n",
       "    }\n",
       "</style>\n",
       "<table border=\"1\" class=\"dataframe\">\n",
       "  <thead>\n",
       "    <tr style=\"text-align: right;\">\n",
       "      <th></th>\n",
       "      <th>class</th>\n",
       "      <th>id</th>\n",
       "    </tr>\n",
       "  </thead>\n",
       "  <tbody>\n",
       "    <tr>\n",
       "      <th>0</th>\n",
       "      <td>0</td>\n",
       "      <td>465</td>\n",
       "    </tr>\n",
       "    <tr>\n",
       "      <th>1</th>\n",
       "      <td>1</td>\n",
       "      <td>535</td>\n",
       "    </tr>\n",
       "  </tbody>\n",
       "</table>\n",
       "</div>"
      ],
      "text/plain": [
       "   class   id\n",
       "0      0  465\n",
       "1      1  535"
      ]
     },
     "metadata": {},
     "output_type": "display_data"
    },
    {
     "name": "stdout",
     "output_type": "stream",
     "text": [
      "\n",
      "\n",
      "Conteo del número de usuarios diferentes por clase\n"
     ]
    },
    {
     "data": {
      "text/html": [
       "<div>\n",
       "<style scoped>\n",
       "    .dataframe tbody tr th:only-of-type {\n",
       "        vertical-align: middle;\n",
       "    }\n",
       "\n",
       "    .dataframe tbody tr th {\n",
       "        vertical-align: top;\n",
       "    }\n",
       "\n",
       "    .dataframe thead th {\n",
       "        text-align: right;\n",
       "    }\n",
       "</style>\n",
       "<table border=\"1\" class=\"dataframe\">\n",
       "  <thead>\n",
       "    <tr style=\"text-align: right;\">\n",
       "      <th></th>\n",
       "      <th>class</th>\n",
       "      <th>id</th>\n",
       "    </tr>\n",
       "  </thead>\n",
       "  <tbody>\n",
       "    <tr>\n",
       "      <th>0</th>\n",
       "      <td>0</td>\n",
       "      <td>465</td>\n",
       "    </tr>\n",
       "    <tr>\n",
       "      <th>1</th>\n",
       "      <td>1</td>\n",
       "      <td>535</td>\n",
       "    </tr>\n",
       "  </tbody>\n",
       "</table>\n",
       "</div>"
      ],
      "text/plain": [
       "   class   id\n",
       "0      0  465\n",
       "1      1  535"
      ]
     },
     "metadata": {},
     "output_type": "display_data"
    },
    {
     "name": "stdout",
     "output_type": "stream",
     "text": [
      "\n",
      "\n",
      "Valores máximos de monthly_income y monthly_outcome por clase\n"
     ]
    },
    {
     "data": {
      "text/html": [
       "<div>\n",
       "<style scoped>\n",
       "    .dataframe tbody tr th:only-of-type {\n",
       "        vertical-align: middle;\n",
       "    }\n",
       "\n",
       "    .dataframe tbody tr th {\n",
       "        vertical-align: top;\n",
       "    }\n",
       "\n",
       "    .dataframe thead th {\n",
       "        text-align: right;\n",
       "    }\n",
       "</style>\n",
       "<table border=\"1\" class=\"dataframe\">\n",
       "  <thead>\n",
       "    <tr style=\"text-align: right;\">\n",
       "      <th></th>\n",
       "      <th>class</th>\n",
       "      <th>monthly_income</th>\n",
       "      <th>monthly_outcome</th>\n",
       "    </tr>\n",
       "  </thead>\n",
       "  <tbody>\n",
       "    <tr>\n",
       "      <th>0</th>\n",
       "      <td>0</td>\n",
       "      <td>3968998</td>\n",
       "      <td>6496313</td>\n",
       "    </tr>\n",
       "    <tr>\n",
       "      <th>1</th>\n",
       "      <td>1</td>\n",
       "      <td>9344842</td>\n",
       "      <td>9749651</td>\n",
       "    </tr>\n",
       "  </tbody>\n",
       "</table>\n",
       "</div>"
      ],
      "text/plain": [
       "   class  monthly_income  monthly_outcome\n",
       "0      0         3968998          6496313\n",
       "1      1         9344842          9749651"
      ]
     },
     "metadata": {},
     "output_type": "display_data"
    },
    {
     "name": "stdout",
     "output_type": "stream",
     "text": [
      "\n",
      "\n",
      "Valores mínimos de monthly_income y monthly_outcome por clase\n"
     ]
    },
    {
     "data": {
      "text/html": [
       "<div>\n",
       "<style scoped>\n",
       "    .dataframe tbody tr th:only-of-type {\n",
       "        vertical-align: middle;\n",
       "    }\n",
       "\n",
       "    .dataframe tbody tr th {\n",
       "        vertical-align: top;\n",
       "    }\n",
       "\n",
       "    .dataframe thead th {\n",
       "        text-align: right;\n",
       "    }\n",
       "</style>\n",
       "<table border=\"1\" class=\"dataframe\">\n",
       "  <thead>\n",
       "    <tr style=\"text-align: right;\">\n",
       "      <th></th>\n",
       "      <th>class</th>\n",
       "      <th>monthly_income</th>\n",
       "      <th>monthly_outcome</th>\n",
       "    </tr>\n",
       "  </thead>\n",
       "  <tbody>\n",
       "    <tr>\n",
       "      <th>0</th>\n",
       "      <td>0</td>\n",
       "      <td>1</td>\n",
       "      <td>1</td>\n",
       "    </tr>\n",
       "    <tr>\n",
       "      <th>1</th>\n",
       "      <td>1</td>\n",
       "      <td>14</td>\n",
       "      <td>38</td>\n",
       "    </tr>\n",
       "  </tbody>\n",
       "</table>\n",
       "</div>"
      ],
      "text/plain": [
       "   class  monthly_income  monthly_outcome\n",
       "0      0               1                1\n",
       "1      1              14               38"
      ]
     },
     "metadata": {},
     "output_type": "display_data"
    },
    {
     "name": "stdout",
     "output_type": "stream",
     "text": [
      "\n",
      "\n",
      "Media de monthly_income y monthly_outcome por clase\n"
     ]
    },
    {
     "data": {
      "text/html": [
       "<div>\n",
       "<style scoped>\n",
       "    .dataframe tbody tr th:only-of-type {\n",
       "        vertical-align: middle;\n",
       "    }\n",
       "\n",
       "    .dataframe tbody tr th {\n",
       "        vertical-align: top;\n",
       "    }\n",
       "\n",
       "    .dataframe thead th {\n",
       "        text-align: right;\n",
       "    }\n",
       "</style>\n",
       "<table border=\"1\" class=\"dataframe\">\n",
       "  <thead>\n",
       "    <tr style=\"text-align: right;\">\n",
       "      <th></th>\n",
       "      <th>class</th>\n",
       "      <th>monthly_income</th>\n",
       "      <th>monthly_outcome</th>\n",
       "    </tr>\n",
       "  </thead>\n",
       "  <tbody>\n",
       "    <tr>\n",
       "      <th>0</th>\n",
       "      <td>0</td>\n",
       "      <td>57598.98280</td>\n",
       "      <td>45993.13548</td>\n",
       "    </tr>\n",
       "    <tr>\n",
       "      <th>1</th>\n",
       "      <td>1</td>\n",
       "      <td>177252.87103</td>\n",
       "      <td>193605.44860</td>\n",
       "    </tr>\n",
       "  </tbody>\n",
       "</table>\n",
       "</div>"
      ],
      "text/plain": [
       "   class  monthly_income  monthly_outcome\n",
       "0      0     57598.98280      45993.13548\n",
       "1      1    177252.87103     193605.44860"
      ]
     },
     "metadata": {},
     "output_type": "display_data"
    }
   ],
   "source": [
    "print('Conteo de usuarios por clase')\n",
    "id_per_class = df_users.groupby('class').agg({'id':'count'}).reset_index()\n",
    "display(id_per_class)\n",
    "print('\\n')\n",
    "print('Conteo del número de usuarios diferentes por clase')\n",
    "id_duplicados = df_users.groupby('class').agg({'id':'nunique'}).reset_index()\n",
    "display(id_duplicados)\n",
    "print('\\n')\n",
    "print('Valores máximos de monthly_income y monthly_outcome por clase')\n",
    "max_value_monthly = df_users.groupby('class').agg({'monthly_income':max, 'monthly_outcome':max}).reset_index()\n",
    "display(max_value_monthly)\n",
    "print('\\n')\n",
    "print('Valores mínimos de monthly_income y monthly_outcome por clase')\n",
    "min_value_monthly = df_users.groupby('class').agg({'monthly_income':min, 'monthly_outcome':min}).reset_index()\n",
    "display(min_value_monthly)\n",
    "print('\\n')\n",
    "print('Media de monthly_income y monthly_outcome por clase')\n",
    "mean_value_monthly = df_users.groupby('class').agg({'monthly_income':np.mean, 'monthly_outcome':np.mean}).reset_index()\n",
    "display(mean_value_monthly)"
   ]
  },
  {
   "cell_type": "code",
   "execution_count": 26,
   "id": "4ae796f9-1db1-47b4-9ac2-23fe487a60ef",
   "metadata": {},
   "outputs": [
    {
     "name": "stdout",
     "output_type": "stream",
     "text": [
      "Elementos distintos en clientes\n"
     ]
    },
    {
     "data": {
      "text/plain": [
       "1000"
      ]
     },
     "execution_count": 26,
     "metadata": {},
     "output_type": "execute_result"
    }
   ],
   "source": [
    "print('Elementos distintos en clientes')\n",
    "df_reports.user_id.nunique()"
   ]
  },
  {
   "cell_type": "code",
   "execution_count": 27,
   "id": "41a2f32c-80ae-4788-816a-80c8a1518d39",
   "metadata": {},
   "outputs": [
    {
     "name": "stdout",
     "output_type": "stream",
     "text": [
      "Elementos distintos en instituciones\n"
     ]
    },
    {
     "data": {
      "text/plain": [
       "54"
      ]
     },
     "execution_count": 27,
     "metadata": {},
     "output_type": "execute_result"
    }
   ],
   "source": [
    "print('Elementos distintos en instituciones')\n",
    "df_reports.institution.nunique()"
   ]
  },
  {
   "cell_type": "code",
   "execution_count": 28,
   "id": "8b38f80c-7545-4640-9087-6d37c29f1ae8",
   "metadata": {},
   "outputs": [
    {
     "name": "stdout",
     "output_type": "stream",
     "text": [
      "Elementos distintos en tipos de cuenta\n"
     ]
    },
    {
     "data": {
      "text/plain": [
       "8"
      ]
     },
     "execution_count": 28,
     "metadata": {},
     "output_type": "execute_result"
    }
   ],
   "source": [
    "print('Elementos distintos en tipos de cuenta')\n",
    "df_reports.account_type.nunique()"
   ]
  },
  {
   "cell_type": "code",
   "execution_count": 29,
   "id": "33050e82-b175-4a46-9d00-ef7ccc9cee47",
   "metadata": {},
   "outputs": [
    {
     "name": "stdout",
     "output_type": "stream",
     "text": [
      "Elementos distintos en tipos de crédito\n"
     ]
    },
    {
     "data": {
      "text/plain": [
       "26"
      ]
     },
     "execution_count": 29,
     "metadata": {},
     "output_type": "execute_result"
    }
   ],
   "source": [
    "print('Elementos distintos en tipos de crédito')\n",
    "df_reports.credit_type.nunique()"
   ]
  },
  {
   "cell_type": "code",
   "execution_count": 30,
   "id": "529014b0-fdb2-496c-a26f-f002cd32cca9",
   "metadata": {},
   "outputs": [
    {
     "name": "stdout",
     "output_type": "stream",
     "text": [
      "Elementos distintos en frecuencia de pago\n"
     ]
    },
    {
     "data": {
      "text/plain": [
       "10"
      ]
     },
     "execution_count": 30,
     "metadata": {},
     "output_type": "execute_result"
    }
   ],
   "source": [
    "print('Elementos distintos en frecuencia de pago')\n",
    "df_reports.payment_frequency.nunique()"
   ]
  },
  {
   "cell_type": "code",
   "execution_count": 31,
   "id": "67aeae73-d038-41ff-b72b-1ff2bb7bf799",
   "metadata": {},
   "outputs": [
    {
     "name": "stdout",
     "output_type": "stream",
     "text": [
      "Conversión de columnas categóricas en DataFrames, recuento de valores únicos y conversión a porcentajes\n"
     ]
    },
    {
     "data": {
      "text/html": [
       "<div>\n",
       "<style scoped>\n",
       "    .dataframe tbody tr th:only-of-type {\n",
       "        vertical-align: middle;\n",
       "    }\n",
       "\n",
       "    .dataframe tbody tr th {\n",
       "        vertical-align: top;\n",
       "    }\n",
       "\n",
       "    .dataframe thead th {\n",
       "        text-align: right;\n",
       "    }\n",
       "</style>\n",
       "<table border=\"1\" class=\"dataframe\">\n",
       "  <thead>\n",
       "    <tr style=\"text-align: right;\">\n",
       "      <th></th>\n",
       "      <th>index</th>\n",
       "      <th>institution</th>\n",
       "    </tr>\n",
       "  </thead>\n",
       "  <tbody>\n",
       "    <tr>\n",
       "      <th>0</th>\n",
       "      <td>BANCO</td>\n",
       "      <td>30.79895</td>\n",
       "    </tr>\n",
       "    <tr>\n",
       "      <th>1</th>\n",
       "      <td>COMUNICACIONES</td>\n",
       "      <td>10.30106</td>\n",
       "    </tr>\n",
       "    <tr>\n",
       "      <th>2</th>\n",
       "      <td>MERCANCIA PARA HOGAR Y OFICINA</td>\n",
       "      <td>8.62714</td>\n",
       "    </tr>\n",
       "    <tr>\n",
       "      <th>3</th>\n",
       "      <td>SOCIEDAD FINANCIERA DE OBJETO MULTIPLE</td>\n",
       "      <td>7.95880</td>\n",
       "    </tr>\n",
       "    <tr>\n",
       "      <th>4</th>\n",
       "      <td>FINANCIERA</td>\n",
       "      <td>6.47495</td>\n",
       "    </tr>\n",
       "    <tr>\n",
       "      <th>5</th>\n",
       "      <td>TIENDA DEPARTAMENTAL</td>\n",
       "      <td>5.95990</td>\n",
       "    </tr>\n",
       "    <tr>\n",
       "      <th>6</th>\n",
       "      <td>TIENDA COMERCIAL</td>\n",
       "      <td>3.53179</td>\n",
       "    </tr>\n",
       "    <tr>\n",
       "      <th>7</th>\n",
       "      <td>MICROFINANCIERA</td>\n",
       "      <td>3.31106</td>\n",
       "    </tr>\n",
       "    <tr>\n",
       "      <th>8</th>\n",
       "      <td>SERVICIOS</td>\n",
       "      <td>3.07192</td>\n",
       "    </tr>\n",
       "    <tr>\n",
       "      <th>9</th>\n",
       "      <td>AUTOMOTRIZ</td>\n",
       "      <td>1.90692</td>\n",
       "    </tr>\n",
       "    <tr>\n",
       "      <th>10</th>\n",
       "      <td>SERVICIO DE TELEVISION DE PAGA</td>\n",
       "      <td>1.55129</td>\n",
       "    </tr>\n",
       "    <tr>\n",
       "      <th>11</th>\n",
       "      <td>MERCANCIA PARA LA CONSTRUCCION</td>\n",
       "      <td>1.55129</td>\n",
       "    </tr>\n",
       "    <tr>\n",
       "      <th>12</th>\n",
       "      <td>ADMINISTRADORAS DE CARTERA</td>\n",
       "      <td>1.37961</td>\n",
       "    </tr>\n",
       "    <tr>\n",
       "      <th>13</th>\n",
       "      <td>TELEFONIA CELULAR</td>\n",
       "      <td>1.37961</td>\n",
       "    </tr>\n",
       "    <tr>\n",
       "      <th>14</th>\n",
       "      <td>GOBIERNO</td>\n",
       "      <td>1.23245</td>\n",
       "    </tr>\n",
       "    <tr>\n",
       "      <th>15</th>\n",
       "      <td>GUBERNAMENTALES</td>\n",
       "      <td>1.18953</td>\n",
       "    </tr>\n",
       "    <tr>\n",
       "      <th>16</th>\n",
       "      <td>CIA Q  OTORGA</td>\n",
       "      <td>1.03624</td>\n",
       "    </tr>\n",
       "    <tr>\n",
       "      <th>17</th>\n",
       "      <td>COBRANZA</td>\n",
       "      <td>0.98105</td>\n",
       "    </tr>\n",
       "    <tr>\n",
       "      <th>18</th>\n",
       "      <td>SOFOL PRESTAMO PERSONAL</td>\n",
       "      <td>0.96266</td>\n",
       "    </tr>\n",
       "    <tr>\n",
       "      <th>19</th>\n",
       "      <td>TELEFONIA LOCAL Y DE LARGA DISTANCIA</td>\n",
       "      <td>0.82163</td>\n",
       "    </tr>\n",
       "    <tr>\n",
       "      <th>20</th>\n",
       "      <td>FONDOS Y FIDEICOMISOS</td>\n",
       "      <td>0.79097</td>\n",
       "    </tr>\n",
       "    <tr>\n",
       "      <th>21</th>\n",
       "      <td>KONFIO</td>\n",
       "      <td>0.75418</td>\n",
       "    </tr>\n",
       "    <tr>\n",
       "      <th>22</th>\n",
       "      <td>HIPOTECAGOBIERNO</td>\n",
       "      <td>0.66221</td>\n",
       "    </tr>\n",
       "    <tr>\n",
       "      <th>23</th>\n",
       "      <td>SOCIEDADES FINANCIERAS POPULARES</td>\n",
       "      <td>0.60090</td>\n",
       "    </tr>\n",
       "    <tr>\n",
       "      <th>24</th>\n",
       "      <td>COOPERATIVA</td>\n",
       "      <td>0.43534</td>\n",
       "    </tr>\n",
       "    <tr>\n",
       "      <th>25</th>\n",
       "      <td>TIENDA DE ROPA</td>\n",
       "      <td>0.41082</td>\n",
       "    </tr>\n",
       "    <tr>\n",
       "      <th>26</th>\n",
       "      <td>CAJAS DE AHORRO</td>\n",
       "      <td>0.40468</td>\n",
       "    </tr>\n",
       "    <tr>\n",
       "      <th>27</th>\n",
       "      <td>OTRAS FINANCIERA</td>\n",
       "      <td>0.36176</td>\n",
       "    </tr>\n",
       "    <tr>\n",
       "      <th>28</th>\n",
       "      <td>COMPANIA DE PRESTAMO PERSONAL</td>\n",
       "      <td>0.32497</td>\n",
       "    </tr>\n",
       "    <tr>\n",
       "      <th>29</th>\n",
       "      <td>SERVS. GRALES.</td>\n",
       "      <td>0.19621</td>\n",
       "    </tr>\n",
       "    <tr>\n",
       "      <th>30</th>\n",
       "      <td>VENTA POR CATALOGO</td>\n",
       "      <td>0.14716</td>\n",
       "    </tr>\n",
       "    <tr>\n",
       "      <th>31</th>\n",
       "      <td>COMPANIA DE FINANCIAMIENTO AUTOMOTRIZ</td>\n",
       "      <td>0.10424</td>\n",
       "    </tr>\n",
       "    <tr>\n",
       "      <th>32</th>\n",
       "      <td>HIPOTECARIA</td>\n",
       "      <td>0.09811</td>\n",
       "    </tr>\n",
       "    <tr>\n",
       "      <th>33</th>\n",
       "      <td>COOPERATIVA DE AHORRO Y CREDITO</td>\n",
       "      <td>0.09811</td>\n",
       "    </tr>\n",
       "    <tr>\n",
       "      <th>34</th>\n",
       "      <td>SIC</td>\n",
       "      <td>0.08584</td>\n",
       "    </tr>\n",
       "    <tr>\n",
       "      <th>35</th>\n",
       "      <td>TIENDA DE AUTOSERVICIO</td>\n",
       "      <td>0.07971</td>\n",
       "    </tr>\n",
       "    <tr>\n",
       "      <th>36</th>\n",
       "      <td>FONDOS Y FIDEIC</td>\n",
       "      <td>0.07358</td>\n",
       "    </tr>\n",
       "    <tr>\n",
       "      <th>37</th>\n",
       "      <td>EDUCACION</td>\n",
       "      <td>0.05518</td>\n",
       "    </tr>\n",
       "    <tr>\n",
       "      <th>38</th>\n",
       "      <td>ARRENDAMIENTO</td>\n",
       "      <td>0.04905</td>\n",
       "    </tr>\n",
       "    <tr>\n",
       "      <th>39</th>\n",
       "      <td>BIENES RAICES</td>\n",
       "      <td>0.04292</td>\n",
       "    </tr>\n",
       "    <tr>\n",
       "      <th>40</th>\n",
       "      <td>MIC CREDITO PERS</td>\n",
       "      <td>0.03679</td>\n",
       "    </tr>\n",
       "    <tr>\n",
       "      <th>41</th>\n",
       "      <td>AUTOFINANCIAMIENTO</td>\n",
       "      <td>0.03679</td>\n",
       "    </tr>\n",
       "    <tr>\n",
       "      <th>42</th>\n",
       "      <td>SOFOL EMPRESARIAL</td>\n",
       "      <td>0.02453</td>\n",
       "    </tr>\n",
       "    <tr>\n",
       "      <th>43</th>\n",
       "      <td>COMERCIAL</td>\n",
       "      <td>0.02453</td>\n",
       "    </tr>\n",
       "    <tr>\n",
       "      <th>44</th>\n",
       "      <td>ARRENDADORA</td>\n",
       "      <td>0.01226</td>\n",
       "    </tr>\n",
       "    <tr>\n",
       "      <th>45</th>\n",
       "      <td>HIPOTECARIO NO BANCARIO</td>\n",
       "      <td>0.01226</td>\n",
       "    </tr>\n",
       "    <tr>\n",
       "      <th>46</th>\n",
       "      <td>CABLEVISION DF</td>\n",
       "      <td>0.01226</td>\n",
       "    </tr>\n",
       "    <tr>\n",
       "      <th>47</th>\n",
       "      <td>FACTORAJE</td>\n",
       "      <td>0.00613</td>\n",
       "    </tr>\n",
       "    <tr>\n",
       "      <th>48</th>\n",
       "      <td>FONDOS Y FIDEICO</td>\n",
       "      <td>0.00613</td>\n",
       "    </tr>\n",
       "    <tr>\n",
       "      <th>49</th>\n",
       "      <td>KONFIO-10319</td>\n",
       "      <td>0.00613</td>\n",
       "    </tr>\n",
       "    <tr>\n",
       "      <th>50</th>\n",
       "      <td>COMPANIA DE FINANCIAMIENTO DE MOTOCICLET</td>\n",
       "      <td>0.00613</td>\n",
       "    </tr>\n",
       "    <tr>\n",
       "      <th>51</th>\n",
       "      <td>KONFIO-10222</td>\n",
       "      <td>0.00613</td>\n",
       "    </tr>\n",
       "    <tr>\n",
       "      <th>52</th>\n",
       "      <td>TELCELMETRO</td>\n",
       "      <td>0.00613</td>\n",
       "    </tr>\n",
       "  </tbody>\n",
       "</table>\n",
       "</div>"
      ],
      "text/plain": [
       "                                       index  institution\n",
       "0                                      BANCO     30.79895\n",
       "1                             COMUNICACIONES     10.30106\n",
       "2             MERCANCIA PARA HOGAR Y OFICINA      8.62714\n",
       "3     SOCIEDAD FINANCIERA DE OBJETO MULTIPLE      7.95880\n",
       "4                                 FINANCIERA      6.47495\n",
       "5                       TIENDA DEPARTAMENTAL      5.95990\n",
       "6                           TIENDA COMERCIAL      3.53179\n",
       "7                            MICROFINANCIERA      3.31106\n",
       "8                                  SERVICIOS      3.07192\n",
       "9                                 AUTOMOTRIZ      1.90692\n",
       "10            SERVICIO DE TELEVISION DE PAGA      1.55129\n",
       "11            MERCANCIA PARA LA CONSTRUCCION      1.55129\n",
       "12                ADMINISTRADORAS DE CARTERA      1.37961\n",
       "13                         TELEFONIA CELULAR      1.37961\n",
       "14                                  GOBIERNO      1.23245\n",
       "15                           GUBERNAMENTALES      1.18953\n",
       "16                             CIA Q  OTORGA      1.03624\n",
       "17                                  COBRANZA      0.98105\n",
       "18                   SOFOL PRESTAMO PERSONAL      0.96266\n",
       "19      TELEFONIA LOCAL Y DE LARGA DISTANCIA      0.82163\n",
       "20                     FONDOS Y FIDEICOMISOS      0.79097\n",
       "21                                    KONFIO      0.75418\n",
       "22                          HIPOTECAGOBIERNO      0.66221\n",
       "23          SOCIEDADES FINANCIERAS POPULARES      0.60090\n",
       "24                               COOPERATIVA      0.43534\n",
       "25                            TIENDA DE ROPA      0.41082\n",
       "26                           CAJAS DE AHORRO      0.40468\n",
       "27                          OTRAS FINANCIERA      0.36176\n",
       "28             COMPANIA DE PRESTAMO PERSONAL      0.32497\n",
       "29                            SERVS. GRALES.      0.19621\n",
       "30                        VENTA POR CATALOGO      0.14716\n",
       "31     COMPANIA DE FINANCIAMIENTO AUTOMOTRIZ      0.10424\n",
       "32                               HIPOTECARIA      0.09811\n",
       "33           COOPERATIVA DE AHORRO Y CREDITO      0.09811\n",
       "34                                       SIC      0.08584\n",
       "35                    TIENDA DE AUTOSERVICIO      0.07971\n",
       "36                           FONDOS Y FIDEIC      0.07358\n",
       "37                                 EDUCACION      0.05518\n",
       "38                             ARRENDAMIENTO      0.04905\n",
       "39                             BIENES RAICES      0.04292\n",
       "40                          MIC CREDITO PERS      0.03679\n",
       "41                        AUTOFINANCIAMIENTO      0.03679\n",
       "42                         SOFOL EMPRESARIAL      0.02453\n",
       "43                                 COMERCIAL      0.02453\n",
       "44                               ARRENDADORA      0.01226\n",
       "45                   HIPOTECARIO NO BANCARIO      0.01226\n",
       "46                            CABLEVISION DF      0.01226\n",
       "47                                 FACTORAJE      0.00613\n",
       "48                          FONDOS Y FIDEICO      0.00613\n",
       "49                              KONFIO-10319      0.00613\n",
       "50  COMPANIA DE FINANCIAMIENTO DE MOTOCICLET      0.00613\n",
       "51                              KONFIO-10222      0.00613\n",
       "52                               TELCELMETRO      0.00613"
      ]
     },
     "metadata": {},
     "output_type": "display_data"
    },
    {
     "name": "stdout",
     "output_type": "stream",
     "text": [
      "\n",
      "\n"
     ]
    },
    {
     "data": {
      "text/html": [
       "<div>\n",
       "<style scoped>\n",
       "    .dataframe tbody tr th:only-of-type {\n",
       "        vertical-align: middle;\n",
       "    }\n",
       "\n",
       "    .dataframe tbody tr th {\n",
       "        vertical-align: top;\n",
       "    }\n",
       "\n",
       "    .dataframe thead th {\n",
       "        text-align: right;\n",
       "    }\n",
       "</style>\n",
       "<table border=\"1\" class=\"dataframe\">\n",
       "  <thead>\n",
       "    <tr style=\"text-align: right;\">\n",
       "      <th></th>\n",
       "      <th>index</th>\n",
       "      <th>account_type</th>\n",
       "    </tr>\n",
       "  </thead>\n",
       "  <tbody>\n",
       "    <tr>\n",
       "      <th>0</th>\n",
       "      <td>Pagos Fijos</td>\n",
       "      <td>49.56159</td>\n",
       "    </tr>\n",
       "    <tr>\n",
       "      <th>1</th>\n",
       "      <td>Revolvente</td>\n",
       "      <td>28.52413</td>\n",
       "    </tr>\n",
       "    <tr>\n",
       "      <th>2</th>\n",
       "      <td>Sin Límite Preestablecido</td>\n",
       "      <td>16.75149</td>\n",
       "    </tr>\n",
       "    <tr>\n",
       "      <th>3</th>\n",
       "      <td>Crédito Prendario</td>\n",
       "      <td>3.22521</td>\n",
       "    </tr>\n",
       "    <tr>\n",
       "      <th>4</th>\n",
       "      <td>Hipoteca</td>\n",
       "      <td>1.67392</td>\n",
       "    </tr>\n",
       "    <tr>\n",
       "      <th>5</th>\n",
       "      <td>Quirografiario</td>\n",
       "      <td>0.22074</td>\n",
       "    </tr>\n",
       "    <tr>\n",
       "      <th>6</th>\n",
       "      <td>Crédito de Habilitación de Avío</td>\n",
       "      <td>0.03066</td>\n",
       "    </tr>\n",
       "    <tr>\n",
       "      <th>7</th>\n",
       "      <td>Crédito Refaccionario</td>\n",
       "      <td>0.01226</td>\n",
       "    </tr>\n",
       "  </tbody>\n",
       "</table>\n",
       "</div>"
      ],
      "text/plain": [
       "                             index  account_type\n",
       "0                      Pagos Fijos      49.56159\n",
       "1                       Revolvente      28.52413\n",
       "2        Sin Límite Preestablecido      16.75149\n",
       "3                Crédito Prendario       3.22521\n",
       "4                         Hipoteca       1.67392\n",
       "5                   Quirografiario       0.22074\n",
       "6  Crédito de Habilitación de Avío       0.03066\n",
       "7            Crédito Refaccionario       0.01226"
      ]
     },
     "metadata": {},
     "output_type": "display_data"
    },
    {
     "name": "stdout",
     "output_type": "stream",
     "text": [
      "\n",
      "\n"
     ]
    },
    {
     "data": {
      "text/html": [
       "<div>\n",
       "<style scoped>\n",
       "    .dataframe tbody tr th:only-of-type {\n",
       "        vertical-align: middle;\n",
       "    }\n",
       "\n",
       "    .dataframe tbody tr th {\n",
       "        vertical-align: top;\n",
       "    }\n",
       "\n",
       "    .dataframe thead th {\n",
       "        text-align: right;\n",
       "    }\n",
       "</style>\n",
       "<table border=\"1\" class=\"dataframe\">\n",
       "  <thead>\n",
       "    <tr style=\"text-align: right;\">\n",
       "      <th></th>\n",
       "      <th>index</th>\n",
       "      <th>credit_type</th>\n",
       "    </tr>\n",
       "  </thead>\n",
       "  <tbody>\n",
       "    <tr>\n",
       "      <th>0</th>\n",
       "      <td>Préstamo Personal</td>\n",
       "      <td>35.05426</td>\n",
       "    </tr>\n",
       "    <tr>\n",
       "      <th>1</th>\n",
       "      <td>Línea de Crédito</td>\n",
       "      <td>22.86468</td>\n",
       "    </tr>\n",
       "    <tr>\n",
       "      <th>2</th>\n",
       "      <td>Tarjeta de Crédito</td>\n",
       "      <td>21.09878</td>\n",
       "    </tr>\n",
       "    <tr>\n",
       "      <th>3</th>\n",
       "      <td>Aparatos - Muebles</td>\n",
       "      <td>4.76424</td>\n",
       "    </tr>\n",
       "    <tr>\n",
       "      <th>4</th>\n",
       "      <td>Otros (Múltiples Créditos)</td>\n",
       "      <td>3.15163</td>\n",
       "    </tr>\n",
       "    <tr>\n",
       "      <th>5</th>\n",
       "      <td>Compra de Automóvil</td>\n",
       "      <td>2.66724</td>\n",
       "    </tr>\n",
       "    <tr>\n",
       "      <th>6</th>\n",
       "      <td>Préstamo de Nomina</td>\n",
       "      <td>1.60647</td>\n",
       "    </tr>\n",
       "    <tr>\n",
       "      <th>7</th>\n",
       "      <td>Crédito al Consumo</td>\n",
       "      <td>1.59421</td>\n",
       "    </tr>\n",
       "    <tr>\n",
       "      <th>8</th>\n",
       "      <td>Bienes Raíces</td>\n",
       "      <td>1.33669</td>\n",
       "    </tr>\n",
       "    <tr>\n",
       "      <th>9</th>\n",
       "      <td>Crédito Fiscal</td>\n",
       "      <td>1.26924</td>\n",
       "    </tr>\n",
       "    <tr>\n",
       "      <th>10</th>\n",
       "      <td>Crédito Personal al Consumo</td>\n",
       "      <td>1.07916</td>\n",
       "    </tr>\n",
       "    <tr>\n",
       "      <th>11</th>\n",
       "      <td>Grupo Solidario</td>\n",
       "      <td>0.99332</td>\n",
       "    </tr>\n",
       "    <tr>\n",
       "      <th>12</th>\n",
       "      <td>Arrendamiento Automotriz</td>\n",
       "      <td>0.63155</td>\n",
       "    </tr>\n",
       "    <tr>\n",
       "      <th>13</th>\n",
       "      <td>Arrendamiento</td>\n",
       "      <td>0.45987</td>\n",
       "    </tr>\n",
       "    <tr>\n",
       "      <th>14</th>\n",
       "      <td>Hipotecario O Vivienda</td>\n",
       "      <td>0.35563</td>\n",
       "    </tr>\n",
       "    <tr>\n",
       "      <th>15</th>\n",
       "      <td>Préstamo Garantizado</td>\n",
       "      <td>0.33111</td>\n",
       "    </tr>\n",
       "    <tr>\n",
       "      <th>16</th>\n",
       "      <td>Física Actividad Empresarial</td>\n",
       "      <td>0.21461</td>\n",
       "    </tr>\n",
       "    <tr>\n",
       "      <th>17</th>\n",
       "      <td>Mejoras a la Casa</td>\n",
       "      <td>0.15942</td>\n",
       "    </tr>\n",
       "    <tr>\n",
       "      <th>18</th>\n",
       "      <td>Desconocido</td>\n",
       "      <td>0.14103</td>\n",
       "    </tr>\n",
       "    <tr>\n",
       "      <th>19</th>\n",
       "      <td>Préstamo para estudiante</td>\n",
       "      <td>0.06132</td>\n",
       "    </tr>\n",
       "    <tr>\n",
       "      <th>20</th>\n",
       "      <td>Préstamo Quirografiario</td>\n",
       "      <td>0.05518</td>\n",
       "    </tr>\n",
       "    <tr>\n",
       "      <th>21</th>\n",
       "      <td>Préstamo no garantizado</td>\n",
       "      <td>0.04292</td>\n",
       "    </tr>\n",
       "    <tr>\n",
       "      <th>22</th>\n",
       "      <td>Préstamo Empresarial</td>\n",
       "      <td>0.02453</td>\n",
       "    </tr>\n",
       "    <tr>\n",
       "      <th>23</th>\n",
       "      <td>Factoraje</td>\n",
       "      <td>0.02453</td>\n",
       "    </tr>\n",
       "    <tr>\n",
       "      <th>24</th>\n",
       "      <td>Tarjeta Departamental</td>\n",
       "      <td>0.01226</td>\n",
       "    </tr>\n",
       "    <tr>\n",
       "      <th>25</th>\n",
       "      <td>Banca Comunal</td>\n",
       "      <td>0.00613</td>\n",
       "    </tr>\n",
       "  </tbody>\n",
       "</table>\n",
       "</div>"
      ],
      "text/plain": [
       "                           index  credit_type\n",
       "0             Préstamo Personal      35.05426\n",
       "1               Línea de Crédito     22.86468\n",
       "2             Tarjeta de Crédito     21.09878\n",
       "3             Aparatos - Muebles      4.76424\n",
       "4     Otros (Múltiples Créditos)      3.15163\n",
       "5            Compra de Automóvil      2.66724\n",
       "6            Préstamo de Nomina      1.60647\n",
       "7             Crédito al Consumo      1.59421\n",
       "8                  Bienes Raíces      1.33669\n",
       "9                 Crédito Fiscal      1.26924\n",
       "10   Crédito Personal al Consumo      1.07916\n",
       "11               Grupo Solidario      0.99332\n",
       "12      Arrendamiento Automotriz      0.63155\n",
       "13                 Arrendamiento      0.45987\n",
       "14        Hipotecario O Vivienda      0.35563\n",
       "15          Préstamo Garantizado      0.33111\n",
       "16  Física Actividad Empresarial      0.21461\n",
       "17             Mejoras a la Casa      0.15942\n",
       "18                   Desconocido      0.14103\n",
       "19      Préstamo para estudiante      0.06132\n",
       "20       Préstamo Quirografiario      0.05518\n",
       "21       Préstamo no garantizado      0.04292\n",
       "22          Préstamo Empresarial      0.02453\n",
       "23                     Factoraje      0.02453\n",
       "24         Tarjeta Departamental      0.01226\n",
       "25                 Banca Comunal      0.00613"
      ]
     },
     "metadata": {},
     "output_type": "display_data"
    },
    {
     "name": "stdout",
     "output_type": "stream",
     "text": [
      "\n",
      "\n"
     ]
    },
    {
     "data": {
      "text/html": [
       "<div>\n",
       "<style scoped>\n",
       "    .dataframe tbody tr th:only-of-type {\n",
       "        vertical-align: middle;\n",
       "    }\n",
       "\n",
       "    .dataframe tbody tr th {\n",
       "        vertical-align: top;\n",
       "    }\n",
       "\n",
       "    .dataframe thead th {\n",
       "        text-align: right;\n",
       "    }\n",
       "</style>\n",
       "<table border=\"1\" class=\"dataframe\">\n",
       "  <thead>\n",
       "    <tr style=\"text-align: right;\">\n",
       "      <th></th>\n",
       "      <th>index</th>\n",
       "      <th>payment_frequency</th>\n",
       "    </tr>\n",
       "  </thead>\n",
       "  <tbody>\n",
       "    <tr>\n",
       "      <th>0</th>\n",
       "      <td>Mensual</td>\n",
       "      <td>68.62276</td>\n",
       "    </tr>\n",
       "    <tr>\n",
       "      <th>1</th>\n",
       "      <td>Semanal</td>\n",
       "      <td>16.74638</td>\n",
       "    </tr>\n",
       "    <tr>\n",
       "      <th>2</th>\n",
       "      <td>Quincenal</td>\n",
       "      <td>6.15036</td>\n",
       "    </tr>\n",
       "    <tr>\n",
       "      <th>3</th>\n",
       "      <td>Una sola exhibición</td>\n",
       "      <td>5.36546</td>\n",
       "    </tr>\n",
       "    <tr>\n",
       "      <th>4</th>\n",
       "      <td>Catorcenal</td>\n",
       "      <td>1.80280</td>\n",
       "    </tr>\n",
       "    <tr>\n",
       "      <th>5</th>\n",
       "      <td>Pago mínimo para cuentas revolventes</td>\n",
       "      <td>0.60093</td>\n",
       "    </tr>\n",
       "    <tr>\n",
       "      <th>6</th>\n",
       "      <td>Anual</td>\n",
       "      <td>0.46603</td>\n",
       "    </tr>\n",
       "    <tr>\n",
       "      <th>7</th>\n",
       "      <td>Bimestral</td>\n",
       "      <td>0.18396</td>\n",
       "    </tr>\n",
       "    <tr>\n",
       "      <th>8</th>\n",
       "      <td>Trimestral</td>\n",
       "      <td>0.05519</td>\n",
       "    </tr>\n",
       "    <tr>\n",
       "      <th>9</th>\n",
       "      <td>Deducción del salario</td>\n",
       "      <td>0.00613</td>\n",
       "    </tr>\n",
       "  </tbody>\n",
       "</table>\n",
       "</div>"
      ],
      "text/plain": [
       "                                  index  payment_frequency\n",
       "0                               Mensual           68.62276\n",
       "1                               Semanal           16.74638\n",
       "2                             Quincenal            6.15036\n",
       "3                   Una sola exhibición            5.36546\n",
       "4                            Catorcenal            1.80280\n",
       "5  Pago mínimo para cuentas revolventes            0.60093\n",
       "6                                 Anual            0.46603\n",
       "7                             Bimestral            0.18396\n",
       "8                            Trimestral            0.05519\n",
       "9                 Deducción del salario            0.00613"
      ]
     },
     "metadata": {},
     "output_type": "display_data"
    }
   ],
   "source": [
    "print('Conversión de columnas categóricas en DataFrames, recuento de valores únicos y conversión a porcentajes')\n",
    "# Se imprimieron los valores únicos de la columna institution y se encontraron dos valores denominados BANCO y BANCOS, \n",
    "# por lo que se decidió unir BANCOS a BANCO, dejando un solo valor\n",
    "df_reports['institution'].replace({'BANCOS':'BANCO'}, inplace=True)\n",
    "institution = pd.DataFrame(df_reports['institution'].value_counts(normalize=True)*100).reset_index()\n",
    "display(institution)\n",
    "print('\\n')\n",
    "account_type = pd.DataFrame(df_reports['account_type'].value_counts(normalize=True)*100).reset_index()\n",
    "display(account_type)\n",
    "print('\\n')\n",
    "credit_type = pd.DataFrame(df_reports['credit_type'].value_counts(normalize=True)*100).reset_index()\n",
    "display(credit_type)\n",
    "print('\\n')\n",
    "payment_freq = pd.DataFrame(df_reports['payment_frequency'].value_counts(normalize=True)*100).reset_index()\n",
    "display(payment_freq)"
   ]
  },
  {
   "cell_type": "code",
   "execution_count": 33,
   "id": "fb8fee10-d1bf-481e-994a-ece0a02d2051",
   "metadata": {},
   "outputs": [],
   "source": [
    "# Generación de archivo excel de las columnas categóricas\n",
    "institution.to_excel('Instituciones.xlsx')\n",
    "account_type.to_excel('Tpos de cuentas.xlsx')\n",
    "credit_type.to_excel('Tpos de credito.xlsx')\n",
    "payment_freq.to_excel('Frecuencia de pago.xlsx')"
   ]
  },
  {
   "cell_type": "code",
   "execution_count": 34,
   "id": "353389dd-e373-477c-ae1f-cf0cd6742a45",
   "metadata": {},
   "outputs": [
    {
     "name": "stdout",
     "output_type": "stream",
     "text": [
      "Número de pagos retrasados\n"
     ]
    },
    {
     "data": {
      "text/plain": [
       "3541"
      ]
     },
     "execution_count": 34,
     "metadata": {},
     "output_type": "execute_result"
    }
   ],
   "source": [
    "print('Número de pagos retrasados')\n",
    "df_reports[df_reports.number_of_payments_due > 0].shape[0]"
   ]
  },
  {
   "cell_type": "code",
   "execution_count": 35,
   "id": "86a482fa-f52c-4393-89c5-e9051b0572c8",
   "metadata": {},
   "outputs": [
    {
     "name": "stdout",
     "output_type": "stream",
     "text": [
      "Promedio de saldo vencido\n"
     ]
    },
    {
     "data": {
      "text/plain": [
       "3618.910390088322"
      ]
     },
     "execution_count": 35,
     "metadata": {},
     "output_type": "execute_result"
    }
   ],
   "source": [
    "print('Promedio de saldo vencido')\n",
    "df_reports['past_due_balance'].mean()"
   ]
  },
  {
   "cell_type": "code",
   "execution_count": 36,
   "id": "78b37011-1716-4c78-a3ed-0db66e752412",
   "metadata": {},
   "outputs": [
    {
     "name": "stdout",
     "output_type": "stream",
     "text": [
      "Promedio de duración del crédito en pagos\n"
     ]
    },
    {
     "data": {
      "text/plain": [
       "22.405765920826163"
      ]
     },
     "execution_count": 36,
     "metadata": {},
     "output_type": "execute_result"
    }
   ],
   "source": [
    "print('Promedio de duración del crédito en pagos')\n",
    "df_reports['total_credit_payments'].mean()"
   ]
  },
  {
   "cell_type": "code",
   "execution_count": 37,
   "id": "5745dee4-3280-4446-9b94-cdee4900ff15",
   "metadata": {},
   "outputs": [
    {
     "data": {
      "text/html": [
       "<div>\n",
       "<style scoped>\n",
       "    .dataframe tbody tr th:only-of-type {\n",
       "        vertical-align: middle;\n",
       "    }\n",
       "\n",
       "    .dataframe tbody tr th {\n",
       "        vertical-align: top;\n",
       "    }\n",
       "\n",
       "    .dataframe thead th {\n",
       "        text-align: right;\n",
       "    }\n",
       "</style>\n",
       "<table border=\"1\" class=\"dataframe\">\n",
       "  <thead>\n",
       "    <tr style=\"text-align: right;\">\n",
       "      <th></th>\n",
       "      <th>id</th>\n",
       "      <th>monthly_income</th>\n",
       "      <th>monthly_outcome</th>\n",
       "      <th>class</th>\n",
       "      <th>user_id</th>\n",
       "      <th>institution</th>\n",
       "      <th>account_type</th>\n",
       "      <th>credit_type</th>\n",
       "      <th>total_credit_payments</th>\n",
       "      <th>payment_frequency</th>\n",
       "      <th>...</th>\n",
       "      <th>account_opening_date</th>\n",
       "      <th>account_closing_date</th>\n",
       "      <th>maximum_credit_amount</th>\n",
       "      <th>current_balance</th>\n",
       "      <th>credit_limit</th>\n",
       "      <th>past_due_balance</th>\n",
       "      <th>number_of_payments_due</th>\n",
       "      <th>worst_delinquency</th>\n",
       "      <th>worst_delinquency_date</th>\n",
       "      <th>worst_delinquency_past_due_balance</th>\n",
       "    </tr>\n",
       "  </thead>\n",
       "  <tbody>\n",
       "    <tr>\n",
       "      <th>0</th>\n",
       "      <td>0</td>\n",
       "      <td>255359</td>\n",
       "      <td>151439</td>\n",
       "      <td>1</td>\n",
       "      <td>0</td>\n",
       "      <td>MERCANCIA PARA HOGAR Y OFICINA</td>\n",
       "      <td>Pagos Fijos</td>\n",
       "      <td>Línea de Crédito</td>\n",
       "      <td>78.00000</td>\n",
       "      <td>Semanal</td>\n",
       "      <td>...</td>\n",
       "      <td>11/10/14</td>\n",
       "      <td>12/5/15</td>\n",
       "      <td>9826.00000</td>\n",
       "      <td>0.00000</td>\n",
       "      <td>0.00000</td>\n",
       "      <td>0.00000</td>\n",
       "      <td>0.00000</td>\n",
       "      <td>0.00000</td>\n",
       "      <td>NaN</td>\n",
       "      <td>0.00000</td>\n",
       "    </tr>\n",
       "    <tr>\n",
       "      <th>1</th>\n",
       "      <td>0</td>\n",
       "      <td>255359</td>\n",
       "      <td>151439</td>\n",
       "      <td>1</td>\n",
       "      <td>0</td>\n",
       "      <td>MERCANCIA PARA HOGAR Y OFICINA</td>\n",
       "      <td>Pagos Fijos</td>\n",
       "      <td>Préstamo Personal</td>\n",
       "      <td>80.00000</td>\n",
       "      <td>Semanal</td>\n",
       "      <td>...</td>\n",
       "      <td>12/5/15</td>\n",
       "      <td>10/14/16</td>\n",
       "      <td>16000.00000</td>\n",
       "      <td>0.00000</td>\n",
       "      <td>0.00000</td>\n",
       "      <td>0.00000</td>\n",
       "      <td>3.00000</td>\n",
       "      <td>1.00000</td>\n",
       "      <td>5/28/16</td>\n",
       "      <td>200.00000</td>\n",
       "    </tr>\n",
       "    <tr>\n",
       "      <th>2</th>\n",
       "      <td>0</td>\n",
       "      <td>255359</td>\n",
       "      <td>151439</td>\n",
       "      <td>1</td>\n",
       "      <td>0</td>\n",
       "      <td>MERCANCIA PARA HOGAR Y OFICINA</td>\n",
       "      <td>Pagos Fijos</td>\n",
       "      <td>Línea de Crédito</td>\n",
       "      <td>102.00000</td>\n",
       "      <td>Semanal</td>\n",
       "      <td>...</td>\n",
       "      <td>9/2/16</td>\n",
       "      <td>NaN</td>\n",
       "      <td>10205.00000</td>\n",
       "      <td>3505.00000</td>\n",
       "      <td>0.00000</td>\n",
       "      <td>0.00000</td>\n",
       "      <td>3.00000</td>\n",
       "      <td>1.00000</td>\n",
       "      <td>3/3/17</td>\n",
       "      <td>100.00000</td>\n",
       "    </tr>\n",
       "    <tr>\n",
       "      <th>3</th>\n",
       "      <td>0</td>\n",
       "      <td>255359</td>\n",
       "      <td>151439</td>\n",
       "      <td>1</td>\n",
       "      <td>0</td>\n",
       "      <td>MERCANCIA PARA HOGAR Y OFICINA</td>\n",
       "      <td>Pagos Fijos</td>\n",
       "      <td>Préstamo Personal</td>\n",
       "      <td>120.00000</td>\n",
       "      <td>Semanal</td>\n",
       "      <td>...</td>\n",
       "      <td>10/14/16</td>\n",
       "      <td>NaN</td>\n",
       "      <td>22920.00000</td>\n",
       "      <td>11269.00000</td>\n",
       "      <td>0.00000</td>\n",
       "      <td>0.00000</td>\n",
       "      <td>3.00000</td>\n",
       "      <td>1.00000</td>\n",
       "      <td>3/3/17</td>\n",
       "      <td>191.00000</td>\n",
       "    </tr>\n",
       "    <tr>\n",
       "      <th>4</th>\n",
       "      <td>0</td>\n",
       "      <td>255359</td>\n",
       "      <td>151439</td>\n",
       "      <td>1</td>\n",
       "      <td>0</td>\n",
       "      <td>KONFIO</td>\n",
       "      <td>Pagos Fijos</td>\n",
       "      <td>Préstamo Personal</td>\n",
       "      <td>12.00000</td>\n",
       "      <td>Quincenal</td>\n",
       "      <td>...</td>\n",
       "      <td>12/27/16</td>\n",
       "      <td>6/27/17</td>\n",
       "      <td>150000.00000</td>\n",
       "      <td>0.00000</td>\n",
       "      <td>0.00000</td>\n",
       "      <td>0.00000</td>\n",
       "      <td>0.00000</td>\n",
       "      <td>0.00000</td>\n",
       "      <td>NaN</td>\n",
       "      <td>0.00000</td>\n",
       "    </tr>\n",
       "  </tbody>\n",
       "</table>\n",
       "<p>5 rows × 21 columns</p>\n",
       "</div>"
      ],
      "text/plain": [
       "   id  monthly_income  monthly_outcome  class  user_id  \\\n",
       "0   0          255359           151439      1        0   \n",
       "1   0          255359           151439      1        0   \n",
       "2   0          255359           151439      1        0   \n",
       "3   0          255359           151439      1        0   \n",
       "4   0          255359           151439      1        0   \n",
       "\n",
       "                      institution account_type         credit_type  \\\n",
       "0  MERCANCIA PARA HOGAR Y OFICINA  Pagos Fijos    Línea de Crédito   \n",
       "1  MERCANCIA PARA HOGAR Y OFICINA  Pagos Fijos  Préstamo Personal    \n",
       "2  MERCANCIA PARA HOGAR Y OFICINA  Pagos Fijos    Línea de Crédito   \n",
       "3  MERCANCIA PARA HOGAR Y OFICINA  Pagos Fijos  Préstamo Personal    \n",
       "4                          KONFIO  Pagos Fijos  Préstamo Personal    \n",
       "\n",
       "   total_credit_payments payment_frequency  ...  account_opening_date  \\\n",
       "0               78.00000           Semanal  ...              11/10/14   \n",
       "1               80.00000           Semanal  ...               12/5/15   \n",
       "2              102.00000           Semanal  ...                9/2/16   \n",
       "3              120.00000           Semanal  ...              10/14/16   \n",
       "4               12.00000         Quincenal  ...              12/27/16   \n",
       "\n",
       "  account_closing_date maximum_credit_amount  current_balance  credit_limit  \\\n",
       "0              12/5/15            9826.00000          0.00000       0.00000   \n",
       "1             10/14/16           16000.00000          0.00000       0.00000   \n",
       "2                  NaN           10205.00000       3505.00000       0.00000   \n",
       "3                  NaN           22920.00000      11269.00000       0.00000   \n",
       "4              6/27/17          150000.00000          0.00000       0.00000   \n",
       "\n",
       "   past_due_balance  number_of_payments_due  worst_delinquency  \\\n",
       "0           0.00000                 0.00000            0.00000   \n",
       "1           0.00000                 3.00000            1.00000   \n",
       "2           0.00000                 3.00000            1.00000   \n",
       "3           0.00000                 3.00000            1.00000   \n",
       "4           0.00000                 0.00000            0.00000   \n",
       "\n",
       "   worst_delinquency_date worst_delinquency_past_due_balance  \n",
       "0                     NaN                            0.00000  \n",
       "1                 5/28/16                          200.00000  \n",
       "2                  3/3/17                          100.00000  \n",
       "3                  3/3/17                          191.00000  \n",
       "4                     NaN                            0.00000  \n",
       "\n",
       "[5 rows x 21 columns]"
      ]
     },
     "metadata": {},
     "output_type": "display_data"
    },
    {
     "name": "stdout",
     "output_type": "stream",
     "text": [
      "\n",
      "\n"
     ]
    },
    {
     "data": {
      "text/html": [
       "<div>\n",
       "<style scoped>\n",
       "    .dataframe tbody tr th:only-of-type {\n",
       "        vertical-align: middle;\n",
       "    }\n",
       "\n",
       "    .dataframe tbody tr th {\n",
       "        vertical-align: top;\n",
       "    }\n",
       "\n",
       "    .dataframe thead th {\n",
       "        text-align: right;\n",
       "    }\n",
       "</style>\n",
       "<table border=\"1\" class=\"dataframe\">\n",
       "  <thead>\n",
       "    <tr style=\"text-align: right;\">\n",
       "      <th></th>\n",
       "      <th>id</th>\n",
       "      <th>monthly_income</th>\n",
       "      <th>monthly_outcome</th>\n",
       "      <th>class</th>\n",
       "      <th>user_id</th>\n",
       "      <th>institution</th>\n",
       "      <th>account_type</th>\n",
       "      <th>credit_type</th>\n",
       "      <th>total_credit_payments</th>\n",
       "      <th>payment_frequency</th>\n",
       "      <th>...</th>\n",
       "      <th>account_opening_date</th>\n",
       "      <th>account_closing_date</th>\n",
       "      <th>maximum_credit_amount</th>\n",
       "      <th>current_balance</th>\n",
       "      <th>credit_limit</th>\n",
       "      <th>past_due_balance</th>\n",
       "      <th>number_of_payments_due</th>\n",
       "      <th>worst_delinquency</th>\n",
       "      <th>worst_delinquency_date</th>\n",
       "      <th>worst_delinquency_past_due_balance</th>\n",
       "    </tr>\n",
       "  </thead>\n",
       "  <tbody>\n",
       "    <tr>\n",
       "      <th>16304</th>\n",
       "      <td>999</td>\n",
       "      <td>168517</td>\n",
       "      <td>211733</td>\n",
       "      <td>1</td>\n",
       "      <td>999</td>\n",
       "      <td>SERVICIO DE TELEVISION DE PAGA</td>\n",
       "      <td>Sin Límite Preestablecido</td>\n",
       "      <td>Línea de Crédito</td>\n",
       "      <td>0.00000</td>\n",
       "      <td>Mensual</td>\n",
       "      <td>...</td>\n",
       "      <td>7/10/09</td>\n",
       "      <td>2/12/11</td>\n",
       "      <td>10000.00000</td>\n",
       "      <td>0.00000</td>\n",
       "      <td>0.00000</td>\n",
       "      <td>0.00000</td>\n",
       "      <td>0.00000</td>\n",
       "      <td>0.00000</td>\n",
       "      <td>NaN</td>\n",
       "      <td>0.00000</td>\n",
       "    </tr>\n",
       "    <tr>\n",
       "      <th>16305</th>\n",
       "      <td>999</td>\n",
       "      <td>168517</td>\n",
       "      <td>211733</td>\n",
       "      <td>1</td>\n",
       "      <td>999</td>\n",
       "      <td>TELEFONIA LOCAL Y DE LARGA DISTANCIA</td>\n",
       "      <td>Sin Límite Preestablecido</td>\n",
       "      <td>Línea de Crédito</td>\n",
       "      <td>0.00000</td>\n",
       "      <td>Mensual</td>\n",
       "      <td>...</td>\n",
       "      <td>7/8/10</td>\n",
       "      <td>NaN</td>\n",
       "      <td>5604.00000</td>\n",
       "      <td>5604.00000</td>\n",
       "      <td>0.00000</td>\n",
       "      <td>5604.00000</td>\n",
       "      <td>24.00000</td>\n",
       "      <td>13.00000</td>\n",
       "      <td>8/31/14</td>\n",
       "      <td>5604.00000</td>\n",
       "    </tr>\n",
       "    <tr>\n",
       "      <th>16306</th>\n",
       "      <td>999</td>\n",
       "      <td>168517</td>\n",
       "      <td>211733</td>\n",
       "      <td>1</td>\n",
       "      <td>999</td>\n",
       "      <td>BANCO</td>\n",
       "      <td>Revolvente</td>\n",
       "      <td>Tarjeta de Crédito</td>\n",
       "      <td>0.00000</td>\n",
       "      <td>Mensual</td>\n",
       "      <td>...</td>\n",
       "      <td>6/12/15</td>\n",
       "      <td>NaN</td>\n",
       "      <td>38938.00000</td>\n",
       "      <td>37971.00000</td>\n",
       "      <td>38938.00000</td>\n",
       "      <td>0.00000</td>\n",
       "      <td>0.00000</td>\n",
       "      <td>0.00000</td>\n",
       "      <td>NaN</td>\n",
       "      <td>0.00000</td>\n",
       "    </tr>\n",
       "    <tr>\n",
       "      <th>16307</th>\n",
       "      <td>999</td>\n",
       "      <td>168517</td>\n",
       "      <td>211733</td>\n",
       "      <td>1</td>\n",
       "      <td>999</td>\n",
       "      <td>HIPOTECAGOBIERNO</td>\n",
       "      <td>Hipoteca</td>\n",
       "      <td>Bienes Raíces</td>\n",
       "      <td>360.00000</td>\n",
       "      <td>Mensual</td>\n",
       "      <td>...</td>\n",
       "      <td>10/25/06</td>\n",
       "      <td>NaN</td>\n",
       "      <td>165602.00000</td>\n",
       "      <td>221159.00000</td>\n",
       "      <td>165602.00000</td>\n",
       "      <td>0.00000</td>\n",
       "      <td>0.00000</td>\n",
       "      <td>0.00000</td>\n",
       "      <td>NaN</td>\n",
       "      <td>0.00000</td>\n",
       "    </tr>\n",
       "    <tr>\n",
       "      <th>16308</th>\n",
       "      <td>999</td>\n",
       "      <td>168517</td>\n",
       "      <td>211733</td>\n",
       "      <td>1</td>\n",
       "      <td>999</td>\n",
       "      <td>FINANCIERA</td>\n",
       "      <td>Pagos Fijos</td>\n",
       "      <td>Préstamo Personal</td>\n",
       "      <td>1.00000</td>\n",
       "      <td>Mensual</td>\n",
       "      <td>...</td>\n",
       "      <td>2/21/09</td>\n",
       "      <td>1/31/14</td>\n",
       "      <td>4867.00000</td>\n",
       "      <td>0.00000</td>\n",
       "      <td>0.00000</td>\n",
       "      <td>0.00000</td>\n",
       "      <td>0.00000</td>\n",
       "      <td>0.00000</td>\n",
       "      <td>NaN</td>\n",
       "      <td>0.00000</td>\n",
       "    </tr>\n",
       "  </tbody>\n",
       "</table>\n",
       "<p>5 rows × 21 columns</p>\n",
       "</div>"
      ],
      "text/plain": [
       "        id  monthly_income  monthly_outcome  class  user_id  \\\n",
       "16304  999          168517           211733      1      999   \n",
       "16305  999          168517           211733      1      999   \n",
       "16306  999          168517           211733      1      999   \n",
       "16307  999          168517           211733      1      999   \n",
       "16308  999          168517           211733      1      999   \n",
       "\n",
       "                                institution               account_type  \\\n",
       "16304        SERVICIO DE TELEVISION DE PAGA  Sin Límite Preestablecido   \n",
       "16305  TELEFONIA LOCAL Y DE LARGA DISTANCIA  Sin Límite Preestablecido   \n",
       "16306                                 BANCO                 Revolvente   \n",
       "16307                      HIPOTECAGOBIERNO                   Hipoteca   \n",
       "16308                            FINANCIERA                Pagos Fijos   \n",
       "\n",
       "              credit_type  total_credit_payments payment_frequency  ...  \\\n",
       "16304    Línea de Crédito                0.00000           Mensual  ...   \n",
       "16305    Línea de Crédito                0.00000           Mensual  ...   \n",
       "16306  Tarjeta de Crédito                0.00000           Mensual  ...   \n",
       "16307       Bienes Raíces              360.00000           Mensual  ...   \n",
       "16308  Préstamo Personal                 1.00000           Mensual  ...   \n",
       "\n",
       "       account_opening_date account_closing_date maximum_credit_amount  \\\n",
       "16304               7/10/09              2/12/11           10000.00000   \n",
       "16305                7/8/10                  NaN            5604.00000   \n",
       "16306               6/12/15                  NaN           38938.00000   \n",
       "16307              10/25/06                  NaN          165602.00000   \n",
       "16308               2/21/09              1/31/14            4867.00000   \n",
       "\n",
       "       current_balance  credit_limit  past_due_balance  \\\n",
       "16304          0.00000       0.00000           0.00000   \n",
       "16305       5604.00000       0.00000        5604.00000   \n",
       "16306      37971.00000   38938.00000           0.00000   \n",
       "16307     221159.00000  165602.00000           0.00000   \n",
       "16308          0.00000       0.00000           0.00000   \n",
       "\n",
       "       number_of_payments_due  worst_delinquency  worst_delinquency_date  \\\n",
       "16304                 0.00000            0.00000                     NaN   \n",
       "16305                24.00000           13.00000                 8/31/14   \n",
       "16306                 0.00000            0.00000                     NaN   \n",
       "16307                 0.00000            0.00000                     NaN   \n",
       "16308                 0.00000            0.00000                     NaN   \n",
       "\n",
       "      worst_delinquency_past_due_balance  \n",
       "16304                            0.00000  \n",
       "16305                         5604.00000  \n",
       "16306                            0.00000  \n",
       "16307                            0.00000  \n",
       "16308                            0.00000  \n",
       "\n",
       "[5 rows x 21 columns]"
      ]
     },
     "metadata": {},
     "output_type": "display_data"
    }
   ],
   "source": [
    "# Unión de la Data de clientes y Data de reporte crediticio\n",
    "df = df_users.merge(df_reports, how='inner', left_on='id', right_on='user_id')\n",
    "display(df.head())\n",
    "print('\\n')\n",
    "display(df.tail())"
   ]
  },
  {
   "cell_type": "code",
   "execution_count": 38,
   "id": "3ec43065-c29b-4189-8804-d2028e6f8cb0",
   "metadata": {},
   "outputs": [
    {
     "name": "stdout",
     "output_type": "stream",
     "text": [
      "<class 'pandas.core.frame.DataFrame'>\n",
      "Int64Index: 16309 entries, 0 to 16308\n",
      "Data columns (total 21 columns):\n",
      " #   Column                              Non-Null Count  Dtype  \n",
      "---  ------                              --------------  -----  \n",
      " 0   id                                  16309 non-null  int64  \n",
      " 1   monthly_income                      16309 non-null  int64  \n",
      " 2   monthly_outcome                     16309 non-null  int64  \n",
      " 3   class                               16309 non-null  int64  \n",
      " 4   user_id                             16309 non-null  int64  \n",
      " 5   institution                         16309 non-null  object \n",
      " 6   account_type                        16309 non-null  object \n",
      " 7   credit_type                         16309 non-null  object \n",
      " 8   total_credit_payments               16268 non-null  float64\n",
      " 9   payment_frequency                   16308 non-null  object \n",
      " 10  amount_to_pay_next_payment          16304 non-null  float64\n",
      " 11  account_opening_date                16309 non-null  object \n",
      " 12  account_closing_date                9068 non-null   object \n",
      " 13  maximum_credit_amount               16307 non-null  float64\n",
      " 14  current_balance                     16304 non-null  float64\n",
      " 15  credit_limit                        16296 non-null  float64\n",
      " 16  past_due_balance                    16304 non-null  float64\n",
      " 17  number_of_payments_due              16297 non-null  float64\n",
      " 18  worst_delinquency                   16255 non-null  float64\n",
      " 19  worst_delinquency_date              3312 non-null   object \n",
      " 20  worst_delinquency_past_due_balance  16297 non-null  float64\n",
      "dtypes: float64(9), int64(5), object(7)\n",
      "memory usage: 2.7+ MB\n"
     ]
    }
   ],
   "source": [
    "df.info()"
   ]
  },
  {
   "cell_type": "code",
   "execution_count": 39,
   "id": "576da3d6-2776-40dd-8e44-26cb3498d515",
   "metadata": {},
   "outputs": [
    {
     "data": {
      "text/plain": [
       "(16309, 21)"
      ]
     },
     "execution_count": 39,
     "metadata": {},
     "output_type": "execute_result"
    }
   ],
   "source": [
    "df.shape"
   ]
  },
  {
   "cell_type": "code",
   "execution_count": 40,
   "id": "905fed16-5597-4511-b199-3d7115378a23",
   "metadata": {},
   "outputs": [
    {
     "data": {
      "text/plain": [
       "id                                        0\n",
       "monthly_income                            0\n",
       "monthly_outcome                           0\n",
       "class                                     0\n",
       "user_id                                   0\n",
       "institution                               0\n",
       "account_type                              0\n",
       "credit_type                               0\n",
       "total_credit_payments                    41\n",
       "payment_frequency                         1\n",
       "amount_to_pay_next_payment                5\n",
       "account_opening_date                      0\n",
       "account_closing_date                   7241\n",
       "maximum_credit_amount                     2\n",
       "current_balance                           5\n",
       "credit_limit                             13\n",
       "past_due_balance                          5\n",
       "number_of_payments_due                   12\n",
       "worst_delinquency                        54\n",
       "worst_delinquency_date                12997\n",
       "worst_delinquency_past_due_balance       12\n",
       "dtype: int64"
      ]
     },
     "execution_count": 40,
     "metadata": {},
     "output_type": "execute_result"
    }
   ],
   "source": [
    "df.isnull().sum()"
   ]
  },
  {
   "cell_type": "code",
   "execution_count": 41,
   "id": "633e97f2-b26b-4c26-9b3f-8cadd33a6ff6",
   "metadata": {},
   "outputs": [
    {
     "data": {
      "text/html": [
       "<div>\n",
       "<style scoped>\n",
       "    .dataframe tbody tr th:only-of-type {\n",
       "        vertical-align: middle;\n",
       "    }\n",
       "\n",
       "    .dataframe tbody tr th {\n",
       "        vertical-align: top;\n",
       "    }\n",
       "\n",
       "    .dataframe thead th {\n",
       "        text-align: right;\n",
       "    }\n",
       "</style>\n",
       "<table border=\"1\" class=\"dataframe\">\n",
       "  <thead>\n",
       "    <tr style=\"text-align: right;\">\n",
       "      <th></th>\n",
       "      <th>id</th>\n",
       "      <th>monthly_income</th>\n",
       "      <th>monthly_outcome</th>\n",
       "      <th>class</th>\n",
       "      <th>user_id</th>\n",
       "      <th>total_credit_payments</th>\n",
       "      <th>amount_to_pay_next_payment</th>\n",
       "      <th>maximum_credit_amount</th>\n",
       "      <th>current_balance</th>\n",
       "      <th>credit_limit</th>\n",
       "      <th>past_due_balance</th>\n",
       "      <th>number_of_payments_due</th>\n",
       "      <th>worst_delinquency</th>\n",
       "      <th>worst_delinquency_past_due_balance</th>\n",
       "    </tr>\n",
       "  </thead>\n",
       "  <tbody>\n",
       "    <tr>\n",
       "      <th>count</th>\n",
       "      <td>16309.00000</td>\n",
       "      <td>16309.00000</td>\n",
       "      <td>16309.00000</td>\n",
       "      <td>16309.00000</td>\n",
       "      <td>16309.00000</td>\n",
       "      <td>16268.00000</td>\n",
       "      <td>16304.00000</td>\n",
       "      <td>16307.00000</td>\n",
       "      <td>16304.00000</td>\n",
       "      <td>16296.00000</td>\n",
       "      <td>16304.00000</td>\n",
       "      <td>16297.00000</td>\n",
       "      <td>16255.00000</td>\n",
       "      <td>16297.00000</td>\n",
       "    </tr>\n",
       "    <tr>\n",
       "      <th>mean</th>\n",
       "      <td>474.06763</td>\n",
       "      <td>177809.51744</td>\n",
       "      <td>180730.63922</td>\n",
       "      <td>0.55485</td>\n",
       "      <td>474.06763</td>\n",
       "      <td>22.40577</td>\n",
       "      <td>2779.24233</td>\n",
       "      <td>39947.39419</td>\n",
       "      <td>19933.76981</td>\n",
       "      <td>23981.14642</td>\n",
       "      <td>3618.91039</td>\n",
       "      <td>2.29122</td>\n",
       "      <td>1.54162</td>\n",
       "      <td>1617.18881</td>\n",
       "    </tr>\n",
       "    <tr>\n",
       "      <th>std</th>\n",
       "      <td>293.16509</td>\n",
       "      <td>796929.84871</td>\n",
       "      <td>754109.49301</td>\n",
       "      <td>0.49700</td>\n",
       "      <td>293.16509</td>\n",
       "      <td>77.41314</td>\n",
       "      <td>21450.46241</td>\n",
       "      <td>133740.17201</td>\n",
       "      <td>106721.26177</td>\n",
       "      <td>94299.67316</td>\n",
       "      <td>28167.34328</td>\n",
       "      <td>8.25087</td>\n",
       "      <td>6.81656</td>\n",
       "      <td>28451.79836</td>\n",
       "    </tr>\n",
       "    <tr>\n",
       "      <th>min</th>\n",
       "      <td>0.00000</td>\n",
       "      <td>1.00000</td>\n",
       "      <td>1.00000</td>\n",
       "      <td>0.00000</td>\n",
       "      <td>0.00000</td>\n",
       "      <td>0.00000</td>\n",
       "      <td>0.00000</td>\n",
       "      <td>0.00000</td>\n",
       "      <td>0.00000</td>\n",
       "      <td>0.00000</td>\n",
       "      <td>0.00000</td>\n",
       "      <td>0.00000</td>\n",
       "      <td>0.00000</td>\n",
       "      <td>0.00000</td>\n",
       "    </tr>\n",
       "    <tr>\n",
       "      <th>25%</th>\n",
       "      <td>213.00000</td>\n",
       "      <td>2707.00000</td>\n",
       "      <td>5064.00000</td>\n",
       "      <td>0.00000</td>\n",
       "      <td>213.00000</td>\n",
       "      <td>0.00000</td>\n",
       "      <td>0.00000</td>\n",
       "      <td>2000.00000</td>\n",
       "      <td>0.00000</td>\n",
       "      <td>0.00000</td>\n",
       "      <td>0.00000</td>\n",
       "      <td>0.00000</td>\n",
       "      <td>0.00000</td>\n",
       "      <td>0.00000</td>\n",
       "    </tr>\n",
       "    <tr>\n",
       "      <th>50%</th>\n",
       "      <td>466.00000</td>\n",
       "      <td>14973.00000</td>\n",
       "      <td>19335.00000</td>\n",
       "      <td>1.00000</td>\n",
       "      <td>466.00000</td>\n",
       "      <td>1.00000</td>\n",
       "      <td>0.00000</td>\n",
       "      <td>6899.00000</td>\n",
       "      <td>0.00000</td>\n",
       "      <td>892.50000</td>\n",
       "      <td>0.00000</td>\n",
       "      <td>0.00000</td>\n",
       "      <td>0.00000</td>\n",
       "      <td>0.00000</td>\n",
       "    </tr>\n",
       "    <tr>\n",
       "      <th>75%</th>\n",
       "      <td>726.00000</td>\n",
       "      <td>71771.00000</td>\n",
       "      <td>75899.00000</td>\n",
       "      <td>1.00000</td>\n",
       "      <td>726.00000</td>\n",
       "      <td>16.00000</td>\n",
       "      <td>583.00000</td>\n",
       "      <td>26347.50000</td>\n",
       "      <td>3224.25000</td>\n",
       "      <td>14406.00000</td>\n",
       "      <td>0.00000</td>\n",
       "      <td>0.00000</td>\n",
       "      <td>0.00000</td>\n",
       "      <td>0.00000</td>\n",
       "    </tr>\n",
       "    <tr>\n",
       "      <th>max</th>\n",
       "      <td>999.00000</td>\n",
       "      <td>9344842.00000</td>\n",
       "      <td>9749651.00000</td>\n",
       "      <td>1.00000</td>\n",
       "      <td>999.00000</td>\n",
       "      <td>1800.00000</td>\n",
       "      <td>1263964.00000</td>\n",
       "      <td>4883200.00000</td>\n",
       "      <td>4697583.00000</td>\n",
       "      <td>3269355.00000</td>\n",
       "      <td>1915973.00000</td>\n",
       "      <td>96.00000</td>\n",
       "      <td>84.00000</td>\n",
       "      <td>3234351.00000</td>\n",
       "    </tr>\n",
       "  </tbody>\n",
       "</table>\n",
       "</div>"
      ],
      "text/plain": [
       "               id  monthly_income  monthly_outcome       class     user_id  \\\n",
       "count 16309.00000     16309.00000      16309.00000 16309.00000 16309.00000   \n",
       "mean    474.06763    177809.51744     180730.63922     0.55485   474.06763   \n",
       "std     293.16509    796929.84871     754109.49301     0.49700   293.16509   \n",
       "min       0.00000         1.00000          1.00000     0.00000     0.00000   \n",
       "25%     213.00000      2707.00000       5064.00000     0.00000   213.00000   \n",
       "50%     466.00000     14973.00000      19335.00000     1.00000   466.00000   \n",
       "75%     726.00000     71771.00000      75899.00000     1.00000   726.00000   \n",
       "max     999.00000   9344842.00000    9749651.00000     1.00000   999.00000   \n",
       "\n",
       "       total_credit_payments  amount_to_pay_next_payment  \\\n",
       "count            16268.00000                 16304.00000   \n",
       "mean                22.40577                  2779.24233   \n",
       "std                 77.41314                 21450.46241   \n",
       "min                  0.00000                     0.00000   \n",
       "25%                  0.00000                     0.00000   \n",
       "50%                  1.00000                     0.00000   \n",
       "75%                 16.00000                   583.00000   \n",
       "max               1800.00000               1263964.00000   \n",
       "\n",
       "       maximum_credit_amount  current_balance  credit_limit  past_due_balance  \\\n",
       "count            16307.00000      16304.00000   16296.00000       16304.00000   \n",
       "mean             39947.39419      19933.76981   23981.14642        3618.91039   \n",
       "std             133740.17201     106721.26177   94299.67316       28167.34328   \n",
       "min                  0.00000          0.00000       0.00000           0.00000   \n",
       "25%               2000.00000          0.00000       0.00000           0.00000   \n",
       "50%               6899.00000          0.00000     892.50000           0.00000   \n",
       "75%              26347.50000       3224.25000   14406.00000           0.00000   \n",
       "max            4883200.00000    4697583.00000 3269355.00000     1915973.00000   \n",
       "\n",
       "       number_of_payments_due  worst_delinquency  \\\n",
       "count             16297.00000        16255.00000   \n",
       "mean                  2.29122            1.54162   \n",
       "std                   8.25087            6.81656   \n",
       "min                   0.00000            0.00000   \n",
       "25%                   0.00000            0.00000   \n",
       "50%                   0.00000            0.00000   \n",
       "75%                   0.00000            0.00000   \n",
       "max                  96.00000           84.00000   \n",
       "\n",
       "       worst_delinquency_past_due_balance  \n",
       "count                         16297.00000  \n",
       "mean                           1617.18881  \n",
       "std                           28451.79836  \n",
       "min                               0.00000  \n",
       "25%                               0.00000  \n",
       "50%                               0.00000  \n",
       "75%                               0.00000  \n",
       "max                         3234351.00000  "
      ]
     },
     "execution_count": 41,
     "metadata": {},
     "output_type": "execute_result"
    }
   ],
   "source": [
    "df.describe()"
   ]
  },
  {
   "cell_type": "code",
   "execution_count": 42,
   "id": "5f8d6b00-c1ef-43ea-8dd3-82c9ae0e233b",
   "metadata": {},
   "outputs": [
    {
     "name": "stdout",
     "output_type": "stream",
     "text": [
      "Conteo de usuarios por clase para cada institución\n"
     ]
    },
    {
     "data": {
      "text/html": [
       "<div>\n",
       "<style scoped>\n",
       "    .dataframe tbody tr th:only-of-type {\n",
       "        vertical-align: middle;\n",
       "    }\n",
       "\n",
       "    .dataframe tbody tr th {\n",
       "        vertical-align: top;\n",
       "    }\n",
       "\n",
       "    .dataframe thead th {\n",
       "        text-align: right;\n",
       "    }\n",
       "</style>\n",
       "<table border=\"1\" class=\"dataframe\">\n",
       "  <thead>\n",
       "    <tr style=\"text-align: right;\">\n",
       "      <th></th>\n",
       "      <th>class</th>\n",
       "      <th>institution</th>\n",
       "      <th>id</th>\n",
       "    </tr>\n",
       "  </thead>\n",
       "  <tbody>\n",
       "    <tr>\n",
       "      <th>53</th>\n",
       "      <td>1</td>\n",
       "      <td>BANCO</td>\n",
       "      <td>3568</td>\n",
       "    </tr>\n",
       "    <tr>\n",
       "      <th>4</th>\n",
       "      <td>0</td>\n",
       "      <td>BANCO</td>\n",
       "      <td>1455</td>\n",
       "    </tr>\n",
       "    <tr>\n",
       "      <th>62</th>\n",
       "      <td>1</td>\n",
       "      <td>COMUNICACIONES</td>\n",
       "      <td>1000</td>\n",
       "    </tr>\n",
       "    <tr>\n",
       "      <th>28</th>\n",
       "      <td>0</td>\n",
       "      <td>MERCANCIA PARA HOGAR Y OFICINA</td>\n",
       "      <td>883</td>\n",
       "    </tr>\n",
       "    <tr>\n",
       "      <th>37</th>\n",
       "      <td>0</td>\n",
       "      <td>SOCIEDAD FINANCIERA DE OBJETO MULTIPLE</td>\n",
       "      <td>788</td>\n",
       "    </tr>\n",
       "    <tr>\n",
       "      <th>...</th>\n",
       "      <td>...</td>\n",
       "      <td>...</td>\n",
       "      <td>...</td>\n",
       "    </tr>\n",
       "    <tr>\n",
       "      <th>25</th>\n",
       "      <td>0</td>\n",
       "      <td>HIPOTECARIO NO BANCARIO</td>\n",
       "      <td>1</td>\n",
       "    </tr>\n",
       "    <tr>\n",
       "      <th>76</th>\n",
       "      <td>1</td>\n",
       "      <td>KONFIO-10319</td>\n",
       "      <td>1</td>\n",
       "    </tr>\n",
       "    <tr>\n",
       "      <th>74</th>\n",
       "      <td>1</td>\n",
       "      <td>HIPOTECARIO NO BANCARIO</td>\n",
       "      <td>1</td>\n",
       "    </tr>\n",
       "    <tr>\n",
       "      <th>66</th>\n",
       "      <td>1</td>\n",
       "      <td>FACTORAJE</td>\n",
       "      <td>1</td>\n",
       "    </tr>\n",
       "    <tr>\n",
       "      <th>96</th>\n",
       "      <td>1</td>\n",
       "      <td>VENTA POR CATALOGO</td>\n",
       "      <td>1</td>\n",
       "    </tr>\n",
       "  </tbody>\n",
       "</table>\n",
       "<p>97 rows × 3 columns</p>\n",
       "</div>"
      ],
      "text/plain": [
       "    class                             institution    id\n",
       "53      1                                   BANCO  3568\n",
       "4       0                                   BANCO  1455\n",
       "62      1                          COMUNICACIONES  1000\n",
       "28      0          MERCANCIA PARA HOGAR Y OFICINA   883\n",
       "37      0  SOCIEDAD FINANCIERA DE OBJETO MULTIPLE   788\n",
       "..    ...                                     ...   ...\n",
       "25      0                 HIPOTECARIO NO BANCARIO     1\n",
       "76      1                            KONFIO-10319     1\n",
       "74      1                 HIPOTECARIO NO BANCARIO     1\n",
       "66      1                               FACTORAJE     1\n",
       "96      1                      VENTA POR CATALOGO     1\n",
       "\n",
       "[97 rows x 3 columns]"
      ]
     },
     "metadata": {},
     "output_type": "display_data"
    }
   ],
   "source": [
    "print('Conteo de usuarios por clase para cada institución')\n",
    "inst_for_class= df.groupby(['class','institution']).agg({'id':'count'}).reset_index()\n",
    "inst_for_class.sort_values(by=['id'],ascending=False, inplace=True)\n",
    "display(inst_for_class)\n",
    "inst_for_class.to_excel('Instituciones por clases.xlsx')"
   ]
  },
  {
   "cell_type": "code",
   "execution_count": 43,
   "id": "07f703ce-9c59-40fa-9ad1-7218ce0d48f6",
   "metadata": {},
   "outputs": [
    {
     "name": "stdout",
     "output_type": "stream",
     "text": [
      "Conteo de usuarios por clase para cada tipo de cuenta\n"
     ]
    },
    {
     "data": {
      "text/html": [
       "<div>\n",
       "<style scoped>\n",
       "    .dataframe tbody tr th:only-of-type {\n",
       "        vertical-align: middle;\n",
       "    }\n",
       "\n",
       "    .dataframe tbody tr th {\n",
       "        vertical-align: top;\n",
       "    }\n",
       "\n",
       "    .dataframe thead th {\n",
       "        text-align: right;\n",
       "    }\n",
       "</style>\n",
       "<table border=\"1\" class=\"dataframe\">\n",
       "  <thead>\n",
       "    <tr style=\"text-align: right;\">\n",
       "      <th></th>\n",
       "      <th>class</th>\n",
       "      <th>account_type</th>\n",
       "      <th>id</th>\n",
       "    </tr>\n",
       "  </thead>\n",
       "  <tbody>\n",
       "    <tr>\n",
       "      <th>4</th>\n",
       "      <td>0</td>\n",
       "      <td>Pagos Fijos</td>\n",
       "      <td>4121</td>\n",
       "    </tr>\n",
       "    <tr>\n",
       "      <th>12</th>\n",
       "      <td>1</td>\n",
       "      <td>Pagos Fijos</td>\n",
       "      <td>3962</td>\n",
       "    </tr>\n",
       "    <tr>\n",
       "      <th>14</th>\n",
       "      <td>1</td>\n",
       "      <td>Revolvente</td>\n",
       "      <td>3246</td>\n",
       "    </tr>\n",
       "    <tr>\n",
       "      <th>15</th>\n",
       "      <td>1</td>\n",
       "      <td>Sin Límite Preestablecido</td>\n",
       "      <td>1547</td>\n",
       "    </tr>\n",
       "    <tr>\n",
       "      <th>6</th>\n",
       "      <td>0</td>\n",
       "      <td>Revolvente</td>\n",
       "      <td>1406</td>\n",
       "    </tr>\n",
       "    <tr>\n",
       "      <th>7</th>\n",
       "      <td>0</td>\n",
       "      <td>Sin Límite Preestablecido</td>\n",
       "      <td>1185</td>\n",
       "    </tr>\n",
       "    <tr>\n",
       "      <th>0</th>\n",
       "      <td>0</td>\n",
       "      <td>Crédito Prendario</td>\n",
       "      <td>405</td>\n",
       "    </tr>\n",
       "    <tr>\n",
       "      <th>11</th>\n",
       "      <td>1</td>\n",
       "      <td>Hipoteca</td>\n",
       "      <td>167</td>\n",
       "    </tr>\n",
       "    <tr>\n",
       "      <th>8</th>\n",
       "      <td>1</td>\n",
       "      <td>Crédito Prendario</td>\n",
       "      <td>121</td>\n",
       "    </tr>\n",
       "    <tr>\n",
       "      <th>3</th>\n",
       "      <td>0</td>\n",
       "      <td>Hipoteca</td>\n",
       "      <td>106</td>\n",
       "    </tr>\n",
       "    <tr>\n",
       "      <th>5</th>\n",
       "      <td>0</td>\n",
       "      <td>Quirografiario</td>\n",
       "      <td>34</td>\n",
       "    </tr>\n",
       "    <tr>\n",
       "      <th>10</th>\n",
       "      <td>1</td>\n",
       "      <td>Crédito de Habilitación de Avío</td>\n",
       "      <td>3</td>\n",
       "    </tr>\n",
       "    <tr>\n",
       "      <th>2</th>\n",
       "      <td>0</td>\n",
       "      <td>Crédito de Habilitación de Avío</td>\n",
       "      <td>2</td>\n",
       "    </tr>\n",
       "    <tr>\n",
       "      <th>13</th>\n",
       "      <td>1</td>\n",
       "      <td>Quirografiario</td>\n",
       "      <td>2</td>\n",
       "    </tr>\n",
       "    <tr>\n",
       "      <th>1</th>\n",
       "      <td>0</td>\n",
       "      <td>Crédito Refaccionario</td>\n",
       "      <td>1</td>\n",
       "    </tr>\n",
       "    <tr>\n",
       "      <th>9</th>\n",
       "      <td>1</td>\n",
       "      <td>Crédito Refaccionario</td>\n",
       "      <td>1</td>\n",
       "    </tr>\n",
       "  </tbody>\n",
       "</table>\n",
       "</div>"
      ],
      "text/plain": [
       "    class                     account_type    id\n",
       "4       0                      Pagos Fijos  4121\n",
       "12      1                      Pagos Fijos  3962\n",
       "14      1                       Revolvente  3246\n",
       "15      1        Sin Límite Preestablecido  1547\n",
       "6       0                       Revolvente  1406\n",
       "7       0        Sin Límite Preestablecido  1185\n",
       "0       0                Crédito Prendario   405\n",
       "11      1                         Hipoteca   167\n",
       "8       1                Crédito Prendario   121\n",
       "3       0                         Hipoteca   106\n",
       "5       0                   Quirografiario    34\n",
       "10      1  Crédito de Habilitación de Avío     3\n",
       "2       0  Crédito de Habilitación de Avío     2\n",
       "13      1                   Quirografiario     2\n",
       "1       0            Crédito Refaccionario     1\n",
       "9       1            Crédito Refaccionario     1"
      ]
     },
     "metadata": {},
     "output_type": "display_data"
    }
   ],
   "source": [
    "print('Conteo de usuarios por clase para cada tipo de cuenta')\n",
    "account_for_class = df.groupby(['class','account_type']).agg({'id':'count'}).reset_index()\n",
    "account_for_class.sort_values(by=['id'],ascending=False, inplace=True)\n",
    "display(account_for_class)\n",
    "account_for_class.to_excel('Cuentas por clases.xlsx')"
   ]
  },
  {
   "cell_type": "code",
   "execution_count": 44,
   "id": "23061fc9-9fb5-4b14-87e2-8cbd3d00d6da",
   "metadata": {},
   "outputs": [
    {
     "name": "stdout",
     "output_type": "stream",
     "text": [
      "Conteo de usuarios por clase para cada tipo de crédito y generación de archivo excel\n"
     ]
    },
    {
     "data": {
      "text/html": [
       "<div>\n",
       "<style scoped>\n",
       "    .dataframe tbody tr th:only-of-type {\n",
       "        vertical-align: middle;\n",
       "    }\n",
       "\n",
       "    .dataframe tbody tr th {\n",
       "        vertical-align: top;\n",
       "    }\n",
       "\n",
       "    .dataframe thead th {\n",
       "        text-align: right;\n",
       "    }\n",
       "</style>\n",
       "<table border=\"1\" class=\"dataframe\">\n",
       "  <thead>\n",
       "    <tr style=\"text-align: right;\">\n",
       "      <th></th>\n",
       "      <th>class</th>\n",
       "      <th>credit_type</th>\n",
       "      <th>id</th>\n",
       "    </tr>\n",
       "  </thead>\n",
       "  <tbody>\n",
       "    <tr>\n",
       "      <th>19</th>\n",
       "      <td>0</td>\n",
       "      <td>Préstamo Personal</td>\n",
       "      <td>3123</td>\n",
       "    </tr>\n",
       "    <tr>\n",
       "      <th>47</th>\n",
       "      <td>1</td>\n",
       "      <td>Tarjeta de Crédito</td>\n",
       "      <td>2614</td>\n",
       "    </tr>\n",
       "    <tr>\n",
       "      <th>42</th>\n",
       "      <td>1</td>\n",
       "      <td>Préstamo Personal</td>\n",
       "      <td>2594</td>\n",
       "    </tr>\n",
       "    <tr>\n",
       "      <th>37</th>\n",
       "      <td>1</td>\n",
       "      <td>Línea de Crédito</td>\n",
       "      <td>1976</td>\n",
       "    </tr>\n",
       "    <tr>\n",
       "      <th>13</th>\n",
       "      <td>0</td>\n",
       "      <td>Línea de Crédito</td>\n",
       "      <td>1753</td>\n",
       "    </tr>\n",
       "    <tr>\n",
       "      <th>23</th>\n",
       "      <td>0</td>\n",
       "      <td>Tarjeta de Crédito</td>\n",
       "      <td>827</td>\n",
       "    </tr>\n",
       "    <tr>\n",
       "      <th>0</th>\n",
       "      <td>0</td>\n",
       "      <td>Aparatos - Muebles</td>\n",
       "      <td>447</td>\n",
       "    </tr>\n",
       "    <tr>\n",
       "      <th>28</th>\n",
       "      <td>1</td>\n",
       "      <td>Compra de Automóvil</td>\n",
       "      <td>361</td>\n",
       "    </tr>\n",
       "    <tr>\n",
       "      <th>24</th>\n",
       "      <td>1</td>\n",
       "      <td>Aparatos - Muebles</td>\n",
       "      <td>330</td>\n",
       "    </tr>\n",
       "    <tr>\n",
       "      <th>39</th>\n",
       "      <td>1</td>\n",
       "      <td>Otros (Múltiples Créditos)</td>\n",
       "      <td>306</td>\n",
       "    </tr>\n",
       "    <tr>\n",
       "      <th>15</th>\n",
       "      <td>0</td>\n",
       "      <td>Otros (Múltiples Créditos)</td>\n",
       "      <td>208</td>\n",
       "    </tr>\n",
       "    <tr>\n",
       "      <th>8</th>\n",
       "      <td>0</td>\n",
       "      <td>Crédito al Consumo</td>\n",
       "      <td>171</td>\n",
       "    </tr>\n",
       "    <tr>\n",
       "      <th>40</th>\n",
       "      <td>1</td>\n",
       "      <td>Préstamo de Nomina</td>\n",
       "      <td>167</td>\n",
       "    </tr>\n",
       "    <tr>\n",
       "      <th>27</th>\n",
       "      <td>1</td>\n",
       "      <td>Bienes Raíces</td>\n",
       "      <td>140</td>\n",
       "    </tr>\n",
       "    <tr>\n",
       "      <th>7</th>\n",
       "      <td>0</td>\n",
       "      <td>Crédito Personal al Consumo</td>\n",
       "      <td>119</td>\n",
       "    </tr>\n",
       "    <tr>\n",
       "      <th>6</th>\n",
       "      <td>0</td>\n",
       "      <td>Crédito Fiscal</td>\n",
       "      <td>109</td>\n",
       "    </tr>\n",
       "    <tr>\n",
       "      <th>29</th>\n",
       "      <td>1</td>\n",
       "      <td>Crédito Fiscal</td>\n",
       "      <td>98</td>\n",
       "    </tr>\n",
       "    <tr>\n",
       "      <th>16</th>\n",
       "      <td>0</td>\n",
       "      <td>Préstamo de Nomina</td>\n",
       "      <td>95</td>\n",
       "    </tr>\n",
       "    <tr>\n",
       "      <th>11</th>\n",
       "      <td>0</td>\n",
       "      <td>Grupo Solidario</td>\n",
       "      <td>94</td>\n",
       "    </tr>\n",
       "    <tr>\n",
       "      <th>31</th>\n",
       "      <td>1</td>\n",
       "      <td>Crédito al Consumo</td>\n",
       "      <td>89</td>\n",
       "    </tr>\n",
       "    <tr>\n",
       "      <th>4</th>\n",
       "      <td>0</td>\n",
       "      <td>Bienes Raíces</td>\n",
       "      <td>78</td>\n",
       "    </tr>\n",
       "    <tr>\n",
       "      <th>26</th>\n",
       "      <td>1</td>\n",
       "      <td>Arrendamiento Automotriz</td>\n",
       "      <td>77</td>\n",
       "    </tr>\n",
       "    <tr>\n",
       "      <th>5</th>\n",
       "      <td>0</td>\n",
       "      <td>Compra de Automóvil</td>\n",
       "      <td>74</td>\n",
       "    </tr>\n",
       "    <tr>\n",
       "      <th>35</th>\n",
       "      <td>1</td>\n",
       "      <td>Grupo Solidario</td>\n",
       "      <td>68</td>\n",
       "    </tr>\n",
       "    <tr>\n",
       "      <th>30</th>\n",
       "      <td>1</td>\n",
       "      <td>Crédito Personal al Consumo</td>\n",
       "      <td>57</td>\n",
       "    </tr>\n",
       "    <tr>\n",
       "      <th>1</th>\n",
       "      <td>0</td>\n",
       "      <td>Arrendamiento</td>\n",
       "      <td>46</td>\n",
       "    </tr>\n",
       "    <tr>\n",
       "      <th>41</th>\n",
       "      <td>1</td>\n",
       "      <td>Préstamo Garantizado</td>\n",
       "      <td>45</td>\n",
       "    </tr>\n",
       "    <tr>\n",
       "      <th>12</th>\n",
       "      <td>0</td>\n",
       "      <td>Hipotecario O Vivienda</td>\n",
       "      <td>30</td>\n",
       "    </tr>\n",
       "    <tr>\n",
       "      <th>25</th>\n",
       "      <td>1</td>\n",
       "      <td>Arrendamiento</td>\n",
       "      <td>29</td>\n",
       "    </tr>\n",
       "    <tr>\n",
       "      <th>36</th>\n",
       "      <td>1</td>\n",
       "      <td>Hipotecario O Vivienda</td>\n",
       "      <td>28</td>\n",
       "    </tr>\n",
       "    <tr>\n",
       "      <th>34</th>\n",
       "      <td>1</td>\n",
       "      <td>Física Actividad Empresarial</td>\n",
       "      <td>27</td>\n",
       "    </tr>\n",
       "    <tr>\n",
       "      <th>2</th>\n",
       "      <td>0</td>\n",
       "      <td>Arrendamiento Automotriz</td>\n",
       "      <td>26</td>\n",
       "    </tr>\n",
       "    <tr>\n",
       "      <th>14</th>\n",
       "      <td>0</td>\n",
       "      <td>Mejoras a la Casa</td>\n",
       "      <td>20</td>\n",
       "    </tr>\n",
       "    <tr>\n",
       "      <th>32</th>\n",
       "      <td>1</td>\n",
       "      <td>Desconocido</td>\n",
       "      <td>18</td>\n",
       "    </tr>\n",
       "    <tr>\n",
       "      <th>18</th>\n",
       "      <td>0</td>\n",
       "      <td>Préstamo Garantizado</td>\n",
       "      <td>9</td>\n",
       "    </tr>\n",
       "    <tr>\n",
       "      <th>10</th>\n",
       "      <td>0</td>\n",
       "      <td>Física Actividad Empresarial</td>\n",
       "      <td>8</td>\n",
       "    </tr>\n",
       "    <tr>\n",
       "      <th>45</th>\n",
       "      <td>1</td>\n",
       "      <td>Préstamo para estudiante</td>\n",
       "      <td>7</td>\n",
       "    </tr>\n",
       "    <tr>\n",
       "      <th>38</th>\n",
       "      <td>1</td>\n",
       "      <td>Mejoras a la Casa</td>\n",
       "      <td>6</td>\n",
       "    </tr>\n",
       "    <tr>\n",
       "      <th>20</th>\n",
       "      <td>0</td>\n",
       "      <td>Préstamo Quirografiario</td>\n",
       "      <td>6</td>\n",
       "    </tr>\n",
       "    <tr>\n",
       "      <th>9</th>\n",
       "      <td>0</td>\n",
       "      <td>Desconocido</td>\n",
       "      <td>5</td>\n",
       "    </tr>\n",
       "    <tr>\n",
       "      <th>33</th>\n",
       "      <td>1</td>\n",
       "      <td>Factoraje</td>\n",
       "      <td>4</td>\n",
       "    </tr>\n",
       "    <tr>\n",
       "      <th>21</th>\n",
       "      <td>0</td>\n",
       "      <td>Préstamo no garantizado</td>\n",
       "      <td>4</td>\n",
       "    </tr>\n",
       "    <tr>\n",
       "      <th>17</th>\n",
       "      <td>0</td>\n",
       "      <td>Préstamo Empresarial</td>\n",
       "      <td>4</td>\n",
       "    </tr>\n",
       "    <tr>\n",
       "      <th>22</th>\n",
       "      <td>0</td>\n",
       "      <td>Préstamo para estudiante</td>\n",
       "      <td>3</td>\n",
       "    </tr>\n",
       "    <tr>\n",
       "      <th>43</th>\n",
       "      <td>1</td>\n",
       "      <td>Préstamo Quirografiario</td>\n",
       "      <td>3</td>\n",
       "    </tr>\n",
       "    <tr>\n",
       "      <th>44</th>\n",
       "      <td>1</td>\n",
       "      <td>Préstamo no garantizado</td>\n",
       "      <td>3</td>\n",
       "    </tr>\n",
       "    <tr>\n",
       "      <th>46</th>\n",
       "      <td>1</td>\n",
       "      <td>Tarjeta Departamental</td>\n",
       "      <td>2</td>\n",
       "    </tr>\n",
       "    <tr>\n",
       "      <th>3</th>\n",
       "      <td>0</td>\n",
       "      <td>Banca Comunal</td>\n",
       "      <td>1</td>\n",
       "    </tr>\n",
       "  </tbody>\n",
       "</table>\n",
       "</div>"
      ],
      "text/plain": [
       "    class                   credit_type    id\n",
       "19      0            Préstamo Personal   3123\n",
       "47      1            Tarjeta de Crédito  2614\n",
       "42      1            Préstamo Personal   2594\n",
       "37      1              Línea de Crédito  1976\n",
       "13      0              Línea de Crédito  1753\n",
       "23      0            Tarjeta de Crédito   827\n",
       "0       0            Aparatos - Muebles   447\n",
       "28      1           Compra de Automóvil   361\n",
       "24      1            Aparatos - Muebles   330\n",
       "39      1    Otros (Múltiples Créditos)   306\n",
       "15      0    Otros (Múltiples Créditos)   208\n",
       "8       0            Crédito al Consumo   171\n",
       "40      1           Préstamo de Nomina   167\n",
       "27      1                 Bienes Raíces   140\n",
       "7       0   Crédito Personal al Consumo   119\n",
       "6       0                Crédito Fiscal   109\n",
       "29      1                Crédito Fiscal    98\n",
       "16      0           Préstamo de Nomina    95\n",
       "11      0               Grupo Solidario    94\n",
       "31      1            Crédito al Consumo    89\n",
       "4       0                 Bienes Raíces    78\n",
       "26      1      Arrendamiento Automotriz    77\n",
       "5       0           Compra de Automóvil    74\n",
       "35      1               Grupo Solidario    68\n",
       "30      1   Crédito Personal al Consumo    57\n",
       "1       0                 Arrendamiento    46\n",
       "41      1          Préstamo Garantizado    45\n",
       "12      0        Hipotecario O Vivienda    30\n",
       "25      1                 Arrendamiento    29\n",
       "36      1        Hipotecario O Vivienda    28\n",
       "34      1  Física Actividad Empresarial    27\n",
       "2       0      Arrendamiento Automotriz    26\n",
       "14      0             Mejoras a la Casa    20\n",
       "32      1                   Desconocido    18\n",
       "18      0          Préstamo Garantizado     9\n",
       "10      0  Física Actividad Empresarial     8\n",
       "45      1      Préstamo para estudiante     7\n",
       "38      1             Mejoras a la Casa     6\n",
       "20      0       Préstamo Quirografiario     6\n",
       "9       0                   Desconocido     5\n",
       "33      1                     Factoraje     4\n",
       "21      0       Préstamo no garantizado     4\n",
       "17      0          Préstamo Empresarial     4\n",
       "22      0      Préstamo para estudiante     3\n",
       "43      1       Préstamo Quirografiario     3\n",
       "44      1       Préstamo no garantizado     3\n",
       "46      1         Tarjeta Departamental     2\n",
       "3       0                 Banca Comunal     1"
      ]
     },
     "metadata": {},
     "output_type": "display_data"
    }
   ],
   "source": [
    "print('Conteo de usuarios por clase para cada tipo de crédito y generación de archivo excel')\n",
    "credit_for_class = df.groupby(['class','credit_type']).agg({'id':'count'}).reset_index()\n",
    "credit_for_class.sort_values(by=['id'],ascending=False, inplace=True)\n",
    "display(credit_for_class)\n",
    "credit_for_class.to_excel('Credito por clases.xlsx')"
   ]
  },
  {
   "cell_type": "code",
   "execution_count": 45,
   "id": "1a86f959-0cd7-4e48-99c4-071839eacd46",
   "metadata": {},
   "outputs": [
    {
     "name": "stdout",
     "output_type": "stream",
     "text": [
      "Conteo de usuarios por clase para cada frecuencia de pago y generación de archivo excel\n"
     ]
    },
    {
     "data": {
      "text/html": [
       "<div>\n",
       "<style scoped>\n",
       "    .dataframe tbody tr th:only-of-type {\n",
       "        vertical-align: middle;\n",
       "    }\n",
       "\n",
       "    .dataframe tbody tr th {\n",
       "        vertical-align: top;\n",
       "    }\n",
       "\n",
       "    .dataframe thead th {\n",
       "        text-align: right;\n",
       "    }\n",
       "</style>\n",
       "<table border=\"1\" class=\"dataframe\">\n",
       "  <thead>\n",
       "    <tr style=\"text-align: right;\">\n",
       "      <th></th>\n",
       "      <th>class</th>\n",
       "      <th>payment_frequency</th>\n",
       "      <th>id</th>\n",
       "    </tr>\n",
       "  </thead>\n",
       "  <tbody>\n",
       "    <tr>\n",
       "      <th>12</th>\n",
       "      <td>1</td>\n",
       "      <td>Mensual</td>\n",
       "      <td>7054</td>\n",
       "    </tr>\n",
       "    <tr>\n",
       "      <th>3</th>\n",
       "      <td>0</td>\n",
       "      <td>Mensual</td>\n",
       "      <td>4137</td>\n",
       "    </tr>\n",
       "    <tr>\n",
       "      <th>6</th>\n",
       "      <td>0</td>\n",
       "      <td>Semanal</td>\n",
       "      <td>1811</td>\n",
       "    </tr>\n",
       "    <tr>\n",
       "      <th>15</th>\n",
       "      <td>1</td>\n",
       "      <td>Semanal</td>\n",
       "      <td>920</td>\n",
       "    </tr>\n",
       "    <tr>\n",
       "      <th>5</th>\n",
       "      <td>0</td>\n",
       "      <td>Quincenal</td>\n",
       "      <td>530</td>\n",
       "    </tr>\n",
       "    <tr>\n",
       "      <th>7</th>\n",
       "      <td>0</td>\n",
       "      <td>Una sola exhibición</td>\n",
       "      <td>524</td>\n",
       "    </tr>\n",
       "    <tr>\n",
       "      <th>14</th>\n",
       "      <td>1</td>\n",
       "      <td>Quincenal</td>\n",
       "      <td>473</td>\n",
       "    </tr>\n",
       "    <tr>\n",
       "      <th>17</th>\n",
       "      <td>1</td>\n",
       "      <td>Una sola exhibición</td>\n",
       "      <td>351</td>\n",
       "    </tr>\n",
       "    <tr>\n",
       "      <th>10</th>\n",
       "      <td>1</td>\n",
       "      <td>Catorcenal</td>\n",
       "      <td>150</td>\n",
       "    </tr>\n",
       "    <tr>\n",
       "      <th>2</th>\n",
       "      <td>0</td>\n",
       "      <td>Catorcenal</td>\n",
       "      <td>144</td>\n",
       "    </tr>\n",
       "    <tr>\n",
       "      <th>4</th>\n",
       "      <td>0</td>\n",
       "      <td>Pago mínimo para cuentas revolventes</td>\n",
       "      <td>64</td>\n",
       "    </tr>\n",
       "    <tr>\n",
       "      <th>8</th>\n",
       "      <td>1</td>\n",
       "      <td>Anual</td>\n",
       "      <td>44</td>\n",
       "    </tr>\n",
       "    <tr>\n",
       "      <th>13</th>\n",
       "      <td>1</td>\n",
       "      <td>Pago mínimo para cuentas revolventes</td>\n",
       "      <td>34</td>\n",
       "    </tr>\n",
       "    <tr>\n",
       "      <th>0</th>\n",
       "      <td>0</td>\n",
       "      <td>Anual</td>\n",
       "      <td>32</td>\n",
       "    </tr>\n",
       "    <tr>\n",
       "      <th>1</th>\n",
       "      <td>0</td>\n",
       "      <td>Bimestral</td>\n",
       "      <td>18</td>\n",
       "    </tr>\n",
       "    <tr>\n",
       "      <th>9</th>\n",
       "      <td>1</td>\n",
       "      <td>Bimestral</td>\n",
       "      <td>12</td>\n",
       "    </tr>\n",
       "    <tr>\n",
       "      <th>16</th>\n",
       "      <td>1</td>\n",
       "      <td>Trimestral</td>\n",
       "      <td>9</td>\n",
       "    </tr>\n",
       "    <tr>\n",
       "      <th>11</th>\n",
       "      <td>1</td>\n",
       "      <td>Deducción del salario</td>\n",
       "      <td>1</td>\n",
       "    </tr>\n",
       "  </tbody>\n",
       "</table>\n",
       "</div>"
      ],
      "text/plain": [
       "    class                     payment_frequency    id\n",
       "12      1                               Mensual  7054\n",
       "3       0                               Mensual  4137\n",
       "6       0                               Semanal  1811\n",
       "15      1                               Semanal   920\n",
       "5       0                             Quincenal   530\n",
       "7       0                   Una sola exhibición   524\n",
       "14      1                             Quincenal   473\n",
       "17      1                   Una sola exhibición   351\n",
       "10      1                            Catorcenal   150\n",
       "2       0                            Catorcenal   144\n",
       "4       0  Pago mínimo para cuentas revolventes    64\n",
       "8       1                                 Anual    44\n",
       "13      1  Pago mínimo para cuentas revolventes    34\n",
       "0       0                                 Anual    32\n",
       "1       0                             Bimestral    18\n",
       "9       1                             Bimestral    12\n",
       "16      1                            Trimestral     9\n",
       "11      1                 Deducción del salario     1"
      ]
     },
     "metadata": {},
     "output_type": "display_data"
    }
   ],
   "source": [
    "print('Conteo de usuarios por clase para cada frecuencia de pago y generación de archivo excel')\n",
    "payfreq_for_class = df.groupby(['class','payment_frequency']).agg({'id':'count'}).reset_index()\n",
    "payfreq_for_class.sort_values(by=['id'],ascending=False, inplace=True)\n",
    "display(payfreq_for_class)\n",
    "payfreq_for_class.to_excel('Frecuencia por clases.xlsx')"
   ]
  },
  {
   "cell_type": "code",
   "execution_count": 47,
   "id": "985a1135-6700-49a6-8638-253ab9ab43dc",
   "metadata": {},
   "outputs": [
    {
     "name": "stdout",
     "output_type": "stream",
     "text": [
      "Pandas profiling\n"
     ]
    },
    {
     "name": "stderr",
     "output_type": "stream",
     "text": [
      "Summarize dataset: 100%|██████████| 205/205 [00:56<00:00,  3.61it/s, Completed]\n",
      "Generate report structure: 100%|██████████| 1/1 [00:13<00:00, 13.33s/it]\n",
      "Render HTML: 100%|██████████| 1/1 [00:12<00:00, 12.49s/it]\n",
      "Export report to file: 100%|██████████| 1/1 [00:00<00:00, 13.88it/s]\n"
     ]
    }
   ],
   "source": [
    "print('Pandas profiling')\n",
    "from pandas_profiling import ProfileReport\n",
    "prof = ProfileReport(df)\n",
    "prof.to_file(output_file='output.html')"
   ]
  },
  {
   "cell_type": "code",
   "execution_count": 48,
   "id": "b43440d7-dd94-4953-9d42-968178ef8bdc",
   "metadata": {},
   "outputs": [
    {
     "name": "stdout",
     "output_type": "stream",
     "text": [
      "Heatmap para establecer la correlación de las columnas en el DataFrame\n"
     ]
    },
    {
     "data": {
      "image/png": "[encoded data removed]",
      "text/plain": [
       "<Figure size 432x288 with 2 Axes>"
      ]
     },
     "metadata": {
      "needs_background": "light"
     },
     "output_type": "display_data"
    }
   ],
   "source": [
    "print('Heatmap para establecer la correlación de las columnas en el DataFrame')\n",
    "heatplot = sns.heatmap(df.corr(), cmap = 'Purples')"
   ]
  },
  {
   "cell_type": "markdown",
   "id": "cf1883df-c88c-4c7e-b900-b0780caca8fc",
   "metadata": {},
   "source": [
    "##### Eliminación de columnas que contienen fechas"
   ]
  },
  {
   "cell_type": "code",
   "execution_count": 49,
   "id": "fe568d06-616c-4285-96d0-79a058c25bb9",
   "metadata": {},
   "outputs": [],
   "source": [
    "for i in ['account_opening_date', 'account_closing_date', 'worst_delinquency_date']:\n",
    "    df[i] = pd.to_datetime(df[i], format='%m/%d/%y', errors='coerce')"
   ]
  },
  {
   "cell_type": "code",
   "execution_count": 50,
   "id": "0e452e55-bd0a-49d7-81d5-1cea12dc4a27",
   "metadata": {},
   "outputs": [],
   "source": [
    "def is_close(row):\n",
    "    if pd.notna(row['account_closing_date']):\n",
    "        return 1\n",
    "    else: \n",
    "        return 0\n",
    "\n",
    "def is_deliquency(row):\n",
    "    if pd.notna(row['worst_delinquency_date']):\n",
    "        return 1\n",
    "    else: \n",
    "        return 0\n",
    "    \n",
    "df['is_close'] = df.apply(is_close, axis=1)\n",
    "df['is_deliquency'] = df.apply(is_deliquency, axis=1)"
   ]
  },
  {
   "cell_type": "code",
   "execution_count": 52,
   "id": "924474bb-561f-40cf-acb4-96b0f88781c7",
   "metadata": {},
   "outputs": [],
   "source": [
    "df.drop(['account_opening_date','account_closing_date','worst_delinquency_date','user_id'], axis=1, inplace = True)"
   ]
  },
  {
   "cell_type": "code",
   "execution_count": 53,
   "id": "8c63020a-74ae-47c3-9656-e2c42df07151",
   "metadata": {},
   "outputs": [],
   "source": [
    "df.set_index('id', inplace = True)"
   ]
  },
  {
   "cell_type": "code",
   "execution_count": 54,
   "id": "7eb7d0d6-62fa-43a4-be06-e148eefdee5d",
   "metadata": {},
   "outputs": [
    {
     "data": {
      "text/html": [
       "<div>\n",
       "<style scoped>\n",
       "    .dataframe tbody tr th:only-of-type {\n",
       "        vertical-align: middle;\n",
       "    }\n",
       "\n",
       "    .dataframe tbody tr th {\n",
       "        vertical-align: top;\n",
       "    }\n",
       "\n",
       "    .dataframe thead th {\n",
       "        text-align: right;\n",
       "    }\n",
       "</style>\n",
       "<table border=\"1\" class=\"dataframe\">\n",
       "  <thead>\n",
       "    <tr style=\"text-align: right;\">\n",
       "      <th></th>\n",
       "      <th>monthly_income</th>\n",
       "      <th>monthly_outcome</th>\n",
       "      <th>class</th>\n",
       "      <th>institution</th>\n",
       "      <th>account_type</th>\n",
       "      <th>credit_type</th>\n",
       "      <th>total_credit_payments</th>\n",
       "      <th>payment_frequency</th>\n",
       "      <th>amount_to_pay_next_payment</th>\n",
       "      <th>maximum_credit_amount</th>\n",
       "      <th>current_balance</th>\n",
       "      <th>credit_limit</th>\n",
       "      <th>past_due_balance</th>\n",
       "      <th>number_of_payments_due</th>\n",
       "      <th>worst_delinquency</th>\n",
       "      <th>worst_delinquency_past_due_balance</th>\n",
       "      <th>is_close</th>\n",
       "      <th>is_deliquency</th>\n",
       "    </tr>\n",
       "    <tr>\n",
       "      <th>id</th>\n",
       "      <th></th>\n",
       "      <th></th>\n",
       "      <th></th>\n",
       "      <th></th>\n",
       "      <th></th>\n",
       "      <th></th>\n",
       "      <th></th>\n",
       "      <th></th>\n",
       "      <th></th>\n",
       "      <th></th>\n",
       "      <th></th>\n",
       "      <th></th>\n",
       "      <th></th>\n",
       "      <th></th>\n",
       "      <th></th>\n",
       "      <th></th>\n",
       "      <th></th>\n",
       "      <th></th>\n",
       "    </tr>\n",
       "  </thead>\n",
       "  <tbody>\n",
       "    <tr>\n",
       "      <th>0</th>\n",
       "      <td>255359</td>\n",
       "      <td>151439</td>\n",
       "      <td>1</td>\n",
       "      <td>MERCANCIA PARA HOGAR Y OFICINA</td>\n",
       "      <td>Pagos Fijos</td>\n",
       "      <td>Línea de Crédito</td>\n",
       "      <td>78.00000</td>\n",
       "      <td>Semanal</td>\n",
       "      <td>0.00000</td>\n",
       "      <td>9826.00000</td>\n",
       "      <td>0.00000</td>\n",
       "      <td>0.00000</td>\n",
       "      <td>0.00000</td>\n",
       "      <td>0.00000</td>\n",
       "      <td>0.00000</td>\n",
       "      <td>0.00000</td>\n",
       "      <td>1</td>\n",
       "      <td>0</td>\n",
       "    </tr>\n",
       "    <tr>\n",
       "      <th>0</th>\n",
       "      <td>255359</td>\n",
       "      <td>151439</td>\n",
       "      <td>1</td>\n",
       "      <td>MERCANCIA PARA HOGAR Y OFICINA</td>\n",
       "      <td>Pagos Fijos</td>\n",
       "      <td>Préstamo Personal</td>\n",
       "      <td>80.00000</td>\n",
       "      <td>Semanal</td>\n",
       "      <td>0.00000</td>\n",
       "      <td>16000.00000</td>\n",
       "      <td>0.00000</td>\n",
       "      <td>0.00000</td>\n",
       "      <td>0.00000</td>\n",
       "      <td>3.00000</td>\n",
       "      <td>1.00000</td>\n",
       "      <td>200.00000</td>\n",
       "      <td>1</td>\n",
       "      <td>1</td>\n",
       "    </tr>\n",
       "    <tr>\n",
       "      <th>0</th>\n",
       "      <td>255359</td>\n",
       "      <td>151439</td>\n",
       "      <td>1</td>\n",
       "      <td>MERCANCIA PARA HOGAR Y OFICINA</td>\n",
       "      <td>Pagos Fijos</td>\n",
       "      <td>Línea de Crédito</td>\n",
       "      <td>102.00000</td>\n",
       "      <td>Semanal</td>\n",
       "      <td>100.00000</td>\n",
       "      <td>10205.00000</td>\n",
       "      <td>3505.00000</td>\n",
       "      <td>0.00000</td>\n",
       "      <td>0.00000</td>\n",
       "      <td>3.00000</td>\n",
       "      <td>1.00000</td>\n",
       "      <td>100.00000</td>\n",
       "      <td>0</td>\n",
       "      <td>1</td>\n",
       "    </tr>\n",
       "    <tr>\n",
       "      <th>0</th>\n",
       "      <td>255359</td>\n",
       "      <td>151439</td>\n",
       "      <td>1</td>\n",
       "      <td>MERCANCIA PARA HOGAR Y OFICINA</td>\n",
       "      <td>Pagos Fijos</td>\n",
       "      <td>Préstamo Personal</td>\n",
       "      <td>120.00000</td>\n",
       "      <td>Semanal</td>\n",
       "      <td>191.00000</td>\n",
       "      <td>22920.00000</td>\n",
       "      <td>11269.00000</td>\n",
       "      <td>0.00000</td>\n",
       "      <td>0.00000</td>\n",
       "      <td>3.00000</td>\n",
       "      <td>1.00000</td>\n",
       "      <td>191.00000</td>\n",
       "      <td>0</td>\n",
       "      <td>1</td>\n",
       "    </tr>\n",
       "    <tr>\n",
       "      <th>0</th>\n",
       "      <td>255359</td>\n",
       "      <td>151439</td>\n",
       "      <td>1</td>\n",
       "      <td>KONFIO</td>\n",
       "      <td>Pagos Fijos</td>\n",
       "      <td>Préstamo Personal</td>\n",
       "      <td>12.00000</td>\n",
       "      <td>Quincenal</td>\n",
       "      <td>0.00000</td>\n",
       "      <td>150000.00000</td>\n",
       "      <td>0.00000</td>\n",
       "      <td>0.00000</td>\n",
       "      <td>0.00000</td>\n",
       "      <td>0.00000</td>\n",
       "      <td>0.00000</td>\n",
       "      <td>0.00000</td>\n",
       "      <td>1</td>\n",
       "      <td>0</td>\n",
       "    </tr>\n",
       "  </tbody>\n",
       "</table>\n",
       "</div>"
      ],
      "text/plain": [
       "    monthly_income  monthly_outcome  class                     institution  \\\n",
       "id                                                                           \n",
       "0           255359           151439      1  MERCANCIA PARA HOGAR Y OFICINA   \n",
       "0           255359           151439      1  MERCANCIA PARA HOGAR Y OFICINA   \n",
       "0           255359           151439      1  MERCANCIA PARA HOGAR Y OFICINA   \n",
       "0           255359           151439      1  MERCANCIA PARA HOGAR Y OFICINA   \n",
       "0           255359           151439      1                          KONFIO   \n",
       "\n",
       "   account_type         credit_type  total_credit_payments payment_frequency  \\\n",
       "id                                                                             \n",
       "0   Pagos Fijos    Línea de Crédito               78.00000           Semanal   \n",
       "0   Pagos Fijos  Préstamo Personal                80.00000           Semanal   \n",
       "0   Pagos Fijos    Línea de Crédito              102.00000           Semanal   \n",
       "0   Pagos Fijos  Préstamo Personal               120.00000           Semanal   \n",
       "0   Pagos Fijos  Préstamo Personal                12.00000         Quincenal   \n",
       "\n",
       "    amount_to_pay_next_payment  maximum_credit_amount  current_balance  \\\n",
       "id                                                                       \n",
       "0                      0.00000             9826.00000          0.00000   \n",
       "0                      0.00000            16000.00000          0.00000   \n",
       "0                    100.00000            10205.00000       3505.00000   \n",
       "0                    191.00000            22920.00000      11269.00000   \n",
       "0                      0.00000           150000.00000          0.00000   \n",
       "\n",
       "    credit_limit  past_due_balance  number_of_payments_due  worst_delinquency  \\\n",
       "id                                                                              \n",
       "0        0.00000           0.00000                 0.00000            0.00000   \n",
       "0        0.00000           0.00000                 3.00000            1.00000   \n",
       "0        0.00000           0.00000                 3.00000            1.00000   \n",
       "0        0.00000           0.00000                 3.00000            1.00000   \n",
       "0        0.00000           0.00000                 0.00000            0.00000   \n",
       "\n",
       "    worst_delinquency_past_due_balance  is_close  is_deliquency  \n",
       "id                                                               \n",
       "0                              0.00000         1              0  \n",
       "0                            200.00000         1              1  \n",
       "0                            100.00000         0              1  \n",
       "0                            191.00000         0              1  \n",
       "0                              0.00000         1              0  "
      ]
     },
     "execution_count": 54,
     "metadata": {},
     "output_type": "execute_result"
    }
   ],
   "source": [
    "df.head()"
   ]
  },
  {
   "cell_type": "markdown",
   "id": "4e1e880e-a275-4fa8-babf-b9fe722b1af4",
   "metadata": {},
   "source": [
    "# Modeling"
   ]
  },
  {
   "cell_type": "code",
   "execution_count": 57,
   "id": "9dbf5586-2798-434b-8050-8590f8b118c2",
   "metadata": {},
   "outputs": [],
   "source": [
    "from sklearn.pipeline import Pipeline\n",
    "from sklearn.impute import SimpleImputer\n",
    "from sklearn.preprocessing import OneHotEncoder, StandardScaler\n",
    "from sklearn.compose import ColumnTransformer \n",
    "from sklearn.linear_model import LogisticRegression\n",
    "from sklearn.tree import DecisionTreeClassifier\n",
    "from sklearn.model_selection import train_test_split, RandomizedSearchCV\n",
    "from sklearn.metrics import accuracy_score, classification_report, plot_roc_curve, plot_confusion_matrix\n",
    "from xgboost import XGBClassifier"
   ]
  },
  {
   "cell_type": "markdown",
   "id": "1af3e2b6-2a26-47ca-bd87-19e6fa0c3442",
   "metadata": {},
   "source": [
    "#### Data preparation for modeling"
   ]
  },
  {
   "cell_type": "code",
   "execution_count": 58,
   "id": "6e738046-4592-42d2-8d79-69d5bcec0b3b",
   "metadata": {},
   "outputs": [],
   "source": [
    "X_train,X_test,y_train,y_test=train_test_split(\n",
    "    df.drop(['class'], axis = 1),\n",
    "    df[['class']],\n",
    "    train_size=0.7,\n",
    "    stratify=df[['class']],\n",
    "    random_state = 42)\n",
    "\n",
    "numeric_transformer = Pipeline(steps=[\n",
    "    ('imputer', SimpleImputer(strategy='median')),\n",
    "    ('scaler', StandardScaler())])\n",
    "categorical_transformer = Pipeline(steps=[\n",
    "    ('imputer', SimpleImputer(strategy='constant', fill_value='missing')),\n",
    "    ('onehot', OneHotEncoder(handle_unknown='ignore', sparse=False))])\n",
    "\n",
    "numeric_features = X_train.select_dtypes(include=['int64', 'float64']).columns\n",
    "categorical_features = X_train.select_dtypes(include=['object']).columns\n",
    "\n",
    "preprocessor = ColumnTransformer(\n",
    "transformers=[\n",
    "    ('num', numeric_transformer, numeric_features),\n",
    "    ('cat', categorical_transformer, categorical_features)])\n",
    "\n",
    "X_train = preprocessor.fit_transform(X_train)\n",
    "\n",
    "X_test_save = X_test\n",
    "X_test = preprocessor.transform(X_test)"
   ]
  },
  {
   "cell_type": "markdown",
   "id": "d4b38d99-72cf-4ace-8e7a-432f94b9b6be",
   "metadata": {},
   "source": [
    "#### Logistic Regession"
   ]
  },
  {
   "cell_type": "code",
   "execution_count": 59,
   "id": "5e2c0dcf-3635-4ee6-a136-ba66de3692d8",
   "metadata": {},
   "outputs": [
    {
     "name": "stderr",
     "output_type": "stream",
     "text": [
      "C:\\Users\\kimm0\\AppData\\Local\\Programs\\Python\\Python37\\lib\\site-packages\\sklearn\\utils\\validation.py:993: DataConversionWarning: A column-vector y was passed when a 1d array was expected. Please change the shape of y to (n_samples, ), for example using ravel().\n",
      "  y = column_or_1d(y, warn=True)\n"
     ]
    },
    {
     "name": "stdout",
     "output_type": "stream",
     "text": [
      "Accuracy: 0.7090%\n",
      "              precision    recall  f1-score   support\n",
      "\n",
      "           0       0.68      0.64      0.66      2178\n",
      "           1       0.73      0.76      0.74      2715\n",
      "\n",
      "    accuracy                           0.71      4893\n",
      "   macro avg       0.71      0.70      0.70      4893\n",
      "weighted avg       0.71      0.71      0.71      4893\n",
      "\n"
     ]
    },
    {
     "name": "stderr",
     "output_type": "stream",
     "text": [
      "C:\\Users\\kimm0\\AppData\\Local\\Programs\\Python\\Python37\\lib\\site-packages\\sklearn\\utils\\deprecation.py:87: FutureWarning: Function plot_confusion_matrix is deprecated; Function `plot_confusion_matrix` is deprecated in 1.0 and will be removed in 1.2. Use one of the class methods: ConfusionMatrixDisplay.from_predictions or ConfusionMatrixDisplay.from_estimator.\n",
      "  warnings.warn(msg, category=FutureWarning)\n",
      "C:\\Users\\kimm0\\AppData\\Local\\Programs\\Python\\Python37\\lib\\site-packages\\sklearn\\utils\\deprecation.py:87: FutureWarning: Function plot_roc_curve is deprecated; Function :func:`plot_roc_curve` is deprecated in 1.0 and will be removed in 1.2. Use one of the class methods: :meth:`sklearn.metric.RocCurveDisplay.from_predictions` or :meth:`sklearn.metric.RocCurveDisplay.from_estimator`.\n",
      "  warnings.warn(msg, category=FutureWarning)\n"
     ]
    },
    {
     "data": {
      "text/plain": [
       "<sklearn.metrics._plot.roc_curve.RocCurveDisplay at 0x1ed3b9de5c8>"
      ]
     },
     "execution_count": 59,
     "metadata": {},
     "output_type": "execute_result"
    },
    {
     "data": {
      "image/png": "[encoded data removed]",
      "text/plain": [
       "<Figure size 432x288 with 2 Axes>"
      ]
     },
     "metadata": {
      "needs_background": "light"
     },
     "output_type": "display_data"
    },
    {
     "data": {
      "image/png": "[encoded data removed]",
      "text/plain": [
       "<Figure size 432x288 with 1 Axes>"
      ]
     },
     "metadata": {
      "needs_background": "light"
     },
     "output_type": "display_data"
    }
   ],
   "source": [
    "lr = LogisticRegression(solver='liblinear', random_state=42)\n",
    "lr.fit(X_train, y_train)\n",
    "y_pred = lr.predict(X_test)\n",
    "accuracy_lr = accuracy_score(y_test, y_pred)\n",
    "print(\"Accuracy: %.4f%%\" % (accuracy_lr))\n",
    "print(classification_report(y_test,y_pred))\n",
    "plot_confusion_matrix(lr, X_test, y_test, cmap='RdPu')\n",
    "plot_roc_curve(lr, X_test, y_test) "
   ]
  },
  {
   "cell_type": "markdown",
   "id": "d9bd972d-75ce-40f1-b904-155a2bf66a1b",
   "metadata": {},
   "source": [
    "##### Hyperparameter Tunning Logistic Regression"
   ]
  },
  {
   "cell_type": "code",
   "execution_count": 60,
   "id": "9c82870f-e2b8-460b-aa31-86ab59f83011",
   "metadata": {},
   "outputs": [
    {
     "name": "stderr",
     "output_type": "stream",
     "text": [
      "C:\\Users\\kimm0\\AppData\\Local\\Programs\\Python\\Python37\\lib\\site-packages\\sklearn\\model_selection\\_validation.py:372: FitFailedWarning: \n",
      "5 fits failed out of a total of 50.\n",
      "The score on these train-test partitions for these parameters will be set to nan.\n",
      "If these failures are not expected, you can try to debug them by setting error_score='raise'.\n",
      "\n",
      "Below are more details about the failures:\n",
      "--------------------------------------------------------------------------------\n",
      "5 fits failed with the following error:\n",
      "Traceback (most recent call last):\n",
      "  File \"C:\\Users\\kimm0\\AppData\\Local\\Programs\\Python\\Python37\\lib\\site-packages\\sklearn\\model_selection\\_validation.py\", line 680, in _fit_and_score\n",
      "    estimator.fit(X_train, y_train, **fit_params)\n",
      "  File \"C:\\Users\\kimm0\\AppData\\Local\\Programs\\Python\\Python37\\lib\\site-packages\\sklearn\\linear_model\\_logistic.py\", line 1461, in fit\n",
      "    solver = _check_solver(self.solver, self.penalty, self.dual)\n",
      "  File \"C:\\Users\\kimm0\\AppData\\Local\\Programs\\Python\\Python37\\lib\\site-packages\\sklearn\\linear_model\\_logistic.py\", line 449, in _check_solver\n",
      "    % (solver, penalty)\n",
      "ValueError: Solver lbfgs supports only 'l2' or 'none' penalties, got l1 penalty.\n",
      "\n",
      "  warnings.warn(some_fits_failed_message, FitFailedWarning)\n",
      "C:\\Users\\kimm0\\AppData\\Local\\Programs\\Python\\Python37\\lib\\site-packages\\sklearn\\model_selection\\_search.py:972: UserWarning: One or more of the test scores are non-finite: [0.67852294 0.7066393  0.67344217 0.69516586 0.70532563 0.66634536\n",
      " 0.67966171 0.69542879        nan 0.57726008]\n",
      "  category=UserWarning,\n",
      "C:\\Users\\kimm0\\AppData\\Local\\Programs\\Python\\Python37\\lib\\site-packages\\sklearn\\utils\\validation.py:993: DataConversionWarning: A column-vector y was passed when a 1d array was expected. Please change the shape of y to (n_samples, ), for example using ravel().\n",
      "  y = column_or_1d(y, warn=True)\n"
     ]
    },
    {
     "name": "stdout",
     "output_type": "stream",
     "text": [
      "Accuracy: 0.7096%\n",
      "              precision    recall  f1-score   support\n",
      "\n",
      "           0       0.68      0.65      0.66      2178\n",
      "           1       0.73      0.76      0.74      2715\n",
      "\n",
      "    accuracy                           0.71      4893\n",
      "   macro avg       0.71      0.70      0.70      4893\n",
      "weighted avg       0.71      0.71      0.71      4893\n",
      "\n"
     ]
    },
    {
     "name": "stderr",
     "output_type": "stream",
     "text": [
      "C:\\Users\\kimm0\\AppData\\Local\\Programs\\Python\\Python37\\lib\\site-packages\\sklearn\\utils\\deprecation.py:87: FutureWarning: Function plot_confusion_matrix is deprecated; Function `plot_confusion_matrix` is deprecated in 1.0 and will be removed in 1.2. Use one of the class methods: ConfusionMatrixDisplay.from_predictions or ConfusionMatrixDisplay.from_estimator.\n",
      "  warnings.warn(msg, category=FutureWarning)\n",
      "C:\\Users\\kimm0\\AppData\\Local\\Programs\\Python\\Python37\\lib\\site-packages\\sklearn\\utils\\deprecation.py:87: FutureWarning: Function plot_roc_curve is deprecated; Function :func:`plot_roc_curve` is deprecated in 1.0 and will be removed in 1.2. Use one of the class methods: :meth:`sklearn.metric.RocCurveDisplay.from_predictions` or :meth:`sklearn.metric.RocCurveDisplay.from_estimator`.\n",
      "  warnings.warn(msg, category=FutureWarning)\n"
     ]
    },
    {
     "data": {
      "text/plain": [
       "<sklearn.metrics._plot.roc_curve.RocCurveDisplay at 0x1ed3bab5e48>"
      ]
     },
     "execution_count": 60,
     "metadata": {},
     "output_type": "execute_result"
    },
    {
     "data": {
      "image/png": "[encoded data removed]",
      "text/plain": [
       "<Figure size 432x288 with 2 Axes>"
      ]
     },
     "metadata": {
      "needs_background": "light"
     },
     "output_type": "display_data"
    },
    {
     "data": {
      "image/png": "[encoded data removed]",
      "text/plain": [
       "<Figure size 432x288 with 1 Axes>"
      ]
     },
     "metadata": {
      "needs_background": "light"
     },
     "output_type": "display_data"
    }
   ],
   "source": [
    "params_lr = {\n",
    "        'C' : [0.001, 0.01, 0.1, 1, 10],\n",
    "        'class_weight' : [{1:0.5, 0:0.5}, {1:0.4, 0:0.6}, {1:0.6, 0:0.4}, {1:0.7, 0:0.3}],\n",
    "        'solver' : ['liblinear', 'saga', 'lbfgs'],\n",
    "        'penalty' : ['l1', 'l2']\n",
    "        }\n",
    "\n",
    "random_search_lr = RandomizedSearchCV(lr, \n",
    "                                        param_distributions=params_lr,\n",
    "                                        n_iter=10, \n",
    "                                        scoring='accuracy', \n",
    "                                        n_jobs=-1,\n",
    "                                        cv=5)\n",
    "random_search_lr.fit(X_train, y_train)\n",
    "\n",
    "best_model_lr = random_search_lr.best_estimator_\n",
    "y_pred = best_model_lr.predict(X_test)\n",
    "accuracy_lr_tunning = accuracy_score(y_test,y_pred)\n",
    "print(\"Accuracy: %.4f%%\" % (accuracy_lr_tunning))\n",
    "print(classification_report(y_test,y_pred)) \n",
    "plot_confusion_matrix(best_model_lr, X_test, y_test, cmap='RdPu')\n",
    "plot_roc_curve(best_model_lr, X_test, y_test) "
   ]
  },
  {
   "cell_type": "markdown",
   "id": "5def78a8-6049-4c7b-914b-b64cb7b8046a",
   "metadata": {},
   "source": [
    "#### Decision Tree Classifier"
   ]
  },
  {
   "cell_type": "code",
   "execution_count": 61,
   "id": "9f65a2ad-ff21-44ff-9a26-389e07ad768d",
   "metadata": {},
   "outputs": [
    {
     "name": "stdout",
     "output_type": "stream",
     "text": [
      "Accuracy: 0.8911%\n",
      "              precision    recall  f1-score   support\n",
      "\n",
      "           0       0.88      0.88      0.88      2178\n",
      "           1       0.90      0.90      0.90      2715\n",
      "\n",
      "    accuracy                           0.89      4893\n",
      "   macro avg       0.89      0.89      0.89      4893\n",
      "weighted avg       0.89      0.89      0.89      4893\n",
      "\n"
     ]
    },
    {
     "name": "stderr",
     "output_type": "stream",
     "text": [
      "C:\\Users\\kimm0\\AppData\\Local\\Programs\\Python\\Python37\\lib\\site-packages\\sklearn\\utils\\deprecation.py:87: FutureWarning: Function plot_confusion_matrix is deprecated; Function `plot_confusion_matrix` is deprecated in 1.0 and will be removed in 1.2. Use one of the class methods: ConfusionMatrixDisplay.from_predictions or ConfusionMatrixDisplay.from_estimator.\n",
      "  warnings.warn(msg, category=FutureWarning)\n",
      "C:\\Users\\kimm0\\AppData\\Local\\Programs\\Python\\Python37\\lib\\site-packages\\sklearn\\utils\\deprecation.py:87: FutureWarning: Function plot_roc_curve is deprecated; Function :func:`plot_roc_curve` is deprecated in 1.0 and will be removed in 1.2. Use one of the class methods: :meth:`sklearn.metric.RocCurveDisplay.from_predictions` or :meth:`sklearn.metric.RocCurveDisplay.from_estimator`.\n",
      "  warnings.warn(msg, category=FutureWarning)\n"
     ]
    },
    {
     "data": {
      "text/plain": [
       "<sklearn.metrics._plot.roc_curve.RocCurveDisplay at 0x1ed3b9fd948>"
      ]
     },
     "execution_count": 61,
     "metadata": {},
     "output_type": "execute_result"
    },
    {
     "data": {
      "image/png": "[encoded data removed]",
      "text/plain": [
       "<Figure size 432x288 with 2 Axes>"
      ]
     },
     "metadata": {
      "needs_background": "light"
     },
     "output_type": "display_data"
    },
    {
     "data": {
      "image/png": "[encoded data removed]",
      "text/plain": [
       "<Figure size 432x288 with 1 Axes>"
      ]
     },
     "metadata": {
      "needs_background": "light"
     },
     "output_type": "display_data"
    }
   ],
   "source": [
    "dt = DecisionTreeClassifier(min_samples_leaf=1, min_samples_split=2, \n",
    "                            min_impurity_decrease = 0.0, criterion='gini', \n",
    "                            random_state=42)\n",
    "dt.fit(X_train, y_train)\n",
    "y_pred_dt = dt.predict(X_test)\n",
    "accuracy_dt = accuracy_score(y_test, y_pred_dt)\n",
    "print(\"Accuracy: %.4f%%\" % (accuracy_dt))\n",
    "print(classification_report(y_test,y_pred_dt))\n",
    "plot_confusion_matrix(dt, X_test, y_test, cmap='RdPu') \n",
    "plot_roc_curve(dt, X_test, y_test) "
   ]
  },
  {
   "cell_type": "markdown",
   "id": "9e5a397d-0f4c-47b3-9d96-060727c53fc3",
   "metadata": {},
   "source": [
    "#### XGBoost Classifier"
   ]
  },
  {
   "cell_type": "code",
   "execution_count": 62,
   "id": "c7b13775-c8a5-41db-a98d-4d2dac9f7300",
   "metadata": {},
   "outputs": [
    {
     "name": "stderr",
     "output_type": "stream",
     "text": [
      "C:\\Users\\kimm0\\AppData\\Local\\Programs\\Python\\Python37\\lib\\site-packages\\xgboost\\sklearn.py:1224: UserWarning: The use of label encoder in XGBClassifier is deprecated and will be removed in a future release. To remove this warning, do the following: 1) Pass option use_label_encoder=False when constructing XGBClassifier object; and 2) Encode your labels (y) as integers starting with 0, i.e. 0, 1, 2, ..., [num_class - 1].\n",
      "  warnings.warn(label_encoder_deprecation_msg, UserWarning)\n",
      "C:\\Users\\kimm0\\AppData\\Local\\Programs\\Python\\Python37\\lib\\site-packages\\sklearn\\preprocessing\\_label.py:98: DataConversionWarning: A column-vector y was passed when a 1d array was expected. Please change the shape of y to (n_samples, ), for example using ravel().\n",
      "  y = column_or_1d(y, warn=True)\n",
      "C:\\Users\\kimm0\\AppData\\Local\\Programs\\Python\\Python37\\lib\\site-packages\\sklearn\\preprocessing\\_label.py:133: DataConversionWarning: A column-vector y was passed when a 1d array was expected. Please change the shape of y to (n_samples, ), for example using ravel().\n",
      "  y = column_or_1d(y, warn=True)\n"
     ]
    },
    {
     "name": "stdout",
     "output_type": "stream",
     "text": [
      "[22:08:29] WARNING: C:/Users/Administrator/workspace/xgboost-win64_release_1.5.1/src/learner.cc:576: \n",
      "Parameters: { \"silent\" } might not be used.\n",
      "\n",
      "  This could be a false alarm, with some parameters getting used by language bindings but\n",
      "  then being mistakenly passed down to XGBoost core, or some parameter actually being used\n",
      "  but getting flagged wrongly here. Please open an issue if you find any such cases.\n",
      "\n",
      "\n",
      "[22:08:29] WARNING: C:/Users/Administrator/workspace/xgboost-win64_release_1.5.1/src/learner.cc:1115: Starting in XGBoost 1.3.0, the default evaluation metric used with the objective 'binary:logistic' was changed from 'error' to 'logloss'. Explicitly set eval_metric if you'd like to restore the old behavior.\n",
      "Accuracy: 0.7090%\n",
      "              precision    recall  f1-score   support\n",
      "\n",
      "           0       0.68      0.64      0.66      2178\n",
      "           1       0.73      0.76      0.74      2715\n",
      "\n",
      "    accuracy                           0.71      4893\n",
      "   macro avg       0.71      0.70      0.70      4893\n",
      "weighted avg       0.71      0.71      0.71      4893\n",
      "\n"
     ]
    },
    {
     "name": "stderr",
     "output_type": "stream",
     "text": [
      "C:\\Users\\kimm0\\AppData\\Local\\Programs\\Python\\Python37\\lib\\site-packages\\sklearn\\utils\\deprecation.py:87: FutureWarning: Function plot_confusion_matrix is deprecated; Function `plot_confusion_matrix` is deprecated in 1.0 and will be removed in 1.2. Use one of the class methods: ConfusionMatrixDisplay.from_predictions or ConfusionMatrixDisplay.from_estimator.\n",
      "  warnings.warn(msg, category=FutureWarning)\n",
      "C:\\Users\\kimm0\\AppData\\Local\\Programs\\Python\\Python37\\lib\\site-packages\\sklearn\\utils\\deprecation.py:87: FutureWarning: Function plot_roc_curve is deprecated; Function :func:`plot_roc_curve` is deprecated in 1.0 and will be removed in 1.2. Use one of the class methods: :meth:`sklearn.metric.RocCurveDisplay.from_predictions` or :meth:`sklearn.metric.RocCurveDisplay.from_estimator`.\n",
      "  warnings.warn(msg, category=FutureWarning)\n"
     ]
    },
    {
     "data": {
      "text/plain": [
       "<sklearn.metrics._plot.roc_curve.RocCurveDisplay at 0x1ed3f856c88>"
      ]
     },
     "execution_count": 62,
     "metadata": {},
     "output_type": "execute_result"
    },
    {
     "data": {
      "image/png": "[encoded data removed]",
      "text/plain": [
       "<Figure size 432x288 with 2 Axes>"
      ]
     },
     "metadata": {
      "needs_background": "light"
     },
     "output_type": "display_data"
    },
    {
     "data": {
      "image/png": "[encoded data removed]",
      "text/plain": [
       "<Figure size 432x288 with 1 Axes>"
      ]
     },
     "metadata": {
      "needs_background": "light"
     },
     "output_type": "display_data"
    }
   ],
   "source": [
    "xgb = XGBClassifier(n_estimators=600, learning_rate=0.02, objective='binary:logistic',\n",
    "                    silent=True, nthread=1)\n",
    "xgb.fit(X_train, y_train)\n",
    "y_pred_xgb = lr.predict(X_test)\n",
    "accuracy_xgb = accuracy_score(y_test, y_pred_xgb)\n",
    "print(\"Accuracy: %.4f%%\" % (accuracy_xgb))\n",
    "print(classification_report(y_test, y_pred_xgb))\n",
    "plot_confusion_matrix(xgb, X_test, y_test, cmap='RdPu')\n",
    "plot_roc_curve(xgb, X_test, y_test) "
   ]
  },
  {
   "cell_type": "markdown",
   "id": "939e594e-dc85-4f14-935c-5e76169ecedf",
   "metadata": {},
   "source": [
    "##### Hyperparameter Tunning XGBopost"
   ]
  },
  {
   "cell_type": "code",
   "execution_count": 64,
   "id": "4ec493df-20b5-42d6-a6f8-63f55a8bfff8",
   "metadata": {},
   "outputs": [],
   "source": [
    "params_xgb = {\n",
    "        'min_child_weight': [1, 5, 10],\n",
    "        'gamma': [0.2,0.5, 1, 1.5, 2, 5],\n",
    "        'subsample': [0.6, 0.8, 1.0],\n",
    "        'colsample_bytree': [0.6, 0.8, 1.0],\n",
    "        'max_depth': [4, 3, 5]\n",
    "        }\n",
    "\n",
    "random_search_xgb = RandomizedSearchCV(xgb, \n",
    "                                   param_distributions=params_xgb,\n",
    "                                   n_iter=10, \n",
    "                                   scoring='accuracy',\n",
    "                                cv=5)"
   ]
  },
  {
   "cell_type": "code",
   "execution_count": 65,
   "id": "8ddbfdda-6fbf-4a4a-b93d-908021647aec",
   "metadata": {},
   "outputs": [
    {
     "name": "stderr",
     "output_type": "stream",
     "text": [
      "C:\\Users\\kimm0\\AppData\\Local\\Programs\\Python\\Python37\\lib\\site-packages\\xgboost\\sklearn.py:1224: UserWarning: The use of label encoder in XGBClassifier is deprecated and will be removed in a future release. To remove this warning, do the following: 1) Pass option use_label_encoder=False when constructing XGBClassifier object; and 2) Encode your labels (y) as integers starting with 0, i.e. 0, 1, 2, ..., [num_class - 1].\n",
      "  warnings.warn(label_encoder_deprecation_msg, UserWarning)\n",
      "C:\\Users\\kimm0\\AppData\\Local\\Programs\\Python\\Python37\\lib\\site-packages\\sklearn\\preprocessing\\_label.py:98: DataConversionWarning: A column-vector y was passed when a 1d array was expected. Please change the shape of y to (n_samples, ), for example using ravel().\n",
      "  y = column_or_1d(y, warn=True)\n",
      "C:\\Users\\kimm0\\AppData\\Local\\Programs\\Python\\Python37\\lib\\site-packages\\sklearn\\preprocessing\\_label.py:133: DataConversionWarning: A column-vector y was passed when a 1d array was expected. Please change the shape of y to (n_samples, ), for example using ravel().\n",
      "  y = column_or_1d(y, warn=True)\n"
     ]
    },
    {
     "name": "stdout",
     "output_type": "stream",
     "text": [
      "[22:10:01] WARNING: C:/Users/Administrator/workspace/xgboost-win64_release_1.5.1/src/learner.cc:576: \n",
      "Parameters: { \"silent\" } might not be used.\n",
      "\n",
      "  This could be a false alarm, with some parameters getting used by language bindings but\n",
      "  then being mistakenly passed down to XGBoost core, or some parameter actually being used\n",
      "  but getting flagged wrongly here. Please open an issue if you find any such cases.\n",
      "\n",
      "\n",
      "[22:10:01] WARNING: C:/Users/Administrator/workspace/xgboost-win64_release_1.5.1/src/learner.cc:1115: Starting in XGBoost 1.3.0, the default evaluation metric used with the objective 'binary:logistic' was changed from 'error' to 'logloss'. Explicitly set eval_metric if you'd like to restore the old behavior.\n"
     ]
    },
    {
     "name": "stderr",
     "output_type": "stream",
     "text": [
      "C:\\Users\\kimm0\\AppData\\Local\\Programs\\Python\\Python37\\lib\\site-packages\\xgboost\\sklearn.py:1224: UserWarning: The use of label encoder in XGBClassifier is deprecated and will be removed in a future release. To remove this warning, do the following: 1) Pass option use_label_encoder=False when constructing XGBClassifier object; and 2) Encode your labels (y) as integers starting with 0, i.e. 0, 1, 2, ..., [num_class - 1].\n",
      "  warnings.warn(label_encoder_deprecation_msg, UserWarning)\n",
      "C:\\Users\\kimm0\\AppData\\Local\\Programs\\Python\\Python37\\lib\\site-packages\\sklearn\\preprocessing\\_label.py:98: DataConversionWarning: A column-vector y was passed when a 1d array was expected. Please change the shape of y to (n_samples, ), for example using ravel().\n",
      "  y = column_or_1d(y, warn=True)\n",
      "C:\\Users\\kimm0\\AppData\\Local\\Programs\\Python\\Python37\\lib\\site-packages\\sklearn\\preprocessing\\_label.py:133: DataConversionWarning: A column-vector y was passed when a 1d array was expected. Please change the shape of y to (n_samples, ), for example using ravel().\n",
      "  y = column_or_1d(y, warn=True)\n"
     ]
    },
    {
     "name": "stdout",
     "output_type": "stream",
     "text": [
      "[22:10:41] WARNING: C:/Users/Administrator/workspace/xgboost-win64_release_1.5.1/src/learner.cc:576: \n",
      "Parameters: { \"silent\" } might not be used.\n",
      "\n",
      "  This could be a false alarm, with some parameters getting used by language bindings but\n",
      "  then being mistakenly passed down to XGBoost core, or some parameter actually being used\n",
      "  but getting flagged wrongly here. Please open an issue if you find any such cases.\n",
      "\n",
      "\n",
      "[22:10:41] WARNING: C:/Users/Administrator/workspace/xgboost-win64_release_1.5.1/src/learner.cc:1115: Starting in XGBoost 1.3.0, the default evaluation metric used with the objective 'binary:logistic' was changed from 'error' to 'logloss'. Explicitly set eval_metric if you'd like to restore the old behavior.\n"
     ]
    },
    {
     "name": "stderr",
     "output_type": "stream",
     "text": [
      "C:\\Users\\kimm0\\AppData\\Local\\Programs\\Python\\Python37\\lib\\site-packages\\xgboost\\sklearn.py:1224: UserWarning: The use of label encoder in XGBClassifier is deprecated and will be removed in a future release. To remove this warning, do the following: 1) Pass option use_label_encoder=False when constructing XGBClassifier object; and 2) Encode your labels (y) as integers starting with 0, i.e. 0, 1, 2, ..., [num_class - 1].\n",
      "  warnings.warn(label_encoder_deprecation_msg, UserWarning)\n",
      "C:\\Users\\kimm0\\AppData\\Local\\Programs\\Python\\Python37\\lib\\site-packages\\sklearn\\preprocessing\\_label.py:98: DataConversionWarning: A column-vector y was passed when a 1d array was expected. Please change the shape of y to (n_samples, ), for example using ravel().\n",
      "  y = column_or_1d(y, warn=True)\n",
      "C:\\Users\\kimm0\\AppData\\Local\\Programs\\Python\\Python37\\lib\\site-packages\\sklearn\\preprocessing\\_label.py:133: DataConversionWarning: A column-vector y was passed when a 1d array was expected. Please change the shape of y to (n_samples, ), for example using ravel().\n",
      "  y = column_or_1d(y, warn=True)\n"
     ]
    },
    {
     "name": "stdout",
     "output_type": "stream",
     "text": [
      "[22:11:21] WARNING: C:/Users/Administrator/workspace/xgboost-win64_release_1.5.1/src/learner.cc:576: \n",
      "Parameters: { \"silent\" } might not be used.\n",
      "\n",
      "  This could be a false alarm, with some parameters getting used by language bindings but\n",
      "  then being mistakenly passed down to XGBoost core, or some parameter actually being used\n",
      "  but getting flagged wrongly here. Please open an issue if you find any such cases.\n",
      "\n",
      "\n",
      "[22:11:21] WARNING: C:/Users/Administrator/workspace/xgboost-win64_release_1.5.1/src/learner.cc:1115: Starting in XGBoost 1.3.0, the default evaluation metric used with the objective 'binary:logistic' was changed from 'error' to 'logloss'. Explicitly set eval_metric if you'd like to restore the old behavior.\n"
     ]
    },
    {
     "name": "stderr",
     "output_type": "stream",
     "text": [
      "C:\\Users\\kimm0\\AppData\\Local\\Programs\\Python\\Python37\\lib\\site-packages\\xgboost\\sklearn.py:1224: UserWarning: The use of label encoder in XGBClassifier is deprecated and will be removed in a future release. To remove this warning, do the following: 1) Pass option use_label_encoder=False when constructing XGBClassifier object; and 2) Encode your labels (y) as integers starting with 0, i.e. 0, 1, 2, ..., [num_class - 1].\n",
      "  warnings.warn(label_encoder_deprecation_msg, UserWarning)\n",
      "C:\\Users\\kimm0\\AppData\\Local\\Programs\\Python\\Python37\\lib\\site-packages\\sklearn\\preprocessing\\_label.py:98: DataConversionWarning: A column-vector y was passed when a 1d array was expected. Please change the shape of y to (n_samples, ), for example using ravel().\n",
      "  y = column_or_1d(y, warn=True)\n",
      "C:\\Users\\kimm0\\AppData\\Local\\Programs\\Python\\Python37\\lib\\site-packages\\sklearn\\preprocessing\\_label.py:133: DataConversionWarning: A column-vector y was passed when a 1d array was expected. Please change the shape of y to (n_samples, ), for example using ravel().\n",
      "  y = column_or_1d(y, warn=True)\n"
     ]
    },
    {
     "name": "stdout",
     "output_type": "stream",
     "text": [
      "[22:12:00] WARNING: C:/Users/Administrator/workspace/xgboost-win64_release_1.5.1/src/learner.cc:576: \n",
      "Parameters: { \"silent\" } might not be used.\n",
      "\n",
      "  This could be a false alarm, with some parameters getting used by language bindings but\n",
      "  then being mistakenly passed down to XGBoost core, or some parameter actually being used\n",
      "  but getting flagged wrongly here. Please open an issue if you find any such cases.\n",
      "\n",
      "\n",
      "[22:12:00] WARNING: C:/Users/Administrator/workspace/xgboost-win64_release_1.5.1/src/learner.cc:1115: Starting in XGBoost 1.3.0, the default evaluation metric used with the objective 'binary:logistic' was changed from 'error' to 'logloss'. Explicitly set eval_metric if you'd like to restore the old behavior.\n"
     ]
    },
    {
     "name": "stderr",
     "output_type": "stream",
     "text": [
      "C:\\Users\\kimm0\\AppData\\Local\\Programs\\Python\\Python37\\lib\\site-packages\\xgboost\\sklearn.py:1224: UserWarning: The use of label encoder in XGBClassifier is deprecated and will be removed in a future release. To remove this warning, do the following: 1) Pass option use_label_encoder=False when constructing XGBClassifier object; and 2) Encode your labels (y) as integers starting with 0, i.e. 0, 1, 2, ..., [num_class - 1].\n",
      "  warnings.warn(label_encoder_deprecation_msg, UserWarning)\n",
      "C:\\Users\\kimm0\\AppData\\Local\\Programs\\Python\\Python37\\lib\\site-packages\\sklearn\\preprocessing\\_label.py:98: DataConversionWarning: A column-vector y was passed when a 1d array was expected. Please change the shape of y to (n_samples, ), for example using ravel().\n",
      "  y = column_or_1d(y, warn=True)\n",
      "C:\\Users\\kimm0\\AppData\\Local\\Programs\\Python\\Python37\\lib\\site-packages\\sklearn\\preprocessing\\_label.py:133: DataConversionWarning: A column-vector y was passed when a 1d array was expected. Please change the shape of y to (n_samples, ), for example using ravel().\n",
      "  y = column_or_1d(y, warn=True)\n"
     ]
    },
    {
     "name": "stdout",
     "output_type": "stream",
     "text": [
      "[22:12:37] WARNING: C:/Users/Administrator/workspace/xgboost-win64_release_1.5.1/src/learner.cc:576: \n",
      "Parameters: { \"silent\" } might not be used.\n",
      "\n",
      "  This could be a false alarm, with some parameters getting used by language bindings but\n",
      "  then being mistakenly passed down to XGBoost core, or some parameter actually being used\n",
      "  but getting flagged wrongly here. Please open an issue if you find any such cases.\n",
      "\n",
      "\n",
      "[22:12:37] WARNING: C:/Users/Administrator/workspace/xgboost-win64_release_1.5.1/src/learner.cc:1115: Starting in XGBoost 1.3.0, the default evaluation metric used with the objective 'binary:logistic' was changed from 'error' to 'logloss'. Explicitly set eval_metric if you'd like to restore the old behavior.\n"
     ]
    },
    {
     "name": "stderr",
     "output_type": "stream",
     "text": [
      "C:\\Users\\kimm0\\AppData\\Local\\Programs\\Python\\Python37\\lib\\site-packages\\xgboost\\sklearn.py:1224: UserWarning: The use of label encoder in XGBClassifier is deprecated and will be removed in a future release. To remove this warning, do the following: 1) Pass option use_label_encoder=False when constructing XGBClassifier object; and 2) Encode your labels (y) as integers starting with 0, i.e. 0, 1, 2, ..., [num_class - 1].\n",
      "  warnings.warn(label_encoder_deprecation_msg, UserWarning)\n",
      "C:\\Users\\kimm0\\AppData\\Local\\Programs\\Python\\Python37\\lib\\site-packages\\sklearn\\preprocessing\\_label.py:98: DataConversionWarning: A column-vector y was passed when a 1d array was expected. Please change the shape of y to (n_samples, ), for example using ravel().\n",
      "  y = column_or_1d(y, warn=True)\n",
      "C:\\Users\\kimm0\\AppData\\Local\\Programs\\Python\\Python37\\lib\\site-packages\\sklearn\\preprocessing\\_label.py:133: DataConversionWarning: A column-vector y was passed when a 1d array was expected. Please change the shape of y to (n_samples, ), for example using ravel().\n",
      "  y = column_or_1d(y, warn=True)\n"
     ]
    },
    {
     "name": "stdout",
     "output_type": "stream",
     "text": [
      "[22:13:10] WARNING: C:/Users/Administrator/workspace/xgboost-win64_release_1.5.1/src/learner.cc:576: \n",
      "Parameters: { \"silent\" } might not be used.\n",
      "\n",
      "  This could be a false alarm, with some parameters getting used by language bindings but\n",
      "  then being mistakenly passed down to XGBoost core, or some parameter actually being used\n",
      "  but getting flagged wrongly here. Please open an issue if you find any such cases.\n",
      "\n",
      "\n",
      "[22:13:10] WARNING: C:/Users/Administrator/workspace/xgboost-win64_release_1.5.1/src/learner.cc:1115: Starting in XGBoost 1.3.0, the default evaluation metric used with the objective 'binary:logistic' was changed from 'error' to 'logloss'. Explicitly set eval_metric if you'd like to restore the old behavior.\n"
     ]
    },
    {
     "name": "stderr",
     "output_type": "stream",
     "text": [
      "C:\\Users\\kimm0\\AppData\\Local\\Programs\\Python\\Python37\\lib\\site-packages\\xgboost\\sklearn.py:1224: UserWarning: The use of label encoder in XGBClassifier is deprecated and will be removed in a future release. To remove this warning, do the following: 1) Pass option use_label_encoder=False when constructing XGBClassifier object; and 2) Encode your labels (y) as integers starting with 0, i.e. 0, 1, 2, ..., [num_class - 1].\n",
      "  warnings.warn(label_encoder_deprecation_msg, UserWarning)\n",
      "C:\\Users\\kimm0\\AppData\\Local\\Programs\\Python\\Python37\\lib\\site-packages\\sklearn\\preprocessing\\_label.py:98: DataConversionWarning: A column-vector y was passed when a 1d array was expected. Please change the shape of y to (n_samples, ), for example using ravel().\n",
      "  y = column_or_1d(y, warn=True)\n",
      "C:\\Users\\kimm0\\AppData\\Local\\Programs\\Python\\Python37\\lib\\site-packages\\sklearn\\preprocessing\\_label.py:133: DataConversionWarning: A column-vector y was passed when a 1d array was expected. Please change the shape of y to (n_samples, ), for example using ravel().\n",
      "  y = column_or_1d(y, warn=True)\n"
     ]
    },
    {
     "name": "stdout",
     "output_type": "stream",
     "text": [
      "[22:13:31] WARNING: C:/Users/Administrator/workspace/xgboost-win64_release_1.5.1/src/learner.cc:576: \n",
      "Parameters: { \"silent\" } might not be used.\n",
      "\n",
      "  This could be a false alarm, with some parameters getting used by language bindings but\n",
      "  then being mistakenly passed down to XGBoost core, or some parameter actually being used\n",
      "  but getting flagged wrongly here. Please open an issue if you find any such cases.\n",
      "\n",
      "\n",
      "[22:13:31] WARNING: C:/Users/Administrator/workspace/xgboost-win64_release_1.5.1/src/learner.cc:1115: Starting in XGBoost 1.3.0, the default evaluation metric used with the objective 'binary:logistic' was changed from 'error' to 'logloss'. Explicitly set eval_metric if you'd like to restore the old behavior.\n"
     ]
    },
    {
     "name": "stderr",
     "output_type": "stream",
     "text": [
      "C:\\Users\\kimm0\\AppData\\Local\\Programs\\Python\\Python37\\lib\\site-packages\\xgboost\\sklearn.py:1224: UserWarning: The use of label encoder in XGBClassifier is deprecated and will be removed in a future release. To remove this warning, do the following: 1) Pass option use_label_encoder=False when constructing XGBClassifier object; and 2) Encode your labels (y) as integers starting with 0, i.e. 0, 1, 2, ..., [num_class - 1].\n",
      "  warnings.warn(label_encoder_deprecation_msg, UserWarning)\n",
      "C:\\Users\\kimm0\\AppData\\Local\\Programs\\Python\\Python37\\lib\\site-packages\\sklearn\\preprocessing\\_label.py:98: DataConversionWarning: A column-vector y was passed when a 1d array was expected. Please change the shape of y to (n_samples, ), for example using ravel().\n",
      "  y = column_or_1d(y, warn=True)\n",
      "C:\\Users\\kimm0\\AppData\\Local\\Programs\\Python\\Python37\\lib\\site-packages\\sklearn\\preprocessing\\_label.py:133: DataConversionWarning: A column-vector y was passed when a 1d array was expected. Please change the shape of y to (n_samples, ), for example using ravel().\n",
      "  y = column_or_1d(y, warn=True)\n"
     ]
    },
    {
     "name": "stdout",
     "output_type": "stream",
     "text": [
      "[22:13:52] WARNING: C:/Users/Administrator/workspace/xgboost-win64_release_1.5.1/src/learner.cc:576: \n",
      "Parameters: { \"silent\" } might not be used.\n",
      "\n",
      "  This could be a false alarm, with some parameters getting used by language bindings but\n",
      "  then being mistakenly passed down to XGBoost core, or some parameter actually being used\n",
      "  but getting flagged wrongly here. Please open an issue if you find any such cases.\n",
      "\n",
      "\n",
      "[22:13:52] WARNING: C:/Users/Administrator/workspace/xgboost-win64_release_1.5.1/src/learner.cc:1115: Starting in XGBoost 1.3.0, the default evaluation metric used with the objective 'binary:logistic' was changed from 'error' to 'logloss'. Explicitly set eval_metric if you'd like to restore the old behavior.\n"
     ]
    },
    {
     "name": "stderr",
     "output_type": "stream",
     "text": [
      "C:\\Users\\kimm0\\AppData\\Local\\Programs\\Python\\Python37\\lib\\site-packages\\xgboost\\sklearn.py:1224: UserWarning: The use of label encoder in XGBClassifier is deprecated and will be removed in a future release. To remove this warning, do the following: 1) Pass option use_label_encoder=False when constructing XGBClassifier object; and 2) Encode your labels (y) as integers starting with 0, i.e. 0, 1, 2, ..., [num_class - 1].\n",
      "  warnings.warn(label_encoder_deprecation_msg, UserWarning)\n",
      "C:\\Users\\kimm0\\AppData\\Local\\Programs\\Python\\Python37\\lib\\site-packages\\sklearn\\preprocessing\\_label.py:98: DataConversionWarning: A column-vector y was passed when a 1d array was expected. Please change the shape of y to (n_samples, ), for example using ravel().\n",
      "  y = column_or_1d(y, warn=True)\n",
      "C:\\Users\\kimm0\\AppData\\Local\\Programs\\Python\\Python37\\lib\\site-packages\\sklearn\\preprocessing\\_label.py:133: DataConversionWarning: A column-vector y was passed when a 1d array was expected. Please change the shape of y to (n_samples, ), for example using ravel().\n",
      "  y = column_or_1d(y, warn=True)\n"
     ]
    },
    {
     "name": "stdout",
     "output_type": "stream",
     "text": [
      "[22:14:12] WARNING: C:/Users/Administrator/workspace/xgboost-win64_release_1.5.1/src/learner.cc:576: \n",
      "Parameters: { \"silent\" } might not be used.\n",
      "\n",
      "  This could be a false alarm, with some parameters getting used by language bindings but\n",
      "  then being mistakenly passed down to XGBoost core, or some parameter actually being used\n",
      "  but getting flagged wrongly here. Please open an issue if you find any such cases.\n",
      "\n",
      "\n",
      "[22:14:12] WARNING: C:/Users/Administrator/workspace/xgboost-win64_release_1.5.1/src/learner.cc:1115: Starting in XGBoost 1.3.0, the default evaluation metric used with the objective 'binary:logistic' was changed from 'error' to 'logloss'. Explicitly set eval_metric if you'd like to restore the old behavior.\n"
     ]
    },
    {
     "name": "stderr",
     "output_type": "stream",
     "text": [
      "C:\\Users\\kimm0\\AppData\\Local\\Programs\\Python\\Python37\\lib\\site-packages\\xgboost\\sklearn.py:1224: UserWarning: The use of label encoder in XGBClassifier is deprecated and will be removed in a future release. To remove this warning, do the following: 1) Pass option use_label_encoder=False when constructing XGBClassifier object; and 2) Encode your labels (y) as integers starting with 0, i.e. 0, 1, 2, ..., [num_class - 1].\n",
      "  warnings.warn(label_encoder_deprecation_msg, UserWarning)\n",
      "C:\\Users\\kimm0\\AppData\\Local\\Programs\\Python\\Python37\\lib\\site-packages\\sklearn\\preprocessing\\_label.py:98: DataConversionWarning: A column-vector y was passed when a 1d array was expected. Please change the shape of y to (n_samples, ), for example using ravel().\n",
      "  y = column_or_1d(y, warn=True)\n",
      "C:\\Users\\kimm0\\AppData\\Local\\Programs\\Python\\Python37\\lib\\site-packages\\sklearn\\preprocessing\\_label.py:133: DataConversionWarning: A column-vector y was passed when a 1d array was expected. Please change the shape of y to (n_samples, ), for example using ravel().\n",
      "  y = column_or_1d(y, warn=True)\n"
     ]
    },
    {
     "name": "stdout",
     "output_type": "stream",
     "text": [
      "[22:14:32] WARNING: C:/Users/Administrator/workspace/xgboost-win64_release_1.5.1/src/learner.cc:576: \n",
      "Parameters: { \"silent\" } might not be used.\n",
      "\n",
      "  This could be a false alarm, with some parameters getting used by language bindings but\n",
      "  then being mistakenly passed down to XGBoost core, or some parameter actually being used\n",
      "  but getting flagged wrongly here. Please open an issue if you find any such cases.\n",
      "\n",
      "\n",
      "[22:14:32] WARNING: C:/Users/Administrator/workspace/xgboost-win64_release_1.5.1/src/learner.cc:1115: Starting in XGBoost 1.3.0, the default evaluation metric used with the objective 'binary:logistic' was changed from 'error' to 'logloss'. Explicitly set eval_metric if you'd like to restore the old behavior.\n"
     ]
    },
    {
     "name": "stderr",
     "output_type": "stream",
     "text": [
      "C:\\Users\\kimm0\\AppData\\Local\\Programs\\Python\\Python37\\lib\\site-packages\\xgboost\\sklearn.py:1224: UserWarning: The use of label encoder in XGBClassifier is deprecated and will be removed in a future release. To remove this warning, do the following: 1) Pass option use_label_encoder=False when constructing XGBClassifier object; and 2) Encode your labels (y) as integers starting with 0, i.e. 0, 1, 2, ..., [num_class - 1].\n",
      "  warnings.warn(label_encoder_deprecation_msg, UserWarning)\n",
      "C:\\Users\\kimm0\\AppData\\Local\\Programs\\Python\\Python37\\lib\\site-packages\\sklearn\\preprocessing\\_label.py:98: DataConversionWarning: A column-vector y was passed when a 1d array was expected. Please change the shape of y to (n_samples, ), for example using ravel().\n",
      "  y = column_or_1d(y, warn=True)\n",
      "C:\\Users\\kimm0\\AppData\\Local\\Programs\\Python\\Python37\\lib\\site-packages\\sklearn\\preprocessing\\_label.py:133: DataConversionWarning: A column-vector y was passed when a 1d array was expected. Please change the shape of y to (n_samples, ), for example using ravel().\n",
      "  y = column_or_1d(y, warn=True)\n"
     ]
    },
    {
     "name": "stdout",
     "output_type": "stream",
     "text": [
      "[22:14:53] WARNING: C:/Users/Administrator/workspace/xgboost-win64_release_1.5.1/src/learner.cc:576: \n",
      "Parameters: { \"silent\" } might not be used.\n",
      "\n",
      "  This could be a false alarm, with some parameters getting used by language bindings but\n",
      "  then being mistakenly passed down to XGBoost core, or some parameter actually being used\n",
      "  but getting flagged wrongly here. Please open an issue if you find any such cases.\n",
      "\n",
      "\n",
      "[22:14:53] WARNING: C:/Users/Administrator/workspace/xgboost-win64_release_1.5.1/src/learner.cc:1115: Starting in XGBoost 1.3.0, the default evaluation metric used with the objective 'binary:logistic' was changed from 'error' to 'logloss'. Explicitly set eval_metric if you'd like to restore the old behavior.\n"
     ]
    },
    {
     "name": "stderr",
     "output_type": "stream",
     "text": [
      "C:\\Users\\kimm0\\AppData\\Local\\Programs\\Python\\Python37\\lib\\site-packages\\xgboost\\sklearn.py:1224: UserWarning: The use of label encoder in XGBClassifier is deprecated and will be removed in a future release. To remove this warning, do the following: 1) Pass option use_label_encoder=False when constructing XGBClassifier object; and 2) Encode your labels (y) as integers starting with 0, i.e. 0, 1, 2, ..., [num_class - 1].\n",
      "  warnings.warn(label_encoder_deprecation_msg, UserWarning)\n",
      "C:\\Users\\kimm0\\AppData\\Local\\Programs\\Python\\Python37\\lib\\site-packages\\sklearn\\preprocessing\\_label.py:98: DataConversionWarning: A column-vector y was passed when a 1d array was expected. Please change the shape of y to (n_samples, ), for example using ravel().\n",
      "  y = column_or_1d(y, warn=True)\n",
      "C:\\Users\\kimm0\\AppData\\Local\\Programs\\Python\\Python37\\lib\\site-packages\\sklearn\\preprocessing\\_label.py:133: DataConversionWarning: A column-vector y was passed when a 1d array was expected. Please change the shape of y to (n_samples, ), for example using ravel().\n",
      "  y = column_or_1d(y, warn=True)\n"
     ]
    },
    {
     "name": "stdout",
     "output_type": "stream",
     "text": [
      "[22:15:21] WARNING: C:/Users/Administrator/workspace/xgboost-win64_release_1.5.1/src/learner.cc:576: \n",
      "Parameters: { \"silent\" } might not be used.\n",
      "\n",
      "  This could be a false alarm, with some parameters getting used by language bindings but\n",
      "  then being mistakenly passed down to XGBoost core, or some parameter actually being used\n",
      "  but getting flagged wrongly here. Please open an issue if you find any such cases.\n",
      "\n",
      "\n",
      "[22:15:21] WARNING: C:/Users/Administrator/workspace/xgboost-win64_release_1.5.1/src/learner.cc:1115: Starting in XGBoost 1.3.0, the default evaluation metric used with the objective 'binary:logistic' was changed from 'error' to 'logloss'. Explicitly set eval_metric if you'd like to restore the old behavior.\n"
     ]
    },
    {
     "name": "stderr",
     "output_type": "stream",
     "text": [
      "C:\\Users\\kimm0\\AppData\\Local\\Programs\\Python\\Python37\\lib\\site-packages\\xgboost\\sklearn.py:1224: UserWarning: The use of label encoder in XGBClassifier is deprecated and will be removed in a future release. To remove this warning, do the following: 1) Pass option use_label_encoder=False when constructing XGBClassifier object; and 2) Encode your labels (y) as integers starting with 0, i.e. 0, 1, 2, ..., [num_class - 1].\n",
      "  warnings.warn(label_encoder_deprecation_msg, UserWarning)\n",
      "C:\\Users\\kimm0\\AppData\\Local\\Programs\\Python\\Python37\\lib\\site-packages\\sklearn\\preprocessing\\_label.py:98: DataConversionWarning: A column-vector y was passed when a 1d array was expected. Please change the shape of y to (n_samples, ), for example using ravel().\n",
      "  y = column_or_1d(y, warn=True)\n",
      "C:\\Users\\kimm0\\AppData\\Local\\Programs\\Python\\Python37\\lib\\site-packages\\sklearn\\preprocessing\\_label.py:133: DataConversionWarning: A column-vector y was passed when a 1d array was expected. Please change the shape of y to (n_samples, ), for example using ravel().\n",
      "  y = column_or_1d(y, warn=True)\n"
     ]
    },
    {
     "name": "stdout",
     "output_type": "stream",
     "text": [
      "[22:15:51] WARNING: C:/Users/Administrator/workspace/xgboost-win64_release_1.5.1/src/learner.cc:576: \n",
      "Parameters: { \"silent\" } might not be used.\n",
      "\n",
      "  This could be a false alarm, with some parameters getting used by language bindings but\n",
      "  then being mistakenly passed down to XGBoost core, or some parameter actually being used\n",
      "  but getting flagged wrongly here. Please open an issue if you find any such cases.\n",
      "\n",
      "\n",
      "[22:15:52] WARNING: C:/Users/Administrator/workspace/xgboost-win64_release_1.5.1/src/learner.cc:1115: Starting in XGBoost 1.3.0, the default evaluation metric used with the objective 'binary:logistic' was changed from 'error' to 'logloss'. Explicitly set eval_metric if you'd like to restore the old behavior.\n"
     ]
    },
    {
     "name": "stderr",
     "output_type": "stream",
     "text": [
      "C:\\Users\\kimm0\\AppData\\Local\\Programs\\Python\\Python37\\lib\\site-packages\\xgboost\\sklearn.py:1224: UserWarning: The use of label encoder in XGBClassifier is deprecated and will be removed in a future release. To remove this warning, do the following: 1) Pass option use_label_encoder=False when constructing XGBClassifier object; and 2) Encode your labels (y) as integers starting with 0, i.e. 0, 1, 2, ..., [num_class - 1].\n",
      "  warnings.warn(label_encoder_deprecation_msg, UserWarning)\n",
      "C:\\Users\\kimm0\\AppData\\Local\\Programs\\Python\\Python37\\lib\\site-packages\\sklearn\\preprocessing\\_label.py:98: DataConversionWarning: A column-vector y was passed when a 1d array was expected. Please change the shape of y to (n_samples, ), for example using ravel().\n",
      "  y = column_or_1d(y, warn=True)\n",
      "C:\\Users\\kimm0\\AppData\\Local\\Programs\\Python\\Python37\\lib\\site-packages\\sklearn\\preprocessing\\_label.py:133: DataConversionWarning: A column-vector y was passed when a 1d array was expected. Please change the shape of y to (n_samples, ), for example using ravel().\n",
      "  y = column_or_1d(y, warn=True)\n"
     ]
    },
    {
     "name": "stdout",
     "output_type": "stream",
     "text": [
      "[22:16:23] WARNING: C:/Users/Administrator/workspace/xgboost-win64_release_1.5.1/src/learner.cc:576: \n",
      "Parameters: { \"silent\" } might not be used.\n",
      "\n",
      "  This could be a false alarm, with some parameters getting used by language bindings but\n",
      "  then being mistakenly passed down to XGBoost core, or some parameter actually being used\n",
      "  but getting flagged wrongly here. Please open an issue if you find any such cases.\n",
      "\n",
      "\n",
      "[22:16:23] WARNING: C:/Users/Administrator/workspace/xgboost-win64_release_1.5.1/src/learner.cc:1115: Starting in XGBoost 1.3.0, the default evaluation metric used with the objective 'binary:logistic' was changed from 'error' to 'logloss'. Explicitly set eval_metric if you'd like to restore the old behavior.\n"
     ]
    },
    {
     "name": "stderr",
     "output_type": "stream",
     "text": [
      "C:\\Users\\kimm0\\AppData\\Local\\Programs\\Python\\Python37\\lib\\site-packages\\xgboost\\sklearn.py:1224: UserWarning: The use of label encoder in XGBClassifier is deprecated and will be removed in a future release. To remove this warning, do the following: 1) Pass option use_label_encoder=False when constructing XGBClassifier object; and 2) Encode your labels (y) as integers starting with 0, i.e. 0, 1, 2, ..., [num_class - 1].\n",
      "  warnings.warn(label_encoder_deprecation_msg, UserWarning)\n",
      "C:\\Users\\kimm0\\AppData\\Local\\Programs\\Python\\Python37\\lib\\site-packages\\sklearn\\preprocessing\\_label.py:98: DataConversionWarning: A column-vector y was passed when a 1d array was expected. Please change the shape of y to (n_samples, ), for example using ravel().\n",
      "  y = column_or_1d(y, warn=True)\n",
      "C:\\Users\\kimm0\\AppData\\Local\\Programs\\Python\\Python37\\lib\\site-packages\\sklearn\\preprocessing\\_label.py:133: DataConversionWarning: A column-vector y was passed when a 1d array was expected. Please change the shape of y to (n_samples, ), for example using ravel().\n",
      "  y = column_or_1d(y, warn=True)\n"
     ]
    },
    {
     "name": "stdout",
     "output_type": "stream",
     "text": [
      "[22:16:53] WARNING: C:/Users/Administrator/workspace/xgboost-win64_release_1.5.1/src/learner.cc:576: \n",
      "Parameters: { \"silent\" } might not be used.\n",
      "\n",
      "  This could be a false alarm, with some parameters getting used by language bindings but\n",
      "  then being mistakenly passed down to XGBoost core, or some parameter actually being used\n",
      "  but getting flagged wrongly here. Please open an issue if you find any such cases.\n",
      "\n",
      "\n",
      "[22:16:53] WARNING: C:/Users/Administrator/workspace/xgboost-win64_release_1.5.1/src/learner.cc:1115: Starting in XGBoost 1.3.0, the default evaluation metric used with the objective 'binary:logistic' was changed from 'error' to 'logloss'. Explicitly set eval_metric if you'd like to restore the old behavior.\n"
     ]
    },
    {
     "name": "stderr",
     "output_type": "stream",
     "text": [
      "C:\\Users\\kimm0\\AppData\\Local\\Programs\\Python\\Python37\\lib\\site-packages\\xgboost\\sklearn.py:1224: UserWarning: The use of label encoder in XGBClassifier is deprecated and will be removed in a future release. To remove this warning, do the following: 1) Pass option use_label_encoder=False when constructing XGBClassifier object; and 2) Encode your labels (y) as integers starting with 0, i.e. 0, 1, 2, ..., [num_class - 1].\n",
      "  warnings.warn(label_encoder_deprecation_msg, UserWarning)\n",
      "C:\\Users\\kimm0\\AppData\\Local\\Programs\\Python\\Python37\\lib\\site-packages\\sklearn\\preprocessing\\_label.py:98: DataConversionWarning: A column-vector y was passed when a 1d array was expected. Please change the shape of y to (n_samples, ), for example using ravel().\n",
      "  y = column_or_1d(y, warn=True)\n",
      "C:\\Users\\kimm0\\AppData\\Local\\Programs\\Python\\Python37\\lib\\site-packages\\sklearn\\preprocessing\\_label.py:133: DataConversionWarning: A column-vector y was passed when a 1d array was expected. Please change the shape of y to (n_samples, ), for example using ravel().\n",
      "  y = column_or_1d(y, warn=True)\n"
     ]
    },
    {
     "name": "stdout",
     "output_type": "stream",
     "text": [
      "[22:17:23] WARNING: C:/Users/Administrator/workspace/xgboost-win64_release_1.5.1/src/learner.cc:576: \n",
      "Parameters: { \"silent\" } might not be used.\n",
      "\n",
      "  This could be a false alarm, with some parameters getting used by language bindings but\n",
      "  then being mistakenly passed down to XGBoost core, or some parameter actually being used\n",
      "  but getting flagged wrongly here. Please open an issue if you find any such cases.\n",
      "\n",
      "\n",
      "[22:17:23] WARNING: C:/Users/Administrator/workspace/xgboost-win64_release_1.5.1/src/learner.cc:1115: Starting in XGBoost 1.3.0, the default evaluation metric used with the objective 'binary:logistic' was changed from 'error' to 'logloss'. Explicitly set eval_metric if you'd like to restore the old behavior.\n"
     ]
    },
    {
     "name": "stderr",
     "output_type": "stream",
     "text": [
      "C:\\Users\\kimm0\\AppData\\Local\\Programs\\Python\\Python37\\lib\\site-packages\\xgboost\\sklearn.py:1224: UserWarning: The use of label encoder in XGBClassifier is deprecated and will be removed in a future release. To remove this warning, do the following: 1) Pass option use_label_encoder=False when constructing XGBClassifier object; and 2) Encode your labels (y) as integers starting with 0, i.e. 0, 1, 2, ..., [num_class - 1].\n",
      "  warnings.warn(label_encoder_deprecation_msg, UserWarning)\n",
      "C:\\Users\\kimm0\\AppData\\Local\\Programs\\Python\\Python37\\lib\\site-packages\\sklearn\\preprocessing\\_label.py:98: DataConversionWarning: A column-vector y was passed when a 1d array was expected. Please change the shape of y to (n_samples, ), for example using ravel().\n",
      "  y = column_or_1d(y, warn=True)\n",
      "C:\\Users\\kimm0\\AppData\\Local\\Programs\\Python\\Python37\\lib\\site-packages\\sklearn\\preprocessing\\_label.py:133: DataConversionWarning: A column-vector y was passed when a 1d array was expected. Please change the shape of y to (n_samples, ), for example using ravel().\n",
      "  y = column_or_1d(y, warn=True)\n"
     ]
    },
    {
     "name": "stdout",
     "output_type": "stream",
     "text": [
      "[22:17:50] WARNING: C:/Users/Administrator/workspace/xgboost-win64_release_1.5.1/src/learner.cc:576: \n",
      "Parameters: { \"silent\" } might not be used.\n",
      "\n",
      "  This could be a false alarm, with some parameters getting used by language bindings but\n",
      "  then being mistakenly passed down to XGBoost core, or some parameter actually being used\n",
      "  but getting flagged wrongly here. Please open an issue if you find any such cases.\n",
      "\n",
      "\n",
      "[22:17:50] WARNING: C:/Users/Administrator/workspace/xgboost-win64_release_1.5.1/src/learner.cc:1115: Starting in XGBoost 1.3.0, the default evaluation metric used with the objective 'binary:logistic' was changed from 'error' to 'logloss'. Explicitly set eval_metric if you'd like to restore the old behavior.\n"
     ]
    },
    {
     "name": "stderr",
     "output_type": "stream",
     "text": [
      "C:\\Users\\kimm0\\AppData\\Local\\Programs\\Python\\Python37\\lib\\site-packages\\xgboost\\sklearn.py:1224: UserWarning: The use of label encoder in XGBClassifier is deprecated and will be removed in a future release. To remove this warning, do the following: 1) Pass option use_label_encoder=False when constructing XGBClassifier object; and 2) Encode your labels (y) as integers starting with 0, i.e. 0, 1, 2, ..., [num_class - 1].\n",
      "  warnings.warn(label_encoder_deprecation_msg, UserWarning)\n",
      "C:\\Users\\kimm0\\AppData\\Local\\Programs\\Python\\Python37\\lib\\site-packages\\sklearn\\preprocessing\\_label.py:98: DataConversionWarning: A column-vector y was passed when a 1d array was expected. Please change the shape of y to (n_samples, ), for example using ravel().\n",
      "  y = column_or_1d(y, warn=True)\n",
      "C:\\Users\\kimm0\\AppData\\Local\\Programs\\Python\\Python37\\lib\\site-packages\\sklearn\\preprocessing\\_label.py:133: DataConversionWarning: A column-vector y was passed when a 1d array was expected. Please change the shape of y to (n_samples, ), for example using ravel().\n",
      "  y = column_or_1d(y, warn=True)\n"
     ]
    },
    {
     "name": "stdout",
     "output_type": "stream",
     "text": [
      "[22:18:16] WARNING: C:/Users/Administrator/workspace/xgboost-win64_release_1.5.1/src/learner.cc:576: \n",
      "Parameters: { \"silent\" } might not be used.\n",
      "\n",
      "  This could be a false alarm, with some parameters getting used by language bindings but\n",
      "  then being mistakenly passed down to XGBoost core, or some parameter actually being used\n",
      "  but getting flagged wrongly here. Please open an issue if you find any such cases.\n",
      "\n",
      "\n",
      "[22:18:16] WARNING: C:/Users/Administrator/workspace/xgboost-win64_release_1.5.1/src/learner.cc:1115: Starting in XGBoost 1.3.0, the default evaluation metric used with the objective 'binary:logistic' was changed from 'error' to 'logloss'. Explicitly set eval_metric if you'd like to restore the old behavior.\n"
     ]
    },
    {
     "name": "stderr",
     "output_type": "stream",
     "text": [
      "C:\\Users\\kimm0\\AppData\\Local\\Programs\\Python\\Python37\\lib\\site-packages\\xgboost\\sklearn.py:1224: UserWarning: The use of label encoder in XGBClassifier is deprecated and will be removed in a future release. To remove this warning, do the following: 1) Pass option use_label_encoder=False when constructing XGBClassifier object; and 2) Encode your labels (y) as integers starting with 0, i.e. 0, 1, 2, ..., [num_class - 1].\n",
      "  warnings.warn(label_encoder_deprecation_msg, UserWarning)\n",
      "C:\\Users\\kimm0\\AppData\\Local\\Programs\\Python\\Python37\\lib\\site-packages\\sklearn\\preprocessing\\_label.py:98: DataConversionWarning: A column-vector y was passed when a 1d array was expected. Please change the shape of y to (n_samples, ), for example using ravel().\n",
      "  y = column_or_1d(y, warn=True)\n",
      "C:\\Users\\kimm0\\AppData\\Local\\Programs\\Python\\Python37\\lib\\site-packages\\sklearn\\preprocessing\\_label.py:133: DataConversionWarning: A column-vector y was passed when a 1d array was expected. Please change the shape of y to (n_samples, ), for example using ravel().\n",
      "  y = column_or_1d(y, warn=True)\n"
     ]
    },
    {
     "name": "stdout",
     "output_type": "stream",
     "text": [
      "[22:18:43] WARNING: C:/Users/Administrator/workspace/xgboost-win64_release_1.5.1/src/learner.cc:576: \n",
      "Parameters: { \"silent\" } might not be used.\n",
      "\n",
      "  This could be a false alarm, with some parameters getting used by language bindings but\n",
      "  then being mistakenly passed down to XGBoost core, or some parameter actually being used\n",
      "  but getting flagged wrongly here. Please open an issue if you find any such cases.\n",
      "\n",
      "\n",
      "[22:18:43] WARNING: C:/Users/Administrator/workspace/xgboost-win64_release_1.5.1/src/learner.cc:1115: Starting in XGBoost 1.3.0, the default evaluation metric used with the objective 'binary:logistic' was changed from 'error' to 'logloss'. Explicitly set eval_metric if you'd like to restore the old behavior.\n"
     ]
    },
    {
     "name": "stderr",
     "output_type": "stream",
     "text": [
      "C:\\Users\\kimm0\\AppData\\Local\\Programs\\Python\\Python37\\lib\\site-packages\\xgboost\\sklearn.py:1224: UserWarning: The use of label encoder in XGBClassifier is deprecated and will be removed in a future release. To remove this warning, do the following: 1) Pass option use_label_encoder=False when constructing XGBClassifier object; and 2) Encode your labels (y) as integers starting with 0, i.e. 0, 1, 2, ..., [num_class - 1].\n",
      "  warnings.warn(label_encoder_deprecation_msg, UserWarning)\n",
      "C:\\Users\\kimm0\\AppData\\Local\\Programs\\Python\\Python37\\lib\\site-packages\\sklearn\\preprocessing\\_label.py:98: DataConversionWarning: A column-vector y was passed when a 1d array was expected. Please change the shape of y to (n_samples, ), for example using ravel().\n",
      "  y = column_or_1d(y, warn=True)\n",
      "C:\\Users\\kimm0\\AppData\\Local\\Programs\\Python\\Python37\\lib\\site-packages\\sklearn\\preprocessing\\_label.py:133: DataConversionWarning: A column-vector y was passed when a 1d array was expected. Please change the shape of y to (n_samples, ), for example using ravel().\n",
      "  y = column_or_1d(y, warn=True)\n"
     ]
    },
    {
     "name": "stdout",
     "output_type": "stream",
     "text": [
      "[22:19:11] WARNING: C:/Users/Administrator/workspace/xgboost-win64_release_1.5.1/src/learner.cc:576: \n",
      "Parameters: { \"silent\" } might not be used.\n",
      "\n",
      "  This could be a false alarm, with some parameters getting used by language bindings but\n",
      "  then being mistakenly passed down to XGBoost core, or some parameter actually being used\n",
      "  but getting flagged wrongly here. Please open an issue if you find any such cases.\n",
      "\n",
      "\n",
      "[22:19:11] WARNING: C:/Users/Administrator/workspace/xgboost-win64_release_1.5.1/src/learner.cc:1115: Starting in XGBoost 1.3.0, the default evaluation metric used with the objective 'binary:logistic' was changed from 'error' to 'logloss'. Explicitly set eval_metric if you'd like to restore the old behavior.\n"
     ]
    },
    {
     "name": "stderr",
     "output_type": "stream",
     "text": [
      "C:\\Users\\kimm0\\AppData\\Local\\Programs\\Python\\Python37\\lib\\site-packages\\xgboost\\sklearn.py:1224: UserWarning: The use of label encoder in XGBClassifier is deprecated and will be removed in a future release. To remove this warning, do the following: 1) Pass option use_label_encoder=False when constructing XGBClassifier object; and 2) Encode your labels (y) as integers starting with 0, i.e. 0, 1, 2, ..., [num_class - 1].\n",
      "  warnings.warn(label_encoder_deprecation_msg, UserWarning)\n",
      "C:\\Users\\kimm0\\AppData\\Local\\Programs\\Python\\Python37\\lib\\site-packages\\sklearn\\preprocessing\\_label.py:98: DataConversionWarning: A column-vector y was passed when a 1d array was expected. Please change the shape of y to (n_samples, ), for example using ravel().\n",
      "  y = column_or_1d(y, warn=True)\n",
      "C:\\Users\\kimm0\\AppData\\Local\\Programs\\Python\\Python37\\lib\\site-packages\\sklearn\\preprocessing\\_label.py:133: DataConversionWarning: A column-vector y was passed when a 1d array was expected. Please change the shape of y to (n_samples, ), for example using ravel().\n",
      "  y = column_or_1d(y, warn=True)\n"
     ]
    },
    {
     "name": "stdout",
     "output_type": "stream",
     "text": [
      "[22:19:38] WARNING: C:/Users/Administrator/workspace/xgboost-win64_release_1.5.1/src/learner.cc:576: \n",
      "Parameters: { \"silent\" } might not be used.\n",
      "\n",
      "  This could be a false alarm, with some parameters getting used by language bindings but\n",
      "  then being mistakenly passed down to XGBoost core, or some parameter actually being used\n",
      "  but getting flagged wrongly here. Please open an issue if you find any such cases.\n",
      "\n",
      "\n",
      "[22:19:38] WARNING: C:/Users/Administrator/workspace/xgboost-win64_release_1.5.1/src/learner.cc:1115: Starting in XGBoost 1.3.0, the default evaluation metric used with the objective 'binary:logistic' was changed from 'error' to 'logloss'. Explicitly set eval_metric if you'd like to restore the old behavior.\n"
     ]
    },
    {
     "name": "stderr",
     "output_type": "stream",
     "text": [
      "C:\\Users\\kimm0\\AppData\\Local\\Programs\\Python\\Python37\\lib\\site-packages\\xgboost\\sklearn.py:1224: UserWarning: The use of label encoder in XGBClassifier is deprecated and will be removed in a future release. To remove this warning, do the following: 1) Pass option use_label_encoder=False when constructing XGBClassifier object; and 2) Encode your labels (y) as integers starting with 0, i.e. 0, 1, 2, ..., [num_class - 1].\n",
      "  warnings.warn(label_encoder_deprecation_msg, UserWarning)\n",
      "C:\\Users\\kimm0\\AppData\\Local\\Programs\\Python\\Python37\\lib\\site-packages\\sklearn\\preprocessing\\_label.py:98: DataConversionWarning: A column-vector y was passed when a 1d array was expected. Please change the shape of y to (n_samples, ), for example using ravel().\n",
      "  y = column_or_1d(y, warn=True)\n",
      "C:\\Users\\kimm0\\AppData\\Local\\Programs\\Python\\Python37\\lib\\site-packages\\sklearn\\preprocessing\\_label.py:133: DataConversionWarning: A column-vector y was passed when a 1d array was expected. Please change the shape of y to (n_samples, ), for example using ravel().\n",
      "  y = column_or_1d(y, warn=True)\n"
     ]
    },
    {
     "name": "stdout",
     "output_type": "stream",
     "text": [
      "[22:20:07] WARNING: C:/Users/Administrator/workspace/xgboost-win64_release_1.5.1/src/learner.cc:576: \n",
      "Parameters: { \"silent\" } might not be used.\n",
      "\n",
      "  This could be a false alarm, with some parameters getting used by language bindings but\n",
      "  then being mistakenly passed down to XGBoost core, or some parameter actually being used\n",
      "  but getting flagged wrongly here. Please open an issue if you find any such cases.\n",
      "\n",
      "\n",
      "[22:20:07] WARNING: C:/Users/Administrator/workspace/xgboost-win64_release_1.5.1/src/learner.cc:1115: Starting in XGBoost 1.3.0, the default evaluation metric used with the objective 'binary:logistic' was changed from 'error' to 'logloss'. Explicitly set eval_metric if you'd like to restore the old behavior.\n"
     ]
    },
    {
     "name": "stderr",
     "output_type": "stream",
     "text": [
      "C:\\Users\\kimm0\\AppData\\Local\\Programs\\Python\\Python37\\lib\\site-packages\\xgboost\\sklearn.py:1224: UserWarning: The use of label encoder in XGBClassifier is deprecated and will be removed in a future release. To remove this warning, do the following: 1) Pass option use_label_encoder=False when constructing XGBClassifier object; and 2) Encode your labels (y) as integers starting with 0, i.e. 0, 1, 2, ..., [num_class - 1].\n",
      "  warnings.warn(label_encoder_deprecation_msg, UserWarning)\n",
      "C:\\Users\\kimm0\\AppData\\Local\\Programs\\Python\\Python37\\lib\\site-packages\\sklearn\\preprocessing\\_label.py:98: DataConversionWarning: A column-vector y was passed when a 1d array was expected. Please change the shape of y to (n_samples, ), for example using ravel().\n",
      "  y = column_or_1d(y, warn=True)\n",
      "C:\\Users\\kimm0\\AppData\\Local\\Programs\\Python\\Python37\\lib\\site-packages\\sklearn\\preprocessing\\_label.py:133: DataConversionWarning: A column-vector y was passed when a 1d array was expected. Please change the shape of y to (n_samples, ), for example using ravel().\n",
      "  y = column_or_1d(y, warn=True)\n"
     ]
    },
    {
     "name": "stdout",
     "output_type": "stream",
     "text": [
      "[22:20:38] WARNING: C:/Users/Administrator/workspace/xgboost-win64_release_1.5.1/src/learner.cc:576: \n",
      "Parameters: { \"silent\" } might not be used.\n",
      "\n",
      "  This could be a false alarm, with some parameters getting used by language bindings but\n",
      "  then being mistakenly passed down to XGBoost core, or some parameter actually being used\n",
      "  but getting flagged wrongly here. Please open an issue if you find any such cases.\n",
      "\n",
      "\n",
      "[22:20:38] WARNING: C:/Users/Administrator/workspace/xgboost-win64_release_1.5.1/src/learner.cc:1115: Starting in XGBoost 1.3.0, the default evaluation metric used with the objective 'binary:logistic' was changed from 'error' to 'logloss'. Explicitly set eval_metric if you'd like to restore the old behavior.\n"
     ]
    },
    {
     "name": "stderr",
     "output_type": "stream",
     "text": [
      "C:\\Users\\kimm0\\AppData\\Local\\Programs\\Python\\Python37\\lib\\site-packages\\xgboost\\sklearn.py:1224: UserWarning: The use of label encoder in XGBClassifier is deprecated and will be removed in a future release. To remove this warning, do the following: 1) Pass option use_label_encoder=False when constructing XGBClassifier object; and 2) Encode your labels (y) as integers starting with 0, i.e. 0, 1, 2, ..., [num_class - 1].\n",
      "  warnings.warn(label_encoder_deprecation_msg, UserWarning)\n",
      "C:\\Users\\kimm0\\AppData\\Local\\Programs\\Python\\Python37\\lib\\site-packages\\sklearn\\preprocessing\\_label.py:98: DataConversionWarning: A column-vector y was passed when a 1d array was expected. Please change the shape of y to (n_samples, ), for example using ravel().\n",
      "  y = column_or_1d(y, warn=True)\n",
      "C:\\Users\\kimm0\\AppData\\Local\\Programs\\Python\\Python37\\lib\\site-packages\\sklearn\\preprocessing\\_label.py:133: DataConversionWarning: A column-vector y was passed when a 1d array was expected. Please change the shape of y to (n_samples, ), for example using ravel().\n",
      "  y = column_or_1d(y, warn=True)\n"
     ]
    },
    {
     "name": "stdout",
     "output_type": "stream",
     "text": [
      "[22:21:05] WARNING: C:/Users/Administrator/workspace/xgboost-win64_release_1.5.1/src/learner.cc:576: \n",
      "Parameters: { \"silent\" } might not be used.\n",
      "\n",
      "  This could be a false alarm, with some parameters getting used by language bindings but\n",
      "  then being mistakenly passed down to XGBoost core, or some parameter actually being used\n",
      "  but getting flagged wrongly here. Please open an issue if you find any such cases.\n",
      "\n",
      "\n",
      "[22:21:05] WARNING: C:/Users/Administrator/workspace/xgboost-win64_release_1.5.1/src/learner.cc:1115: Starting in XGBoost 1.3.0, the default evaluation metric used with the objective 'binary:logistic' was changed from 'error' to 'logloss'. Explicitly set eval_metric if you'd like to restore the old behavior.\n"
     ]
    },
    {
     "name": "stderr",
     "output_type": "stream",
     "text": [
      "C:\\Users\\kimm0\\AppData\\Local\\Programs\\Python\\Python37\\lib\\site-packages\\xgboost\\sklearn.py:1224: UserWarning: The use of label encoder in XGBClassifier is deprecated and will be removed in a future release. To remove this warning, do the following: 1) Pass option use_label_encoder=False when constructing XGBClassifier object; and 2) Encode your labels (y) as integers starting with 0, i.e. 0, 1, 2, ..., [num_class - 1].\n",
      "  warnings.warn(label_encoder_deprecation_msg, UserWarning)\n",
      "C:\\Users\\kimm0\\AppData\\Local\\Programs\\Python\\Python37\\lib\\site-packages\\sklearn\\preprocessing\\_label.py:98: DataConversionWarning: A column-vector y was passed when a 1d array was expected. Please change the shape of y to (n_samples, ), for example using ravel().\n",
      "  y = column_or_1d(y, warn=True)\n",
      "C:\\Users\\kimm0\\AppData\\Local\\Programs\\Python\\Python37\\lib\\site-packages\\sklearn\\preprocessing\\_label.py:133: DataConversionWarning: A column-vector y was passed when a 1d array was expected. Please change the shape of y to (n_samples, ), for example using ravel().\n",
      "  y = column_or_1d(y, warn=True)\n"
     ]
    },
    {
     "name": "stdout",
     "output_type": "stream",
     "text": [
      "[22:21:35] WARNING: C:/Users/Administrator/workspace/xgboost-win64_release_1.5.1/src/learner.cc:576: \n",
      "Parameters: { \"silent\" } might not be used.\n",
      "\n",
      "  This could be a false alarm, with some parameters getting used by language bindings but\n",
      "  then being mistakenly passed down to XGBoost core, or some parameter actually being used\n",
      "  but getting flagged wrongly here. Please open an issue if you find any such cases.\n",
      "\n",
      "\n",
      "[22:21:35] WARNING: C:/Users/Administrator/workspace/xgboost-win64_release_1.5.1/src/learner.cc:1115: Starting in XGBoost 1.3.0, the default evaluation metric used with the objective 'binary:logistic' was changed from 'error' to 'logloss'. Explicitly set eval_metric if you'd like to restore the old behavior.\n"
     ]
    },
    {
     "name": "stderr",
     "output_type": "stream",
     "text": [
      "C:\\Users\\kimm0\\AppData\\Local\\Programs\\Python\\Python37\\lib\\site-packages\\xgboost\\sklearn.py:1224: UserWarning: The use of label encoder in XGBClassifier is deprecated and will be removed in a future release. To remove this warning, do the following: 1) Pass option use_label_encoder=False when constructing XGBClassifier object; and 2) Encode your labels (y) as integers starting with 0, i.e. 0, 1, 2, ..., [num_class - 1].\n",
      "  warnings.warn(label_encoder_deprecation_msg, UserWarning)\n",
      "C:\\Users\\kimm0\\AppData\\Local\\Programs\\Python\\Python37\\lib\\site-packages\\sklearn\\preprocessing\\_label.py:98: DataConversionWarning: A column-vector y was passed when a 1d array was expected. Please change the shape of y to (n_samples, ), for example using ravel().\n",
      "  y = column_or_1d(y, warn=True)\n",
      "C:\\Users\\kimm0\\AppData\\Local\\Programs\\Python\\Python37\\lib\\site-packages\\sklearn\\preprocessing\\_label.py:133: DataConversionWarning: A column-vector y was passed when a 1d array was expected. Please change the shape of y to (n_samples, ), for example using ravel().\n",
      "  y = column_or_1d(y, warn=True)\n"
     ]
    },
    {
     "name": "stdout",
     "output_type": "stream",
     "text": [
      "[22:22:04] WARNING: C:/Users/Administrator/workspace/xgboost-win64_release_1.5.1/src/learner.cc:576: \n",
      "Parameters: { \"silent\" } might not be used.\n",
      "\n",
      "  This could be a false alarm, with some parameters getting used by language bindings but\n",
      "  then being mistakenly passed down to XGBoost core, or some parameter actually being used\n",
      "  but getting flagged wrongly here. Please open an issue if you find any such cases.\n",
      "\n",
      "\n",
      "[22:22:04] WARNING: C:/Users/Administrator/workspace/xgboost-win64_release_1.5.1/src/learner.cc:1115: Starting in XGBoost 1.3.0, the default evaluation metric used with the objective 'binary:logistic' was changed from 'error' to 'logloss'. Explicitly set eval_metric if you'd like to restore the old behavior.\n"
     ]
    },
    {
     "name": "stderr",
     "output_type": "stream",
     "text": [
      "C:\\Users\\kimm0\\AppData\\Local\\Programs\\Python\\Python37\\lib\\site-packages\\xgboost\\sklearn.py:1224: UserWarning: The use of label encoder in XGBClassifier is deprecated and will be removed in a future release. To remove this warning, do the following: 1) Pass option use_label_encoder=False when constructing XGBClassifier object; and 2) Encode your labels (y) as integers starting with 0, i.e. 0, 1, 2, ..., [num_class - 1].\n",
      "  warnings.warn(label_encoder_deprecation_msg, UserWarning)\n",
      "C:\\Users\\kimm0\\AppData\\Local\\Programs\\Python\\Python37\\lib\\site-packages\\sklearn\\preprocessing\\_label.py:98: DataConversionWarning: A column-vector y was passed when a 1d array was expected. Please change the shape of y to (n_samples, ), for example using ravel().\n",
      "  y = column_or_1d(y, warn=True)\n",
      "C:\\Users\\kimm0\\AppData\\Local\\Programs\\Python\\Python37\\lib\\site-packages\\sklearn\\preprocessing\\_label.py:133: DataConversionWarning: A column-vector y was passed when a 1d array was expected. Please change the shape of y to (n_samples, ), for example using ravel().\n",
      "  y = column_or_1d(y, warn=True)\n"
     ]
    },
    {
     "name": "stdout",
     "output_type": "stream",
     "text": [
      "[22:22:42] WARNING: C:/Users/Administrator/workspace/xgboost-win64_release_1.5.1/src/learner.cc:576: \n",
      "Parameters: { \"silent\" } might not be used.\n",
      "\n",
      "  This could be a false alarm, with some parameters getting used by language bindings but\n",
      "  then being mistakenly passed down to XGBoost core, or some parameter actually being used\n",
      "  but getting flagged wrongly here. Please open an issue if you find any such cases.\n",
      "\n",
      "\n",
      "[22:22:42] WARNING: C:/Users/Administrator/workspace/xgboost-win64_release_1.5.1/src/learner.cc:1115: Starting in XGBoost 1.3.0, the default evaluation metric used with the objective 'binary:logistic' was changed from 'error' to 'logloss'. Explicitly set eval_metric if you'd like to restore the old behavior.\n"
     ]
    },
    {
     "name": "stderr",
     "output_type": "stream",
     "text": [
      "C:\\Users\\kimm0\\AppData\\Local\\Programs\\Python\\Python37\\lib\\site-packages\\xgboost\\sklearn.py:1224: UserWarning: The use of label encoder in XGBClassifier is deprecated and will be removed in a future release. To remove this warning, do the following: 1) Pass option use_label_encoder=False when constructing XGBClassifier object; and 2) Encode your labels (y) as integers starting with 0, i.e. 0, 1, 2, ..., [num_class - 1].\n",
      "  warnings.warn(label_encoder_deprecation_msg, UserWarning)\n",
      "C:\\Users\\kimm0\\AppData\\Local\\Programs\\Python\\Python37\\lib\\site-packages\\sklearn\\preprocessing\\_label.py:98: DataConversionWarning: A column-vector y was passed when a 1d array was expected. Please change the shape of y to (n_samples, ), for example using ravel().\n",
      "  y = column_or_1d(y, warn=True)\n",
      "C:\\Users\\kimm0\\AppData\\Local\\Programs\\Python\\Python37\\lib\\site-packages\\sklearn\\preprocessing\\_label.py:133: DataConversionWarning: A column-vector y was passed when a 1d array was expected. Please change the shape of y to (n_samples, ), for example using ravel().\n",
      "  y = column_or_1d(y, warn=True)\n"
     ]
    },
    {
     "name": "stdout",
     "output_type": "stream",
     "text": [
      "[22:23:18] WARNING: C:/Users/Administrator/workspace/xgboost-win64_release_1.5.1/src/learner.cc:576: \n",
      "Parameters: { \"silent\" } might not be used.\n",
      "\n",
      "  This could be a false alarm, with some parameters getting used by language bindings but\n",
      "  then being mistakenly passed down to XGBoost core, or some parameter actually being used\n",
      "  but getting flagged wrongly here. Please open an issue if you find any such cases.\n",
      "\n",
      "\n",
      "[22:23:18] WARNING: C:/Users/Administrator/workspace/xgboost-win64_release_1.5.1/src/learner.cc:1115: Starting in XGBoost 1.3.0, the default evaluation metric used with the objective 'binary:logistic' was changed from 'error' to 'logloss'. Explicitly set eval_metric if you'd like to restore the old behavior.\n"
     ]
    },
    {
     "name": "stderr",
     "output_type": "stream",
     "text": [
      "C:\\Users\\kimm0\\AppData\\Local\\Programs\\Python\\Python37\\lib\\site-packages\\xgboost\\sklearn.py:1224: UserWarning: The use of label encoder in XGBClassifier is deprecated and will be removed in a future release. To remove this warning, do the following: 1) Pass option use_label_encoder=False when constructing XGBClassifier object; and 2) Encode your labels (y) as integers starting with 0, i.e. 0, 1, 2, ..., [num_class - 1].\n",
      "  warnings.warn(label_encoder_deprecation_msg, UserWarning)\n",
      "C:\\Users\\kimm0\\AppData\\Local\\Programs\\Python\\Python37\\lib\\site-packages\\sklearn\\preprocessing\\_label.py:98: DataConversionWarning: A column-vector y was passed when a 1d array was expected. Please change the shape of y to (n_samples, ), for example using ravel().\n",
      "  y = column_or_1d(y, warn=True)\n",
      "C:\\Users\\kimm0\\AppData\\Local\\Programs\\Python\\Python37\\lib\\site-packages\\sklearn\\preprocessing\\_label.py:133: DataConversionWarning: A column-vector y was passed when a 1d array was expected. Please change the shape of y to (n_samples, ), for example using ravel().\n",
      "  y = column_or_1d(y, warn=True)\n"
     ]
    },
    {
     "name": "stdout",
     "output_type": "stream",
     "text": [
      "[22:23:54] WARNING: C:/Users/Administrator/workspace/xgboost-win64_release_1.5.1/src/learner.cc:576: \n",
      "Parameters: { \"silent\" } might not be used.\n",
      "\n",
      "  This could be a false alarm, with some parameters getting used by language bindings but\n",
      "  then being mistakenly passed down to XGBoost core, or some parameter actually being used\n",
      "  but getting flagged wrongly here. Please open an issue if you find any such cases.\n",
      "\n",
      "\n",
      "[22:23:55] WARNING: C:/Users/Administrator/workspace/xgboost-win64_release_1.5.1/src/learner.cc:1115: Starting in XGBoost 1.3.0, the default evaluation metric used with the objective 'binary:logistic' was changed from 'error' to 'logloss'. Explicitly set eval_metric if you'd like to restore the old behavior.\n"
     ]
    },
    {
     "name": "stderr",
     "output_type": "stream",
     "text": [
      "C:\\Users\\kimm0\\AppData\\Local\\Programs\\Python\\Python37\\lib\\site-packages\\xgboost\\sklearn.py:1224: UserWarning: The use of label encoder in XGBClassifier is deprecated and will be removed in a future release. To remove this warning, do the following: 1) Pass option use_label_encoder=False when constructing XGBClassifier object; and 2) Encode your labels (y) as integers starting with 0, i.e. 0, 1, 2, ..., [num_class - 1].\n",
      "  warnings.warn(label_encoder_deprecation_msg, UserWarning)\n",
      "C:\\Users\\kimm0\\AppData\\Local\\Programs\\Python\\Python37\\lib\\site-packages\\sklearn\\preprocessing\\_label.py:98: DataConversionWarning: A column-vector y was passed when a 1d array was expected. Please change the shape of y to (n_samples, ), for example using ravel().\n",
      "  y = column_or_1d(y, warn=True)\n",
      "C:\\Users\\kimm0\\AppData\\Local\\Programs\\Python\\Python37\\lib\\site-packages\\sklearn\\preprocessing\\_label.py:133: DataConversionWarning: A column-vector y was passed when a 1d array was expected. Please change the shape of y to (n_samples, ), for example using ravel().\n",
      "  y = column_or_1d(y, warn=True)\n"
     ]
    },
    {
     "name": "stdout",
     "output_type": "stream",
     "text": [
      "[22:24:30] WARNING: C:/Users/Administrator/workspace/xgboost-win64_release_1.5.1/src/learner.cc:576: \n",
      "Parameters: { \"silent\" } might not be used.\n",
      "\n",
      "  This could be a false alarm, with some parameters getting used by language bindings but\n",
      "  then being mistakenly passed down to XGBoost core, or some parameter actually being used\n",
      "  but getting flagged wrongly here. Please open an issue if you find any such cases.\n",
      "\n",
      "\n",
      "[22:24:30] WARNING: C:/Users/Administrator/workspace/xgboost-win64_release_1.5.1/src/learner.cc:1115: Starting in XGBoost 1.3.0, the default evaluation metric used with the objective 'binary:logistic' was changed from 'error' to 'logloss'. Explicitly set eval_metric if you'd like to restore the old behavior.\n"
     ]
    },
    {
     "name": "stderr",
     "output_type": "stream",
     "text": [
      "C:\\Users\\kimm0\\AppData\\Local\\Programs\\Python\\Python37\\lib\\site-packages\\xgboost\\sklearn.py:1224: UserWarning: The use of label encoder in XGBClassifier is deprecated and will be removed in a future release. To remove this warning, do the following: 1) Pass option use_label_encoder=False when constructing XGBClassifier object; and 2) Encode your labels (y) as integers starting with 0, i.e. 0, 1, 2, ..., [num_class - 1].\n",
      "  warnings.warn(label_encoder_deprecation_msg, UserWarning)\n",
      "C:\\Users\\kimm0\\AppData\\Local\\Programs\\Python\\Python37\\lib\\site-packages\\sklearn\\preprocessing\\_label.py:98: DataConversionWarning: A column-vector y was passed when a 1d array was expected. Please change the shape of y to (n_samples, ), for example using ravel().\n",
      "  y = column_or_1d(y, warn=True)\n",
      "C:\\Users\\kimm0\\AppData\\Local\\Programs\\Python\\Python37\\lib\\site-packages\\sklearn\\preprocessing\\_label.py:133: DataConversionWarning: A column-vector y was passed when a 1d array was expected. Please change the shape of y to (n_samples, ), for example using ravel().\n",
      "  y = column_or_1d(y, warn=True)\n"
     ]
    },
    {
     "name": "stdout",
     "output_type": "stream",
     "text": [
      "[22:25:05] WARNING: C:/Users/Administrator/workspace/xgboost-win64_release_1.5.1/src/learner.cc:576: \n",
      "Parameters: { \"silent\" } might not be used.\n",
      "\n",
      "  This could be a false alarm, with some parameters getting used by language bindings but\n",
      "  then being mistakenly passed down to XGBoost core, or some parameter actually being used\n",
      "  but getting flagged wrongly here. Please open an issue if you find any such cases.\n",
      "\n",
      "\n",
      "[22:25:05] WARNING: C:/Users/Administrator/workspace/xgboost-win64_release_1.5.1/src/learner.cc:1115: Starting in XGBoost 1.3.0, the default evaluation metric used with the objective 'binary:logistic' was changed from 'error' to 'logloss'. Explicitly set eval_metric if you'd like to restore the old behavior.\n"
     ]
    },
    {
     "name": "stderr",
     "output_type": "stream",
     "text": [
      "C:\\Users\\kimm0\\AppData\\Local\\Programs\\Python\\Python37\\lib\\site-packages\\xgboost\\sklearn.py:1224: UserWarning: The use of label encoder in XGBClassifier is deprecated and will be removed in a future release. To remove this warning, do the following: 1) Pass option use_label_encoder=False when constructing XGBClassifier object; and 2) Encode your labels (y) as integers starting with 0, i.e. 0, 1, 2, ..., [num_class - 1].\n",
      "  warnings.warn(label_encoder_deprecation_msg, UserWarning)\n",
      "C:\\Users\\kimm0\\AppData\\Local\\Programs\\Python\\Python37\\lib\\site-packages\\sklearn\\preprocessing\\_label.py:98: DataConversionWarning: A column-vector y was passed when a 1d array was expected. Please change the shape of y to (n_samples, ), for example using ravel().\n",
      "  y = column_or_1d(y, warn=True)\n",
      "C:\\Users\\kimm0\\AppData\\Local\\Programs\\Python\\Python37\\lib\\site-packages\\sklearn\\preprocessing\\_label.py:133: DataConversionWarning: A column-vector y was passed when a 1d array was expected. Please change the shape of y to (n_samples, ), for example using ravel().\n",
      "  y = column_or_1d(y, warn=True)\n"
     ]
    },
    {
     "name": "stdout",
     "output_type": "stream",
     "text": [
      "[22:25:40] WARNING: C:/Users/Administrator/workspace/xgboost-win64_release_1.5.1/src/learner.cc:576: \n",
      "Parameters: { \"silent\" } might not be used.\n",
      "\n",
      "  This could be a false alarm, with some parameters getting used by language bindings but\n",
      "  then being mistakenly passed down to XGBoost core, or some parameter actually being used\n",
      "  but getting flagged wrongly here. Please open an issue if you find any such cases.\n",
      "\n",
      "\n",
      "[22:25:40] WARNING: C:/Users/Administrator/workspace/xgboost-win64_release_1.5.1/src/learner.cc:1115: Starting in XGBoost 1.3.0, the default evaluation metric used with the objective 'binary:logistic' was changed from 'error' to 'logloss'. Explicitly set eval_metric if you'd like to restore the old behavior.\n"
     ]
    },
    {
     "name": "stderr",
     "output_type": "stream",
     "text": [
      "C:\\Users\\kimm0\\AppData\\Local\\Programs\\Python\\Python37\\lib\\site-packages\\xgboost\\sklearn.py:1224: UserWarning: The use of label encoder in XGBClassifier is deprecated and will be removed in a future release. To remove this warning, do the following: 1) Pass option use_label_encoder=False when constructing XGBClassifier object; and 2) Encode your labels (y) as integers starting with 0, i.e. 0, 1, 2, ..., [num_class - 1].\n",
      "  warnings.warn(label_encoder_deprecation_msg, UserWarning)\n",
      "C:\\Users\\kimm0\\AppData\\Local\\Programs\\Python\\Python37\\lib\\site-packages\\sklearn\\preprocessing\\_label.py:98: DataConversionWarning: A column-vector y was passed when a 1d array was expected. Please change the shape of y to (n_samples, ), for example using ravel().\n",
      "  y = column_or_1d(y, warn=True)\n",
      "C:\\Users\\kimm0\\AppData\\Local\\Programs\\Python\\Python37\\lib\\site-packages\\sklearn\\preprocessing\\_label.py:133: DataConversionWarning: A column-vector y was passed when a 1d array was expected. Please change the shape of y to (n_samples, ), for example using ravel().\n",
      "  y = column_or_1d(y, warn=True)\n"
     ]
    },
    {
     "name": "stdout",
     "output_type": "stream",
     "text": [
      "[22:26:13] WARNING: C:/Users/Administrator/workspace/xgboost-win64_release_1.5.1/src/learner.cc:576: \n",
      "Parameters: { \"silent\" } might not be used.\n",
      "\n",
      "  This could be a false alarm, with some parameters getting used by language bindings but\n",
      "  then being mistakenly passed down to XGBoost core, or some parameter actually being used\n",
      "  but getting flagged wrongly here. Please open an issue if you find any such cases.\n",
      "\n",
      "\n",
      "[22:26:13] WARNING: C:/Users/Administrator/workspace/xgboost-win64_release_1.5.1/src/learner.cc:1115: Starting in XGBoost 1.3.0, the default evaluation metric used with the objective 'binary:logistic' was changed from 'error' to 'logloss'. Explicitly set eval_metric if you'd like to restore the old behavior.\n"
     ]
    },
    {
     "name": "stderr",
     "output_type": "stream",
     "text": [
      "C:\\Users\\kimm0\\AppData\\Local\\Programs\\Python\\Python37\\lib\\site-packages\\xgboost\\sklearn.py:1224: UserWarning: The use of label encoder in XGBClassifier is deprecated and will be removed in a future release. To remove this warning, do the following: 1) Pass option use_label_encoder=False when constructing XGBClassifier object; and 2) Encode your labels (y) as integers starting with 0, i.e. 0, 1, 2, ..., [num_class - 1].\n",
      "  warnings.warn(label_encoder_deprecation_msg, UserWarning)\n",
      "C:\\Users\\kimm0\\AppData\\Local\\Programs\\Python\\Python37\\lib\\site-packages\\sklearn\\preprocessing\\_label.py:98: DataConversionWarning: A column-vector y was passed when a 1d array was expected. Please change the shape of y to (n_samples, ), for example using ravel().\n",
      "  y = column_or_1d(y, warn=True)\n",
      "C:\\Users\\kimm0\\AppData\\Local\\Programs\\Python\\Python37\\lib\\site-packages\\sklearn\\preprocessing\\_label.py:133: DataConversionWarning: A column-vector y was passed when a 1d array was expected. Please change the shape of y to (n_samples, ), for example using ravel().\n",
      "  y = column_or_1d(y, warn=True)\n"
     ]
    },
    {
     "name": "stdout",
     "output_type": "stream",
     "text": [
      "[22:26:48] WARNING: C:/Users/Administrator/workspace/xgboost-win64_release_1.5.1/src/learner.cc:576: \n",
      "Parameters: { \"silent\" } might not be used.\n",
      "\n",
      "  This could be a false alarm, with some parameters getting used by language bindings but\n",
      "  then being mistakenly passed down to XGBoost core, or some parameter actually being used\n",
      "  but getting flagged wrongly here. Please open an issue if you find any such cases.\n",
      "\n",
      "\n",
      "[22:26:48] WARNING: C:/Users/Administrator/workspace/xgboost-win64_release_1.5.1/src/learner.cc:1115: Starting in XGBoost 1.3.0, the default evaluation metric used with the objective 'binary:logistic' was changed from 'error' to 'logloss'. Explicitly set eval_metric if you'd like to restore the old behavior.\n"
     ]
    },
    {
     "name": "stderr",
     "output_type": "stream",
     "text": [
      "C:\\Users\\kimm0\\AppData\\Local\\Programs\\Python\\Python37\\lib\\site-packages\\xgboost\\sklearn.py:1224: UserWarning: The use of label encoder in XGBClassifier is deprecated and will be removed in a future release. To remove this warning, do the following: 1) Pass option use_label_encoder=False when constructing XGBClassifier object; and 2) Encode your labels (y) as integers starting with 0, i.e. 0, 1, 2, ..., [num_class - 1].\n",
      "  warnings.warn(label_encoder_deprecation_msg, UserWarning)\n",
      "C:\\Users\\kimm0\\AppData\\Local\\Programs\\Python\\Python37\\lib\\site-packages\\sklearn\\preprocessing\\_label.py:98: DataConversionWarning: A column-vector y was passed when a 1d array was expected. Please change the shape of y to (n_samples, ), for example using ravel().\n",
      "  y = column_or_1d(y, warn=True)\n",
      "C:\\Users\\kimm0\\AppData\\Local\\Programs\\Python\\Python37\\lib\\site-packages\\sklearn\\preprocessing\\_label.py:133: DataConversionWarning: A column-vector y was passed when a 1d array was expected. Please change the shape of y to (n_samples, ), for example using ravel().\n",
      "  y = column_or_1d(y, warn=True)\n"
     ]
    },
    {
     "name": "stdout",
     "output_type": "stream",
     "text": [
      "[22:27:22] WARNING: C:/Users/Administrator/workspace/xgboost-win64_release_1.5.1/src/learner.cc:576: \n",
      "Parameters: { \"silent\" } might not be used.\n",
      "\n",
      "  This could be a false alarm, with some parameters getting used by language bindings but\n",
      "  then being mistakenly passed down to XGBoost core, or some parameter actually being used\n",
      "  but getting flagged wrongly here. Please open an issue if you find any such cases.\n",
      "\n",
      "\n",
      "[22:27:22] WARNING: C:/Users/Administrator/workspace/xgboost-win64_release_1.5.1/src/learner.cc:1115: Starting in XGBoost 1.3.0, the default evaluation metric used with the objective 'binary:logistic' was changed from 'error' to 'logloss'. Explicitly set eval_metric if you'd like to restore the old behavior.\n"
     ]
    },
    {
     "name": "stderr",
     "output_type": "stream",
     "text": [
      "C:\\Users\\kimm0\\AppData\\Local\\Programs\\Python\\Python37\\lib\\site-packages\\xgboost\\sklearn.py:1224: UserWarning: The use of label encoder in XGBClassifier is deprecated and will be removed in a future release. To remove this warning, do the following: 1) Pass option use_label_encoder=False when constructing XGBClassifier object; and 2) Encode your labels (y) as integers starting with 0, i.e. 0, 1, 2, ..., [num_class - 1].\n",
      "  warnings.warn(label_encoder_deprecation_msg, UserWarning)\n",
      "C:\\Users\\kimm0\\AppData\\Local\\Programs\\Python\\Python37\\lib\\site-packages\\sklearn\\preprocessing\\_label.py:98: DataConversionWarning: A column-vector y was passed when a 1d array was expected. Please change the shape of y to (n_samples, ), for example using ravel().\n",
      "  y = column_or_1d(y, warn=True)\n",
      "C:\\Users\\kimm0\\AppData\\Local\\Programs\\Python\\Python37\\lib\\site-packages\\sklearn\\preprocessing\\_label.py:133: DataConversionWarning: A column-vector y was passed when a 1d array was expected. Please change the shape of y to (n_samples, ), for example using ravel().\n",
      "  y = column_or_1d(y, warn=True)\n"
     ]
    },
    {
     "name": "stdout",
     "output_type": "stream",
     "text": [
      "[22:27:57] WARNING: C:/Users/Administrator/workspace/xgboost-win64_release_1.5.1/src/learner.cc:576: \n",
      "Parameters: { \"silent\" } might not be used.\n",
      "\n",
      "  This could be a false alarm, with some parameters getting used by language bindings but\n",
      "  then being mistakenly passed down to XGBoost core, or some parameter actually being used\n",
      "  but getting flagged wrongly here. Please open an issue if you find any such cases.\n",
      "\n",
      "\n",
      "[22:27:57] WARNING: C:/Users/Administrator/workspace/xgboost-win64_release_1.5.1/src/learner.cc:1115: Starting in XGBoost 1.3.0, the default evaluation metric used with the objective 'binary:logistic' was changed from 'error' to 'logloss'. Explicitly set eval_metric if you'd like to restore the old behavior.\n"
     ]
    },
    {
     "name": "stderr",
     "output_type": "stream",
     "text": [
      "C:\\Users\\kimm0\\AppData\\Local\\Programs\\Python\\Python37\\lib\\site-packages\\xgboost\\sklearn.py:1224: UserWarning: The use of label encoder in XGBClassifier is deprecated and will be removed in a future release. To remove this warning, do the following: 1) Pass option use_label_encoder=False when constructing XGBClassifier object; and 2) Encode your labels (y) as integers starting with 0, i.e. 0, 1, 2, ..., [num_class - 1].\n",
      "  warnings.warn(label_encoder_deprecation_msg, UserWarning)\n",
      "C:\\Users\\kimm0\\AppData\\Local\\Programs\\Python\\Python37\\lib\\site-packages\\sklearn\\preprocessing\\_label.py:98: DataConversionWarning: A column-vector y was passed when a 1d array was expected. Please change the shape of y to (n_samples, ), for example using ravel().\n",
      "  y = column_or_1d(y, warn=True)\n",
      "C:\\Users\\kimm0\\AppData\\Local\\Programs\\Python\\Python37\\lib\\site-packages\\sklearn\\preprocessing\\_label.py:133: DataConversionWarning: A column-vector y was passed when a 1d array was expected. Please change the shape of y to (n_samples, ), for example using ravel().\n",
      "  y = column_or_1d(y, warn=True)\n"
     ]
    },
    {
     "name": "stdout",
     "output_type": "stream",
     "text": [
      "[22:28:33] WARNING: C:/Users/Administrator/workspace/xgboost-win64_release_1.5.1/src/learner.cc:576: \n",
      "Parameters: { \"silent\" } might not be used.\n",
      "\n",
      "  This could be a false alarm, with some parameters getting used by language bindings but\n",
      "  then being mistakenly passed down to XGBoost core, or some parameter actually being used\n",
      "  but getting flagged wrongly here. Please open an issue if you find any such cases.\n",
      "\n",
      "\n",
      "[22:28:33] WARNING: C:/Users/Administrator/workspace/xgboost-win64_release_1.5.1/src/learner.cc:1115: Starting in XGBoost 1.3.0, the default evaluation metric used with the objective 'binary:logistic' was changed from 'error' to 'logloss'. Explicitly set eval_metric if you'd like to restore the old behavior.\n"
     ]
    },
    {
     "name": "stderr",
     "output_type": "stream",
     "text": [
      "C:\\Users\\kimm0\\AppData\\Local\\Programs\\Python\\Python37\\lib\\site-packages\\xgboost\\sklearn.py:1224: UserWarning: The use of label encoder in XGBClassifier is deprecated and will be removed in a future release. To remove this warning, do the following: 1) Pass option use_label_encoder=False when constructing XGBClassifier object; and 2) Encode your labels (y) as integers starting with 0, i.e. 0, 1, 2, ..., [num_class - 1].\n",
      "  warnings.warn(label_encoder_deprecation_msg, UserWarning)\n",
      "C:\\Users\\kimm0\\AppData\\Local\\Programs\\Python\\Python37\\lib\\site-packages\\sklearn\\preprocessing\\_label.py:98: DataConversionWarning: A column-vector y was passed when a 1d array was expected. Please change the shape of y to (n_samples, ), for example using ravel().\n",
      "  y = column_or_1d(y, warn=True)\n",
      "C:\\Users\\kimm0\\AppData\\Local\\Programs\\Python\\Python37\\lib\\site-packages\\sklearn\\preprocessing\\_label.py:133: DataConversionWarning: A column-vector y was passed when a 1d array was expected. Please change the shape of y to (n_samples, ), for example using ravel().\n",
      "  y = column_or_1d(y, warn=True)\n"
     ]
    },
    {
     "name": "stdout",
     "output_type": "stream",
     "text": [
      "[22:29:07] WARNING: C:/Users/Administrator/workspace/xgboost-win64_release_1.5.1/src/learner.cc:576: \n",
      "Parameters: { \"silent\" } might not be used.\n",
      "\n",
      "  This could be a false alarm, with some parameters getting used by language bindings but\n",
      "  then being mistakenly passed down to XGBoost core, or some parameter actually being used\n",
      "  but getting flagged wrongly here. Please open an issue if you find any such cases.\n",
      "\n",
      "\n",
      "[22:29:07] WARNING: C:/Users/Administrator/workspace/xgboost-win64_release_1.5.1/src/learner.cc:1115: Starting in XGBoost 1.3.0, the default evaluation metric used with the objective 'binary:logistic' was changed from 'error' to 'logloss'. Explicitly set eval_metric if you'd like to restore the old behavior.\n"
     ]
    },
    {
     "name": "stderr",
     "output_type": "stream",
     "text": [
      "C:\\Users\\kimm0\\AppData\\Local\\Programs\\Python\\Python37\\lib\\site-packages\\xgboost\\sklearn.py:1224: UserWarning: The use of label encoder in XGBClassifier is deprecated and will be removed in a future release. To remove this warning, do the following: 1) Pass option use_label_encoder=False when constructing XGBClassifier object; and 2) Encode your labels (y) as integers starting with 0, i.e. 0, 1, 2, ..., [num_class - 1].\n",
      "  warnings.warn(label_encoder_deprecation_msg, UserWarning)\n",
      "C:\\Users\\kimm0\\AppData\\Local\\Programs\\Python\\Python37\\lib\\site-packages\\sklearn\\preprocessing\\_label.py:98: DataConversionWarning: A column-vector y was passed when a 1d array was expected. Please change the shape of y to (n_samples, ), for example using ravel().\n",
      "  y = column_or_1d(y, warn=True)\n",
      "C:\\Users\\kimm0\\AppData\\Local\\Programs\\Python\\Python37\\lib\\site-packages\\sklearn\\preprocessing\\_label.py:133: DataConversionWarning: A column-vector y was passed when a 1d array was expected. Please change the shape of y to (n_samples, ), for example using ravel().\n",
      "  y = column_or_1d(y, warn=True)\n"
     ]
    },
    {
     "name": "stdout",
     "output_type": "stream",
     "text": [
      "[22:29:42] WARNING: C:/Users/Administrator/workspace/xgboost-win64_release_1.5.1/src/learner.cc:576: \n",
      "Parameters: { \"silent\" } might not be used.\n",
      "\n",
      "  This could be a false alarm, with some parameters getting used by language bindings but\n",
      "  then being mistakenly passed down to XGBoost core, or some parameter actually being used\n",
      "  but getting flagged wrongly here. Please open an issue if you find any such cases.\n",
      "\n",
      "\n",
      "[22:29:42] WARNING: C:/Users/Administrator/workspace/xgboost-win64_release_1.5.1/src/learner.cc:1115: Starting in XGBoost 1.3.0, the default evaluation metric used with the objective 'binary:logistic' was changed from 'error' to 'logloss'. Explicitly set eval_metric if you'd like to restore the old behavior.\n"
     ]
    },
    {
     "name": "stderr",
     "output_type": "stream",
     "text": [
      "C:\\Users\\kimm0\\AppData\\Local\\Programs\\Python\\Python37\\lib\\site-packages\\xgboost\\sklearn.py:1224: UserWarning: The use of label encoder in XGBClassifier is deprecated and will be removed in a future release. To remove this warning, do the following: 1) Pass option use_label_encoder=False when constructing XGBClassifier object; and 2) Encode your labels (y) as integers starting with 0, i.e. 0, 1, 2, ..., [num_class - 1].\n",
      "  warnings.warn(label_encoder_deprecation_msg, UserWarning)\n",
      "C:\\Users\\kimm0\\AppData\\Local\\Programs\\Python\\Python37\\lib\\site-packages\\sklearn\\preprocessing\\_label.py:98: DataConversionWarning: A column-vector y was passed when a 1d array was expected. Please change the shape of y to (n_samples, ), for example using ravel().\n",
      "  y = column_or_1d(y, warn=True)\n",
      "C:\\Users\\kimm0\\AppData\\Local\\Programs\\Python\\Python37\\lib\\site-packages\\sklearn\\preprocessing\\_label.py:133: DataConversionWarning: A column-vector y was passed when a 1d array was expected. Please change the shape of y to (n_samples, ), for example using ravel().\n",
      "  y = column_or_1d(y, warn=True)\n"
     ]
    },
    {
     "name": "stdout",
     "output_type": "stream",
     "text": [
      "[22:30:20] WARNING: C:/Users/Administrator/workspace/xgboost-win64_release_1.5.1/src/learner.cc:576: \n",
      "Parameters: { \"silent\" } might not be used.\n",
      "\n",
      "  This could be a false alarm, with some parameters getting used by language bindings but\n",
      "  then being mistakenly passed down to XGBoost core, or some parameter actually being used\n",
      "  but getting flagged wrongly here. Please open an issue if you find any such cases.\n",
      "\n",
      "\n",
      "[22:30:20] WARNING: C:/Users/Administrator/workspace/xgboost-win64_release_1.5.1/src/learner.cc:1115: Starting in XGBoost 1.3.0, the default evaluation metric used with the objective 'binary:logistic' was changed from 'error' to 'logloss'. Explicitly set eval_metric if you'd like to restore the old behavior.\n"
     ]
    },
    {
     "name": "stderr",
     "output_type": "stream",
     "text": [
      "C:\\Users\\kimm0\\AppData\\Local\\Programs\\Python\\Python37\\lib\\site-packages\\xgboost\\sklearn.py:1224: UserWarning: The use of label encoder in XGBClassifier is deprecated and will be removed in a future release. To remove this warning, do the following: 1) Pass option use_label_encoder=False when constructing XGBClassifier object; and 2) Encode your labels (y) as integers starting with 0, i.e. 0, 1, 2, ..., [num_class - 1].\n",
      "  warnings.warn(label_encoder_deprecation_msg, UserWarning)\n",
      "C:\\Users\\kimm0\\AppData\\Local\\Programs\\Python\\Python37\\lib\\site-packages\\sklearn\\preprocessing\\_label.py:98: DataConversionWarning: A column-vector y was passed when a 1d array was expected. Please change the shape of y to (n_samples, ), for example using ravel().\n",
      "  y = column_or_1d(y, warn=True)\n",
      "C:\\Users\\kimm0\\AppData\\Local\\Programs\\Python\\Python37\\lib\\site-packages\\sklearn\\preprocessing\\_label.py:133: DataConversionWarning: A column-vector y was passed when a 1d array was expected. Please change the shape of y to (n_samples, ), for example using ravel().\n",
      "  y = column_or_1d(y, warn=True)\n"
     ]
    },
    {
     "name": "stdout",
     "output_type": "stream",
     "text": [
      "[22:30:57] WARNING: C:/Users/Administrator/workspace/xgboost-win64_release_1.5.1/src/learner.cc:576: \n",
      "Parameters: { \"silent\" } might not be used.\n",
      "\n",
      "  This could be a false alarm, with some parameters getting used by language bindings but\n",
      "  then being mistakenly passed down to XGBoost core, or some parameter actually being used\n",
      "  but getting flagged wrongly here. Please open an issue if you find any such cases.\n",
      "\n",
      "\n",
      "[22:30:57] WARNING: C:/Users/Administrator/workspace/xgboost-win64_release_1.5.1/src/learner.cc:1115: Starting in XGBoost 1.3.0, the default evaluation metric used with the objective 'binary:logistic' was changed from 'error' to 'logloss'. Explicitly set eval_metric if you'd like to restore the old behavior.\n"
     ]
    },
    {
     "name": "stderr",
     "output_type": "stream",
     "text": [
      "C:\\Users\\kimm0\\AppData\\Local\\Programs\\Python\\Python37\\lib\\site-packages\\xgboost\\sklearn.py:1224: UserWarning: The use of label encoder in XGBClassifier is deprecated and will be removed in a future release. To remove this warning, do the following: 1) Pass option use_label_encoder=False when constructing XGBClassifier object; and 2) Encode your labels (y) as integers starting with 0, i.e. 0, 1, 2, ..., [num_class - 1].\n",
      "  warnings.warn(label_encoder_deprecation_msg, UserWarning)\n",
      "C:\\Users\\kimm0\\AppData\\Local\\Programs\\Python\\Python37\\lib\\site-packages\\sklearn\\preprocessing\\_label.py:98: DataConversionWarning: A column-vector y was passed when a 1d array was expected. Please change the shape of y to (n_samples, ), for example using ravel().\n",
      "  y = column_or_1d(y, warn=True)\n",
      "C:\\Users\\kimm0\\AppData\\Local\\Programs\\Python\\Python37\\lib\\site-packages\\sklearn\\preprocessing\\_label.py:133: DataConversionWarning: A column-vector y was passed when a 1d array was expected. Please change the shape of y to (n_samples, ), for example using ravel().\n",
      "  y = column_or_1d(y, warn=True)\n"
     ]
    },
    {
     "name": "stdout",
     "output_type": "stream",
     "text": [
      "[22:31:20] WARNING: C:/Users/Administrator/workspace/xgboost-win64_release_1.5.1/src/learner.cc:576: \n",
      "Parameters: { \"silent\" } might not be used.\n",
      "\n",
      "  This could be a false alarm, with some parameters getting used by language bindings but\n",
      "  then being mistakenly passed down to XGBoost core, or some parameter actually being used\n",
      "  but getting flagged wrongly here. Please open an issue if you find any such cases.\n",
      "\n",
      "\n",
      "[22:31:20] WARNING: C:/Users/Administrator/workspace/xgboost-win64_release_1.5.1/src/learner.cc:1115: Starting in XGBoost 1.3.0, the default evaluation metric used with the objective 'binary:logistic' was changed from 'error' to 'logloss'. Explicitly set eval_metric if you'd like to restore the old behavior.\n"
     ]
    },
    {
     "name": "stderr",
     "output_type": "stream",
     "text": [
      "C:\\Users\\kimm0\\AppData\\Local\\Programs\\Python\\Python37\\lib\\site-packages\\xgboost\\sklearn.py:1224: UserWarning: The use of label encoder in XGBClassifier is deprecated and will be removed in a future release. To remove this warning, do the following: 1) Pass option use_label_encoder=False when constructing XGBClassifier object; and 2) Encode your labels (y) as integers starting with 0, i.e. 0, 1, 2, ..., [num_class - 1].\n",
      "  warnings.warn(label_encoder_deprecation_msg, UserWarning)\n",
      "C:\\Users\\kimm0\\AppData\\Local\\Programs\\Python\\Python37\\lib\\site-packages\\sklearn\\preprocessing\\_label.py:98: DataConversionWarning: A column-vector y was passed when a 1d array was expected. Please change the shape of y to (n_samples, ), for example using ravel().\n",
      "  y = column_or_1d(y, warn=True)\n",
      "C:\\Users\\kimm0\\AppData\\Local\\Programs\\Python\\Python37\\lib\\site-packages\\sklearn\\preprocessing\\_label.py:133: DataConversionWarning: A column-vector y was passed when a 1d array was expected. Please change the shape of y to (n_samples, ), for example using ravel().\n",
      "  y = column_or_1d(y, warn=True)\n"
     ]
    },
    {
     "name": "stdout",
     "output_type": "stream",
     "text": [
      "[22:31:44] WARNING: C:/Users/Administrator/workspace/xgboost-win64_release_1.5.1/src/learner.cc:576: \n",
      "Parameters: { \"silent\" } might not be used.\n",
      "\n",
      "  This could be a false alarm, with some parameters getting used by language bindings but\n",
      "  then being mistakenly passed down to XGBoost core, or some parameter actually being used\n",
      "  but getting flagged wrongly here. Please open an issue if you find any such cases.\n",
      "\n",
      "\n",
      "[22:31:44] WARNING: C:/Users/Administrator/workspace/xgboost-win64_release_1.5.1/src/learner.cc:1115: Starting in XGBoost 1.3.0, the default evaluation metric used with the objective 'binary:logistic' was changed from 'error' to 'logloss'. Explicitly set eval_metric if you'd like to restore the old behavior.\n"
     ]
    },
    {
     "name": "stderr",
     "output_type": "stream",
     "text": [
      "C:\\Users\\kimm0\\AppData\\Local\\Programs\\Python\\Python37\\lib\\site-packages\\xgboost\\sklearn.py:1224: UserWarning: The use of label encoder in XGBClassifier is deprecated and will be removed in a future release. To remove this warning, do the following: 1) Pass option use_label_encoder=False when constructing XGBClassifier object; and 2) Encode your labels (y) as integers starting with 0, i.e. 0, 1, 2, ..., [num_class - 1].\n",
      "  warnings.warn(label_encoder_deprecation_msg, UserWarning)\n",
      "C:\\Users\\kimm0\\AppData\\Local\\Programs\\Python\\Python37\\lib\\site-packages\\sklearn\\preprocessing\\_label.py:98: DataConversionWarning: A column-vector y was passed when a 1d array was expected. Please change the shape of y to (n_samples, ), for example using ravel().\n",
      "  y = column_or_1d(y, warn=True)\n",
      "C:\\Users\\kimm0\\AppData\\Local\\Programs\\Python\\Python37\\lib\\site-packages\\sklearn\\preprocessing\\_label.py:133: DataConversionWarning: A column-vector y was passed when a 1d array was expected. Please change the shape of y to (n_samples, ), for example using ravel().\n",
      "  y = column_or_1d(y, warn=True)\n"
     ]
    },
    {
     "name": "stdout",
     "output_type": "stream",
     "text": [
      "[22:32:09] WARNING: C:/Users/Administrator/workspace/xgboost-win64_release_1.5.1/src/learner.cc:576: \n",
      "Parameters: { \"silent\" } might not be used.\n",
      "\n",
      "  This could be a false alarm, with some parameters getting used by language bindings but\n",
      "  then being mistakenly passed down to XGBoost core, or some parameter actually being used\n",
      "  but getting flagged wrongly here. Please open an issue if you find any such cases.\n",
      "\n",
      "\n",
      "[22:32:09] WARNING: C:/Users/Administrator/workspace/xgboost-win64_release_1.5.1/src/learner.cc:1115: Starting in XGBoost 1.3.0, the default evaluation metric used with the objective 'binary:logistic' was changed from 'error' to 'logloss'. Explicitly set eval_metric if you'd like to restore the old behavior.\n"
     ]
    },
    {
     "name": "stderr",
     "output_type": "stream",
     "text": [
      "C:\\Users\\kimm0\\AppData\\Local\\Programs\\Python\\Python37\\lib\\site-packages\\xgboost\\sklearn.py:1224: UserWarning: The use of label encoder in XGBClassifier is deprecated and will be removed in a future release. To remove this warning, do the following: 1) Pass option use_label_encoder=False when constructing XGBClassifier object; and 2) Encode your labels (y) as integers starting with 0, i.e. 0, 1, 2, ..., [num_class - 1].\n",
      "  warnings.warn(label_encoder_deprecation_msg, UserWarning)\n",
      "C:\\Users\\kimm0\\AppData\\Local\\Programs\\Python\\Python37\\lib\\site-packages\\sklearn\\preprocessing\\_label.py:98: DataConversionWarning: A column-vector y was passed when a 1d array was expected. Please change the shape of y to (n_samples, ), for example using ravel().\n",
      "  y = column_or_1d(y, warn=True)\n",
      "C:\\Users\\kimm0\\AppData\\Local\\Programs\\Python\\Python37\\lib\\site-packages\\sklearn\\preprocessing\\_label.py:133: DataConversionWarning: A column-vector y was passed when a 1d array was expected. Please change the shape of y to (n_samples, ), for example using ravel().\n",
      "  y = column_or_1d(y, warn=True)\n"
     ]
    },
    {
     "name": "stdout",
     "output_type": "stream",
     "text": [
      "[22:32:34] WARNING: C:/Users/Administrator/workspace/xgboost-win64_release_1.5.1/src/learner.cc:576: \n",
      "Parameters: { \"silent\" } might not be used.\n",
      "\n",
      "  This could be a false alarm, with some parameters getting used by language bindings but\n",
      "  then being mistakenly passed down to XGBoost core, or some parameter actually being used\n",
      "  but getting flagged wrongly here. Please open an issue if you find any such cases.\n",
      "\n",
      "\n",
      "[22:32:34] WARNING: C:/Users/Administrator/workspace/xgboost-win64_release_1.5.1/src/learner.cc:1115: Starting in XGBoost 1.3.0, the default evaluation metric used with the objective 'binary:logistic' was changed from 'error' to 'logloss'. Explicitly set eval_metric if you'd like to restore the old behavior.\n"
     ]
    },
    {
     "name": "stderr",
     "output_type": "stream",
     "text": [
      "C:\\Users\\kimm0\\AppData\\Local\\Programs\\Python\\Python37\\lib\\site-packages\\xgboost\\sklearn.py:1224: UserWarning: The use of label encoder in XGBClassifier is deprecated and will be removed in a future release. To remove this warning, do the following: 1) Pass option use_label_encoder=False when constructing XGBClassifier object; and 2) Encode your labels (y) as integers starting with 0, i.e. 0, 1, 2, ..., [num_class - 1].\n",
      "  warnings.warn(label_encoder_deprecation_msg, UserWarning)\n",
      "C:\\Users\\kimm0\\AppData\\Local\\Programs\\Python\\Python37\\lib\\site-packages\\sklearn\\preprocessing\\_label.py:98: DataConversionWarning: A column-vector y was passed when a 1d array was expected. Please change the shape of y to (n_samples, ), for example using ravel().\n",
      "  y = column_or_1d(y, warn=True)\n",
      "C:\\Users\\kimm0\\AppData\\Local\\Programs\\Python\\Python37\\lib\\site-packages\\sklearn\\preprocessing\\_label.py:133: DataConversionWarning: A column-vector y was passed when a 1d array was expected. Please change the shape of y to (n_samples, ), for example using ravel().\n",
      "  y = column_or_1d(y, warn=True)\n"
     ]
    },
    {
     "name": "stdout",
     "output_type": "stream",
     "text": [
      "[22:32:59] WARNING: C:/Users/Administrator/workspace/xgboost-win64_release_1.5.1/src/learner.cc:576: \n",
      "Parameters: { \"silent\" } might not be used.\n",
      "\n",
      "  This could be a false alarm, with some parameters getting used by language bindings but\n",
      "  then being mistakenly passed down to XGBoost core, or some parameter actually being used\n",
      "  but getting flagged wrongly here. Please open an issue if you find any such cases.\n",
      "\n",
      "\n",
      "[22:32:59] WARNING: C:/Users/Administrator/workspace/xgboost-win64_release_1.5.1/src/learner.cc:1115: Starting in XGBoost 1.3.0, the default evaluation metric used with the objective 'binary:logistic' was changed from 'error' to 'logloss'. Explicitly set eval_metric if you'd like to restore the old behavior.\n"
     ]
    },
    {
     "name": "stderr",
     "output_type": "stream",
     "text": [
      "C:\\Users\\kimm0\\AppData\\Local\\Programs\\Python\\Python37\\lib\\site-packages\\xgboost\\sklearn.py:1224: UserWarning: The use of label encoder in XGBClassifier is deprecated and will be removed in a future release. To remove this warning, do the following: 1) Pass option use_label_encoder=False when constructing XGBClassifier object; and 2) Encode your labels (y) as integers starting with 0, i.e. 0, 1, 2, ..., [num_class - 1].\n",
      "  warnings.warn(label_encoder_deprecation_msg, UserWarning)\n",
      "C:\\Users\\kimm0\\AppData\\Local\\Programs\\Python\\Python37\\lib\\site-packages\\sklearn\\preprocessing\\_label.py:98: DataConversionWarning: A column-vector y was passed when a 1d array was expected. Please change the shape of y to (n_samples, ), for example using ravel().\n",
      "  y = column_or_1d(y, warn=True)\n",
      "C:\\Users\\kimm0\\AppData\\Local\\Programs\\Python\\Python37\\lib\\site-packages\\sklearn\\preprocessing\\_label.py:133: DataConversionWarning: A column-vector y was passed when a 1d array was expected. Please change the shape of y to (n_samples, ), for example using ravel().\n",
      "  y = column_or_1d(y, warn=True)\n"
     ]
    },
    {
     "name": "stdout",
     "output_type": "stream",
     "text": [
      "[22:33:34] WARNING: C:/Users/Administrator/workspace/xgboost-win64_release_1.5.1/src/learner.cc:576: \n",
      "Parameters: { \"silent\" } might not be used.\n",
      "\n",
      "  This could be a false alarm, with some parameters getting used by language bindings but\n",
      "  then being mistakenly passed down to XGBoost core, or some parameter actually being used\n",
      "  but getting flagged wrongly here. Please open an issue if you find any such cases.\n",
      "\n",
      "\n",
      "[22:33:35] WARNING: C:/Users/Administrator/workspace/xgboost-win64_release_1.5.1/src/learner.cc:1115: Starting in XGBoost 1.3.0, the default evaluation metric used with the objective 'binary:logistic' was changed from 'error' to 'logloss'. Explicitly set eval_metric if you'd like to restore the old behavior.\n"
     ]
    },
    {
     "name": "stderr",
     "output_type": "stream",
     "text": [
      "C:\\Users\\kimm0\\AppData\\Local\\Programs\\Python\\Python37\\lib\\site-packages\\xgboost\\sklearn.py:1224: UserWarning: The use of label encoder in XGBClassifier is deprecated and will be removed in a future release. To remove this warning, do the following: 1) Pass option use_label_encoder=False when constructing XGBClassifier object; and 2) Encode your labels (y) as integers starting with 0, i.e. 0, 1, 2, ..., [num_class - 1].\n",
      "  warnings.warn(label_encoder_deprecation_msg, UserWarning)\n",
      "C:\\Users\\kimm0\\AppData\\Local\\Programs\\Python\\Python37\\lib\\site-packages\\sklearn\\preprocessing\\_label.py:98: DataConversionWarning: A column-vector y was passed when a 1d array was expected. Please change the shape of y to (n_samples, ), for example using ravel().\n",
      "  y = column_or_1d(y, warn=True)\n",
      "C:\\Users\\kimm0\\AppData\\Local\\Programs\\Python\\Python37\\lib\\site-packages\\sklearn\\preprocessing\\_label.py:133: DataConversionWarning: A column-vector y was passed when a 1d array was expected. Please change the shape of y to (n_samples, ), for example using ravel().\n",
      "  y = column_or_1d(y, warn=True)\n"
     ]
    },
    {
     "name": "stdout",
     "output_type": "stream",
     "text": [
      "[22:34:12] WARNING: C:/Users/Administrator/workspace/xgboost-win64_release_1.5.1/src/learner.cc:576: \n",
      "Parameters: { \"silent\" } might not be used.\n",
      "\n",
      "  This could be a false alarm, with some parameters getting used by language bindings but\n",
      "  then being mistakenly passed down to XGBoost core, or some parameter actually being used\n",
      "  but getting flagged wrongly here. Please open an issue if you find any such cases.\n",
      "\n",
      "\n",
      "[22:34:12] WARNING: C:/Users/Administrator/workspace/xgboost-win64_release_1.5.1/src/learner.cc:1115: Starting in XGBoost 1.3.0, the default evaluation metric used with the objective 'binary:logistic' was changed from 'error' to 'logloss'. Explicitly set eval_metric if you'd like to restore the old behavior.\n"
     ]
    },
    {
     "name": "stderr",
     "output_type": "stream",
     "text": [
      "C:\\Users\\kimm0\\AppData\\Local\\Programs\\Python\\Python37\\lib\\site-packages\\xgboost\\sklearn.py:1224: UserWarning: The use of label encoder in XGBClassifier is deprecated and will be removed in a future release. To remove this warning, do the following: 1) Pass option use_label_encoder=False when constructing XGBClassifier object; and 2) Encode your labels (y) as integers starting with 0, i.e. 0, 1, 2, ..., [num_class - 1].\n",
      "  warnings.warn(label_encoder_deprecation_msg, UserWarning)\n",
      "C:\\Users\\kimm0\\AppData\\Local\\Programs\\Python\\Python37\\lib\\site-packages\\sklearn\\preprocessing\\_label.py:98: DataConversionWarning: A column-vector y was passed when a 1d array was expected. Please change the shape of y to (n_samples, ), for example using ravel().\n",
      "  y = column_or_1d(y, warn=True)\n",
      "C:\\Users\\kimm0\\AppData\\Local\\Programs\\Python\\Python37\\lib\\site-packages\\sklearn\\preprocessing\\_label.py:133: DataConversionWarning: A column-vector y was passed when a 1d array was expected. Please change the shape of y to (n_samples, ), for example using ravel().\n",
      "  y = column_or_1d(y, warn=True)\n"
     ]
    },
    {
     "name": "stdout",
     "output_type": "stream",
     "text": [
      "[22:34:48] WARNING: C:/Users/Administrator/workspace/xgboost-win64_release_1.5.1/src/learner.cc:576: \n",
      "Parameters: { \"silent\" } might not be used.\n",
      "\n",
      "  This could be a false alarm, with some parameters getting used by language bindings but\n",
      "  then being mistakenly passed down to XGBoost core, or some parameter actually being used\n",
      "  but getting flagged wrongly here. Please open an issue if you find any such cases.\n",
      "\n",
      "\n",
      "[22:34:48] WARNING: C:/Users/Administrator/workspace/xgboost-win64_release_1.5.1/src/learner.cc:1115: Starting in XGBoost 1.3.0, the default evaluation metric used with the objective 'binary:logistic' was changed from 'error' to 'logloss'. Explicitly set eval_metric if you'd like to restore the old behavior.\n"
     ]
    },
    {
     "name": "stderr",
     "output_type": "stream",
     "text": [
      "C:\\Users\\kimm0\\AppData\\Local\\Programs\\Python\\Python37\\lib\\site-packages\\xgboost\\sklearn.py:1224: UserWarning: The use of label encoder in XGBClassifier is deprecated and will be removed in a future release. To remove this warning, do the following: 1) Pass option use_label_encoder=False when constructing XGBClassifier object; and 2) Encode your labels (y) as integers starting with 0, i.e. 0, 1, 2, ..., [num_class - 1].\n",
      "  warnings.warn(label_encoder_deprecation_msg, UserWarning)\n",
      "C:\\Users\\kimm0\\AppData\\Local\\Programs\\Python\\Python37\\lib\\site-packages\\sklearn\\preprocessing\\_label.py:98: DataConversionWarning: A column-vector y was passed when a 1d array was expected. Please change the shape of y to (n_samples, ), for example using ravel().\n",
      "  y = column_or_1d(y, warn=True)\n",
      "C:\\Users\\kimm0\\AppData\\Local\\Programs\\Python\\Python37\\lib\\site-packages\\sklearn\\preprocessing\\_label.py:133: DataConversionWarning: A column-vector y was passed when a 1d array was expected. Please change the shape of y to (n_samples, ), for example using ravel().\n",
      "  y = column_or_1d(y, warn=True)\n"
     ]
    },
    {
     "name": "stdout",
     "output_type": "stream",
     "text": [
      "[22:35:23] WARNING: C:/Users/Administrator/workspace/xgboost-win64_release_1.5.1/src/learner.cc:576: \n",
      "Parameters: { \"silent\" } might not be used.\n",
      "\n",
      "  This could be a false alarm, with some parameters getting used by language bindings but\n",
      "  then being mistakenly passed down to XGBoost core, or some parameter actually being used\n",
      "  but getting flagged wrongly here. Please open an issue if you find any such cases.\n",
      "\n",
      "\n",
      "[22:35:23] WARNING: C:/Users/Administrator/workspace/xgboost-win64_release_1.5.1/src/learner.cc:1115: Starting in XGBoost 1.3.0, the default evaluation metric used with the objective 'binary:logistic' was changed from 'error' to 'logloss'. Explicitly set eval_metric if you'd like to restore the old behavior.\n"
     ]
    },
    {
     "name": "stderr",
     "output_type": "stream",
     "text": [
      "C:\\Users\\kimm0\\AppData\\Local\\Programs\\Python\\Python37\\lib\\site-packages\\xgboost\\sklearn.py:1224: UserWarning: The use of label encoder in XGBClassifier is deprecated and will be removed in a future release. To remove this warning, do the following: 1) Pass option use_label_encoder=False when constructing XGBClassifier object; and 2) Encode your labels (y) as integers starting with 0, i.e. 0, 1, 2, ..., [num_class - 1].\n",
      "  warnings.warn(label_encoder_deprecation_msg, UserWarning)\n",
      "C:\\Users\\kimm0\\AppData\\Local\\Programs\\Python\\Python37\\lib\\site-packages\\sklearn\\preprocessing\\_label.py:98: DataConversionWarning: A column-vector y was passed when a 1d array was expected. Please change the shape of y to (n_samples, ), for example using ravel().\n",
      "  y = column_or_1d(y, warn=True)\n",
      "C:\\Users\\kimm0\\AppData\\Local\\Programs\\Python\\Python37\\lib\\site-packages\\sklearn\\preprocessing\\_label.py:133: DataConversionWarning: A column-vector y was passed when a 1d array was expected. Please change the shape of y to (n_samples, ), for example using ravel().\n",
      "  y = column_or_1d(y, warn=True)\n"
     ]
    },
    {
     "name": "stdout",
     "output_type": "stream",
     "text": [
      "[22:35:59] WARNING: C:/Users/Administrator/workspace/xgboost-win64_release_1.5.1/src/learner.cc:576: \n",
      "Parameters: { \"silent\" } might not be used.\n",
      "\n",
      "  This could be a false alarm, with some parameters getting used by language bindings but\n",
      "  then being mistakenly passed down to XGBoost core, or some parameter actually being used\n",
      "  but getting flagged wrongly here. Please open an issue if you find any such cases.\n",
      "\n",
      "\n",
      "[22:35:59] WARNING: C:/Users/Administrator/workspace/xgboost-win64_release_1.5.1/src/learner.cc:1115: Starting in XGBoost 1.3.0, the default evaluation metric used with the objective 'binary:logistic' was changed from 'error' to 'logloss'. Explicitly set eval_metric if you'd like to restore the old behavior.\n"
     ]
    },
    {
     "data": {
      "text/plain": [
       "RandomizedSearchCV(cv=5,\n",
       "                   estimator=XGBClassifier(base_score=0.5, booster='gbtree',\n",
       "                                           colsample_bylevel=1,\n",
       "                                           colsample_bynode=1,\n",
       "                                           colsample_bytree=1,\n",
       "                                           enable_categorical=False, gamma=0,\n",
       "                                           gpu_id=-1, importance_type=None,\n",
       "                                           interaction_constraints='',\n",
       "                                           learning_rate=0.02, max_delta_step=0,\n",
       "                                           max_depth=6, min_child_weight=1,\n",
       "                                           missing=nan,\n",
       "                                           monotone_constraints='()',\n",
       "                                           n_estimators=600...\n",
       "                                           nthread=1, num_parallel_tree=1,\n",
       "                                           predictor='auto', random_state=0,\n",
       "                                           reg_alpha=0, reg_lambda=1,\n",
       "                                           scale_pos_weight=1, silent=True,\n",
       "                                           subsample=1, tree_method='exact',\n",
       "                                           validate_parameters=1,\n",
       "                                           verbosity=None),\n",
       "                   param_distributions={'colsample_bytree': [0.6, 0.8, 1.0],\n",
       "                                        'gamma': [0.2, 0.5, 1, 1.5, 2, 5],\n",
       "                                        'max_depth': [4, 3, 5],\n",
       "                                        'min_child_weight': [1, 5, 10],\n",
       "                                        'subsample': [0.6, 0.8, 1.0]},\n",
       "                   scoring='accuracy')"
      ]
     },
     "execution_count": 65,
     "metadata": {},
     "output_type": "execute_result"
    }
   ],
   "source": [
    "random_search_xgb.fit(X_train, y_train)\n"
   ]
  },
  {
   "cell_type": "code",
   "execution_count": 66,
   "id": "4d150bf9-3612-483d-ac25-0521236b6488",
   "metadata": {},
   "outputs": [
    {
     "name": "stdout",
     "output_type": "stream",
     "text": [
      "Accuracy: 0.9056%\n",
      "              precision    recall  f1-score   support\n",
      "\n",
      "           0       0.91      0.87      0.89      2178\n",
      "           1       0.90      0.93      0.92      2715\n",
      "\n",
      "    accuracy                           0.91      4893\n",
      "   macro avg       0.91      0.90      0.90      4893\n",
      "weighted avg       0.91      0.91      0.91      4893\n",
      "\n"
     ]
    },
    {
     "name": "stderr",
     "output_type": "stream",
     "text": [
      "C:\\Users\\kimm0\\AppData\\Local\\Programs\\Python\\Python37\\lib\\site-packages\\sklearn\\utils\\deprecation.py:87: FutureWarning: Function plot_confusion_matrix is deprecated; Function `plot_confusion_matrix` is deprecated in 1.0 and will be removed in 1.2. Use one of the class methods: ConfusionMatrixDisplay.from_predictions or ConfusionMatrixDisplay.from_estimator.\n",
      "  warnings.warn(msg, category=FutureWarning)\n",
      "C:\\Users\\kimm0\\AppData\\Local\\Programs\\Python\\Python37\\lib\\site-packages\\sklearn\\utils\\deprecation.py:87: FutureWarning: Function plot_roc_curve is deprecated; Function :func:`plot_roc_curve` is deprecated in 1.0 and will be removed in 1.2. Use one of the class methods: :meth:`sklearn.metric.RocCurveDisplay.from_predictions` or :meth:`sklearn.metric.RocCurveDisplay.from_estimator`.\n",
      "  warnings.warn(msg, category=FutureWarning)\n"
     ]
    },
    {
     "data": {
      "text/plain": [
       "<sklearn.metrics._plot.roc_curve.RocCurveDisplay at 0x1ed40284bc8>"
      ]
     },
     "execution_count": 66,
     "metadata": {},
     "output_type": "execute_result"
    },
    {
     "data": {
      "image/png": "[encoded data removed]",
      "text/plain": [
       "<Figure size 432x288 with 2 Axes>"
      ]
     },
     "metadata": {
      "needs_background": "light"
     },
     "output_type": "display_data"
    },
    {
     "data": {
      "image/png": "[encoded data removed]",
      "text/plain": [
       "<Figure size 432x288 with 1 Axes>"
      ]
     },
     "metadata": {
      "needs_background": "light"
     },
     "output_type": "display_data"
    }
   ],
   "source": [
    "best_model_xgb = random_search_xgb.best_estimator_\n",
    "y_pred_xgb = best_model_xgb.predict(X_test)\n",
    "accuracy_xgb = accuracy_score(y_test, y_pred_xgb)\n",
    "print(\"Accuracy: %.4f%%\" % (accuracy_xgb))\n",
    "print(classification_report(y_test, y_pred_xgb))\n",
    "plot_confusion_matrix(best_model_xgb, X_test, y_test, cmap='RdPu')\n",
    "plot_roc_curve(best_model_xgb, X_test, y_test)"
   ]
  },
  {
   "cell_type": "code",
   "execution_count": 67,
   "id": "72ec3607-0a37-462b-ab3e-702c807d35b7",
   "metadata": {},
   "outputs": [],
   "source": [
    "y_pred_xgb_proba = best_model_xgb.predict_proba(X_test)"
   ]
  },
  {
   "cell_type": "code",
   "execution_count": 68,
   "id": "21286b39-6baa-4506-94fe-b4f19532be31",
   "metadata": {},
   "outputs": [],
   "source": [
    "y_pred_xgb_proba = pd.DataFrame(y_pred_xgb_proba, columns=['class_0','class_1'])"
   ]
  },
  {
   "cell_type": "code",
   "execution_count": 69,
   "id": "3a9c22a2-4932-43ca-83c5-c75821deac66",
   "metadata": {},
   "outputs": [
    {
     "data": {
      "text/html": [
       "<div>\n",
       "<style scoped>\n",
       "    .dataframe tbody tr th:only-of-type {\n",
       "        vertical-align: middle;\n",
       "    }\n",
       "\n",
       "    .dataframe tbody tr th {\n",
       "        vertical-align: top;\n",
       "    }\n",
       "\n",
       "    .dataframe thead th {\n",
       "        text-align: right;\n",
       "    }\n",
       "</style>\n",
       "<table border=\"1\" class=\"dataframe\">\n",
       "  <thead>\n",
       "    <tr style=\"text-align: right;\">\n",
       "      <th></th>\n",
       "      <th>class_0</th>\n",
       "      <th>class_1</th>\n",
       "    </tr>\n",
       "  </thead>\n",
       "  <tbody>\n",
       "    <tr>\n",
       "      <th>0</th>\n",
       "      <td>0.48172</td>\n",
       "      <td>0.51828</td>\n",
       "    </tr>\n",
       "    <tr>\n",
       "      <th>1</th>\n",
       "      <td>0.71002</td>\n",
       "      <td>0.28998</td>\n",
       "    </tr>\n",
       "    <tr>\n",
       "      <th>2</th>\n",
       "      <td>0.02398</td>\n",
       "      <td>0.97602</td>\n",
       "    </tr>\n",
       "    <tr>\n",
       "      <th>3</th>\n",
       "      <td>0.43781</td>\n",
       "      <td>0.56219</td>\n",
       "    </tr>\n",
       "    <tr>\n",
       "      <th>4</th>\n",
       "      <td>0.20909</td>\n",
       "      <td>0.79091</td>\n",
       "    </tr>\n",
       "    <tr>\n",
       "      <th>...</th>\n",
       "      <td>...</td>\n",
       "      <td>...</td>\n",
       "    </tr>\n",
       "    <tr>\n",
       "      <th>4888</th>\n",
       "      <td>0.43758</td>\n",
       "      <td>0.56242</td>\n",
       "    </tr>\n",
       "    <tr>\n",
       "      <th>4889</th>\n",
       "      <td>0.34953</td>\n",
       "      <td>0.65047</td>\n",
       "    </tr>\n",
       "    <tr>\n",
       "      <th>4890</th>\n",
       "      <td>0.10710</td>\n",
       "      <td>0.89290</td>\n",
       "    </tr>\n",
       "    <tr>\n",
       "      <th>4891</th>\n",
       "      <td>0.89750</td>\n",
       "      <td>0.10250</td>\n",
       "    </tr>\n",
       "    <tr>\n",
       "      <th>4892</th>\n",
       "      <td>0.18402</td>\n",
       "      <td>0.81598</td>\n",
       "    </tr>\n",
       "  </tbody>\n",
       "</table>\n",
       "<p>4893 rows × 2 columns</p>\n",
       "</div>"
      ],
      "text/plain": [
       "      class_0  class_1\n",
       "0     0.48172  0.51828\n",
       "1     0.71002  0.28998\n",
       "2     0.02398  0.97602\n",
       "3     0.43781  0.56219\n",
       "4     0.20909  0.79091\n",
       "...       ...      ...\n",
       "4888  0.43758  0.56242\n",
       "4889  0.34953  0.65047\n",
       "4890  0.10710  0.89290\n",
       "4891  0.89750  0.10250\n",
       "4892  0.18402  0.81598\n",
       "\n",
       "[4893 rows x 2 columns]"
      ]
     },
     "execution_count": 69,
     "metadata": {},
     "output_type": "execute_result"
    }
   ],
   "source": [
    "y_pred_xgb_proba"
   ]
  },
  {
   "cell_type": "code",
   "execution_count": 70,
   "id": "0a0789ff-804d-47c4-bbec-39e1c1447cb8",
   "metadata": {},
   "outputs": [],
   "source": [
    "X_test_save[['class_0','class_1']] = y_pred_xgb_proba"
   ]
  },
  {
   "cell_type": "code",
   "execution_count": 71,
   "id": "5378440d-5998-4d16-8ab7-83518fc61850",
   "metadata": {},
   "outputs": [],
   "source": [
    "best_clients = X_test_save[X_test_save.class_1 >= 0.80].copy()"
   ]
  },
  {
   "cell_type": "code",
   "execution_count": 72,
   "id": "73097c2c-bfbf-4a7c-b00a-fc3ad052568e",
   "metadata": {},
   "outputs": [],
   "source": [
    "best_clients.sort_values(by=['class_1'], ascending=False, inplace=True)"
   ]
  },
  {
   "cell_type": "code",
   "execution_count": 73,
   "id": "96caa228-0304-4357-91f2-65b39cceaba1",
   "metadata": {},
   "outputs": [],
   "source": [
    "best_clients = best_clients[['monthly_income', 'monthly_outcome', 'institution', 'account_type',\n",
    "       'credit_type','payment_frequency','total_credit_payments','maximum_credit_amount','current_balance','class_1']].copy()"
   ]
  },
  {
   "cell_type": "code",
   "execution_count": 74,
   "id": "859e803b-12e1-4759-ad38-99db1de331c0",
   "metadata": {},
   "outputs": [],
   "source": [
    "best_clients = best_clients[best_clients.institution == 'BANCO'].copy()\n",
    "best_clients = best_clients[best_clients.credit_type == 'Tarjeta de Crédito'].copy()\n",
    "best_clients = best_clients[best_clients.payment_frequency == 'Mensual'].copy()\n",
    "best_clients = best_clients[best_clients.current_balance == 0].copy()"
   ]
  },
  {
   "cell_type": "code",
   "execution_count": 75,
   "id": "3ba797ee-e798-4808-bb68-d7c49e995801",
   "metadata": {},
   "outputs": [
    {
     "data": {
      "text/html": [
       "<div>\n",
       "<style scoped>\n",
       "    .dataframe tbody tr th:only-of-type {\n",
       "        vertical-align: middle;\n",
       "    }\n",
       "\n",
       "    .dataframe tbody tr th {\n",
       "        vertical-align: top;\n",
       "    }\n",
       "\n",
       "    .dataframe thead th {\n",
       "        text-align: right;\n",
       "    }\n",
       "</style>\n",
       "<table border=\"1\" class=\"dataframe\">\n",
       "  <thead>\n",
       "    <tr style=\"text-align: right;\">\n",
       "      <th></th>\n",
       "      <th>monthly_income</th>\n",
       "      <th>monthly_outcome</th>\n",
       "      <th>institution</th>\n",
       "      <th>account_type</th>\n",
       "      <th>credit_type</th>\n",
       "      <th>payment_frequency</th>\n",
       "      <th>total_credit_payments</th>\n",
       "      <th>maximum_credit_amount</th>\n",
       "      <th>current_balance</th>\n",
       "      <th>class_1</th>\n",
       "    </tr>\n",
       "    <tr>\n",
       "      <th>id</th>\n",
       "      <th></th>\n",
       "      <th></th>\n",
       "      <th></th>\n",
       "      <th></th>\n",
       "      <th></th>\n",
       "      <th></th>\n",
       "      <th></th>\n",
       "      <th></th>\n",
       "      <th></th>\n",
       "      <th></th>\n",
       "    </tr>\n",
       "  </thead>\n",
       "  <tbody>\n",
       "    <tr>\n",
       "      <th>493</th>\n",
       "      <td>303522</td>\n",
       "      <td>831221</td>\n",
       "      <td>BANCO</td>\n",
       "      <td>Revolvente</td>\n",
       "      <td>Tarjeta de Crédito</td>\n",
       "      <td>Mensual</td>\n",
       "      <td>0.00000</td>\n",
       "      <td>49444.00000</td>\n",
       "      <td>0.00000</td>\n",
       "      <td>0.99611</td>\n",
       "    </tr>\n",
       "    <tr>\n",
       "      <th>493</th>\n",
       "      <td>303522</td>\n",
       "      <td>831221</td>\n",
       "      <td>BANCO</td>\n",
       "      <td>Revolvente</td>\n",
       "      <td>Tarjeta de Crédito</td>\n",
       "      <td>Mensual</td>\n",
       "      <td>0.00000</td>\n",
       "      <td>28872.00000</td>\n",
       "      <td>0.00000</td>\n",
       "      <td>0.99611</td>\n",
       "    </tr>\n",
       "    <tr>\n",
       "      <th>250</th>\n",
       "      <td>71605</td>\n",
       "      <td>54234</td>\n",
       "      <td>BANCO</td>\n",
       "      <td>Revolvente</td>\n",
       "      <td>Tarjeta de Crédito</td>\n",
       "      <td>Mensual</td>\n",
       "      <td>0.00000</td>\n",
       "      <td>8400.00000</td>\n",
       "      <td>0.00000</td>\n",
       "      <td>0.98957</td>\n",
       "    </tr>\n",
       "    <tr>\n",
       "      <th>150</th>\n",
       "      <td>732</td>\n",
       "      <td>509</td>\n",
       "      <td>BANCO</td>\n",
       "      <td>Revolvente</td>\n",
       "      <td>Tarjeta de Crédito</td>\n",
       "      <td>Mensual</td>\n",
       "      <td>0.00000</td>\n",
       "      <td>18616.00000</td>\n",
       "      <td>0.00000</td>\n",
       "      <td>0.98924</td>\n",
       "    </tr>\n",
       "    <tr>\n",
       "      <th>765</th>\n",
       "      <td>769</td>\n",
       "      <td>305</td>\n",
       "      <td>BANCO</td>\n",
       "      <td>Revolvente</td>\n",
       "      <td>Tarjeta de Crédito</td>\n",
       "      <td>Mensual</td>\n",
       "      <td>0.00000</td>\n",
       "      <td>59383.00000</td>\n",
       "      <td>0.00000</td>\n",
       "      <td>0.98830</td>\n",
       "    </tr>\n",
       "    <tr>\n",
       "      <th>532</th>\n",
       "      <td>52561</td>\n",
       "      <td>29378</td>\n",
       "      <td>BANCO</td>\n",
       "      <td>Revolvente</td>\n",
       "      <td>Tarjeta de Crédito</td>\n",
       "      <td>Mensual</td>\n",
       "      <td>0.00000</td>\n",
       "      <td>15484.00000</td>\n",
       "      <td>0.00000</td>\n",
       "      <td>0.98770</td>\n",
       "    </tr>\n",
       "    <tr>\n",
       "      <th>19</th>\n",
       "      <td>11675</td>\n",
       "      <td>385</td>\n",
       "      <td>BANCO</td>\n",
       "      <td>Revolvente</td>\n",
       "      <td>Tarjeta de Crédito</td>\n",
       "      <td>Mensual</td>\n",
       "      <td>0.00000</td>\n",
       "      <td>54925.00000</td>\n",
       "      <td>0.00000</td>\n",
       "      <td>0.98754</td>\n",
       "    </tr>\n",
       "    <tr>\n",
       "      <th>899</th>\n",
       "      <td>3375870</td>\n",
       "      <td>4077519</td>\n",
       "      <td>BANCO</td>\n",
       "      <td>Revolvente</td>\n",
       "      <td>Tarjeta de Crédito</td>\n",
       "      <td>Mensual</td>\n",
       "      <td>0.00000</td>\n",
       "      <td>194503.00000</td>\n",
       "      <td>0.00000</td>\n",
       "      <td>0.98552</td>\n",
       "    </tr>\n",
       "    <tr>\n",
       "      <th>899</th>\n",
       "      <td>3375870</td>\n",
       "      <td>4077519</td>\n",
       "      <td>BANCO</td>\n",
       "      <td>Revolvente</td>\n",
       "      <td>Tarjeta de Crédito</td>\n",
       "      <td>Mensual</td>\n",
       "      <td>0.00000</td>\n",
       "      <td>186198.00000</td>\n",
       "      <td>0.00000</td>\n",
       "      <td>0.98552</td>\n",
       "    </tr>\n",
       "    <tr>\n",
       "      <th>899</th>\n",
       "      <td>3375870</td>\n",
       "      <td>4077519</td>\n",
       "      <td>BANCO</td>\n",
       "      <td>Revolvente</td>\n",
       "      <td>Tarjeta de Crédito</td>\n",
       "      <td>Mensual</td>\n",
       "      <td>0.00000</td>\n",
       "      <td>198412.00000</td>\n",
       "      <td>0.00000</td>\n",
       "      <td>0.98552</td>\n",
       "    </tr>\n",
       "    <tr>\n",
       "      <th>899</th>\n",
       "      <td>3375870</td>\n",
       "      <td>4077519</td>\n",
       "      <td>BANCO</td>\n",
       "      <td>Revolvente</td>\n",
       "      <td>Tarjeta de Crédito</td>\n",
       "      <td>Mensual</td>\n",
       "      <td>0.00000</td>\n",
       "      <td>186198.00000</td>\n",
       "      <td>0.00000</td>\n",
       "      <td>0.98552</td>\n",
       "    </tr>\n",
       "    <tr>\n",
       "      <th>899</th>\n",
       "      <td>3375870</td>\n",
       "      <td>4077519</td>\n",
       "      <td>BANCO</td>\n",
       "      <td>Revolvente</td>\n",
       "      <td>Tarjeta de Crédito</td>\n",
       "      <td>Mensual</td>\n",
       "      <td>0.00000</td>\n",
       "      <td>65402.00000</td>\n",
       "      <td>0.00000</td>\n",
       "      <td>0.98552</td>\n",
       "    </tr>\n",
       "    <tr>\n",
       "      <th>899</th>\n",
       "      <td>3375870</td>\n",
       "      <td>4077519</td>\n",
       "      <td>BANCO</td>\n",
       "      <td>Revolvente</td>\n",
       "      <td>Tarjeta de Crédito</td>\n",
       "      <td>Mensual</td>\n",
       "      <td>0.00000</td>\n",
       "      <td>5087.00000</td>\n",
       "      <td>0.00000</td>\n",
       "      <td>0.98552</td>\n",
       "    </tr>\n",
       "    <tr>\n",
       "      <th>682</th>\n",
       "      <td>210038</td>\n",
       "      <td>1454706</td>\n",
       "      <td>BANCO</td>\n",
       "      <td>Revolvente</td>\n",
       "      <td>Tarjeta de Crédito</td>\n",
       "      <td>Mensual</td>\n",
       "      <td>0.00000</td>\n",
       "      <td>286101.00000</td>\n",
       "      <td>0.00000</td>\n",
       "      <td>0.98552</td>\n",
       "    </tr>\n",
       "    <tr>\n",
       "      <th>899</th>\n",
       "      <td>3375870</td>\n",
       "      <td>4077519</td>\n",
       "      <td>BANCO</td>\n",
       "      <td>Revolvente</td>\n",
       "      <td>Tarjeta de Crédito</td>\n",
       "      <td>Mensual</td>\n",
       "      <td>0.00000</td>\n",
       "      <td>148153.00000</td>\n",
       "      <td>0.00000</td>\n",
       "      <td>0.98552</td>\n",
       "    </tr>\n",
       "    <tr>\n",
       "      <th>609</th>\n",
       "      <td>1568780</td>\n",
       "      <td>1562459</td>\n",
       "      <td>BANCO</td>\n",
       "      <td>Revolvente</td>\n",
       "      <td>Tarjeta de Crédito</td>\n",
       "      <td>Mensual</td>\n",
       "      <td>0.00000</td>\n",
       "      <td>111581.00000</td>\n",
       "      <td>0.00000</td>\n",
       "      <td>0.98446</td>\n",
       "    </tr>\n",
       "    <tr>\n",
       "      <th>609</th>\n",
       "      <td>1568780</td>\n",
       "      <td>1562459</td>\n",
       "      <td>BANCO</td>\n",
       "      <td>Revolvente</td>\n",
       "      <td>Tarjeta de Crédito</td>\n",
       "      <td>Mensual</td>\n",
       "      <td>0.00000</td>\n",
       "      <td>111581.00000</td>\n",
       "      <td>0.00000</td>\n",
       "      <td>0.98446</td>\n",
       "    </tr>\n",
       "    <tr>\n",
       "      <th>93</th>\n",
       "      <td>659</td>\n",
       "      <td>3065</td>\n",
       "      <td>BANCO</td>\n",
       "      <td>Revolvente</td>\n",
       "      <td>Tarjeta de Crédito</td>\n",
       "      <td>Mensual</td>\n",
       "      <td>0.00000</td>\n",
       "      <td>783.00000</td>\n",
       "      <td>0.00000</td>\n",
       "      <td>0.98381</td>\n",
       "    </tr>\n",
       "    <tr>\n",
       "      <th>78</th>\n",
       "      <td>2745</td>\n",
       "      <td>8552</td>\n",
       "      <td>BANCO</td>\n",
       "      <td>Revolvente</td>\n",
       "      <td>Tarjeta de Crédito</td>\n",
       "      <td>Mensual</td>\n",
       "      <td>0.00000</td>\n",
       "      <td>10000.00000</td>\n",
       "      <td>0.00000</td>\n",
       "      <td>0.98084</td>\n",
       "    </tr>\n",
       "    <tr>\n",
       "      <th>820</th>\n",
       "      <td>39274</td>\n",
       "      <td>34417</td>\n",
       "      <td>BANCO</td>\n",
       "      <td>Revolvente</td>\n",
       "      <td>Tarjeta de Crédito</td>\n",
       "      <td>Mensual</td>\n",
       "      <td>0.00000</td>\n",
       "      <td>20000.00000</td>\n",
       "      <td>0.00000</td>\n",
       "      <td>0.98011</td>\n",
       "    </tr>\n",
       "  </tbody>\n",
       "</table>\n",
       "</div>"
      ],
      "text/plain": [
       "     monthly_income  monthly_outcome institution account_type  \\\n",
       "id                                                              \n",
       "493          303522           831221       BANCO   Revolvente   \n",
       "493          303522           831221       BANCO   Revolvente   \n",
       "250           71605            54234       BANCO   Revolvente   \n",
       "150             732              509       BANCO   Revolvente   \n",
       "765             769              305       BANCO   Revolvente   \n",
       "532           52561            29378       BANCO   Revolvente   \n",
       "19            11675              385       BANCO   Revolvente   \n",
       "899         3375870          4077519       BANCO   Revolvente   \n",
       "899         3375870          4077519       BANCO   Revolvente   \n",
       "899         3375870          4077519       BANCO   Revolvente   \n",
       "899         3375870          4077519       BANCO   Revolvente   \n",
       "899         3375870          4077519       BANCO   Revolvente   \n",
       "899         3375870          4077519       BANCO   Revolvente   \n",
       "682          210038          1454706       BANCO   Revolvente   \n",
       "899         3375870          4077519       BANCO   Revolvente   \n",
       "609         1568780          1562459       BANCO   Revolvente   \n",
       "609         1568780          1562459       BANCO   Revolvente   \n",
       "93              659             3065       BANCO   Revolvente   \n",
       "78             2745             8552       BANCO   Revolvente   \n",
       "820           39274            34417       BANCO   Revolvente   \n",
       "\n",
       "            credit_type payment_frequency  total_credit_payments  \\\n",
       "id                                                                 \n",
       "493  Tarjeta de Crédito           Mensual                0.00000   \n",
       "493  Tarjeta de Crédito           Mensual                0.00000   \n",
       "250  Tarjeta de Crédito           Mensual                0.00000   \n",
       "150  Tarjeta de Crédito           Mensual                0.00000   \n",
       "765  Tarjeta de Crédito           Mensual                0.00000   \n",
       "532  Tarjeta de Crédito           Mensual                0.00000   \n",
       "19   Tarjeta de Crédito           Mensual                0.00000   \n",
       "899  Tarjeta de Crédito           Mensual                0.00000   \n",
       "899  Tarjeta de Crédito           Mensual                0.00000   \n",
       "899  Tarjeta de Crédito           Mensual                0.00000   \n",
       "899  Tarjeta de Crédito           Mensual                0.00000   \n",
       "899  Tarjeta de Crédito           Mensual                0.00000   \n",
       "899  Tarjeta de Crédito           Mensual                0.00000   \n",
       "682  Tarjeta de Crédito           Mensual                0.00000   \n",
       "899  Tarjeta de Crédito           Mensual                0.00000   \n",
       "609  Tarjeta de Crédito           Mensual                0.00000   \n",
       "609  Tarjeta de Crédito           Mensual                0.00000   \n",
       "93   Tarjeta de Crédito           Mensual                0.00000   \n",
       "78   Tarjeta de Crédito           Mensual                0.00000   \n",
       "820  Tarjeta de Crédito           Mensual                0.00000   \n",
       "\n",
       "     maximum_credit_amount  current_balance  class_1  \n",
       "id                                                    \n",
       "493            49444.00000          0.00000  0.99611  \n",
       "493            28872.00000          0.00000  0.99611  \n",
       "250             8400.00000          0.00000  0.98957  \n",
       "150            18616.00000          0.00000  0.98924  \n",
       "765            59383.00000          0.00000  0.98830  \n",
       "532            15484.00000          0.00000  0.98770  \n",
       "19             54925.00000          0.00000  0.98754  \n",
       "899           194503.00000          0.00000  0.98552  \n",
       "899           186198.00000          0.00000  0.98552  \n",
       "899           198412.00000          0.00000  0.98552  \n",
       "899           186198.00000          0.00000  0.98552  \n",
       "899            65402.00000          0.00000  0.98552  \n",
       "899             5087.00000          0.00000  0.98552  \n",
       "682           286101.00000          0.00000  0.98552  \n",
       "899           148153.00000          0.00000  0.98552  \n",
       "609           111581.00000          0.00000  0.98446  \n",
       "609           111581.00000          0.00000  0.98446  \n",
       "93               783.00000          0.00000  0.98381  \n",
       "78             10000.00000          0.00000  0.98084  \n",
       "820            20000.00000          0.00000  0.98011  "
      ]
     },
     "execution_count": 75,
     "metadata": {},
     "output_type": "execute_result"
    }
   ],
   "source": [
    "best_clients.head(20)"
   ]
  },
  {
   "cell_type": "code",
   "execution_count": 76,
   "id": "4ec080e7-a1d3-467a-a793-2605f6cedd65",
   "metadata": {},
   "outputs": [
    {
     "data": {
      "text/html": [
       "<div>\n",
       "<style scoped>\n",
       "    .dataframe tbody tr th:only-of-type {\n",
       "        vertical-align: middle;\n",
       "    }\n",
       "\n",
       "    .dataframe tbody tr th {\n",
       "        vertical-align: top;\n",
       "    }\n",
       "\n",
       "    .dataframe thead th {\n",
       "        text-align: right;\n",
       "    }\n",
       "</style>\n",
       "<table border=\"1\" class=\"dataframe\">\n",
       "  <thead>\n",
       "    <tr style=\"text-align: right;\">\n",
       "      <th></th>\n",
       "      <th>monthly_income</th>\n",
       "      <th>monthly_outcome</th>\n",
       "      <th>institution</th>\n",
       "      <th>account_type</th>\n",
       "      <th>credit_type</th>\n",
       "      <th>payment_frequency</th>\n",
       "      <th>total_credit_payments</th>\n",
       "      <th>maximum_credit_amount</th>\n",
       "      <th>current_balance</th>\n",
       "      <th>class_1</th>\n",
       "    </tr>\n",
       "  </thead>\n",
       "  <tbody>\n",
       "    <tr>\n",
       "      <th>0</th>\n",
       "      <td>41023.00000</td>\n",
       "      <td>106641.00000</td>\n",
       "      <td>BANCO</td>\n",
       "      <td>Revolvente</td>\n",
       "      <td>Tarjeta de Crédito</td>\n",
       "      <td>Mensual</td>\n",
       "      <td>0.00000</td>\n",
       "      <td>0.00000</td>\n",
       "      <td>0.00000</td>\n",
       "      <td>0.80528</td>\n",
       "    </tr>\n",
       "    <tr>\n",
       "      <th>1</th>\n",
       "      <td>209808.00000</td>\n",
       "      <td>372129.00000</td>\n",
       "      <td>NaN</td>\n",
       "      <td>NaN</td>\n",
       "      <td>NaN</td>\n",
       "      <td>NaN</td>\n",
       "      <td>NaN</td>\n",
       "      <td>NaN</td>\n",
       "      <td>NaN</td>\n",
       "      <td>0.93634</td>\n",
       "    </tr>\n",
       "    <tr>\n",
       "      <th>2</th>\n",
       "      <td>NaN</td>\n",
       "      <td>NaN</td>\n",
       "      <td>NaN</td>\n",
       "      <td>NaN</td>\n",
       "      <td>NaN</td>\n",
       "      <td>NaN</td>\n",
       "      <td>NaN</td>\n",
       "      <td>NaN</td>\n",
       "      <td>NaN</td>\n",
       "      <td>0.98552</td>\n",
       "    </tr>\n",
       "  </tbody>\n",
       "</table>\n",
       "</div>"
      ],
      "text/plain": [
       "   monthly_income  monthly_outcome institution account_type  \\\n",
       "0     41023.00000     106641.00000       BANCO   Revolvente   \n",
       "1    209808.00000     372129.00000         NaN          NaN   \n",
       "2             NaN              NaN         NaN          NaN   \n",
       "\n",
       "          credit_type payment_frequency  total_credit_payments  \\\n",
       "0  Tarjeta de Crédito           Mensual                0.00000   \n",
       "1                 NaN               NaN                    NaN   \n",
       "2                 NaN               NaN                    NaN   \n",
       "\n",
       "   maximum_credit_amount  current_balance  class_1  \n",
       "0                0.00000          0.00000  0.80528  \n",
       "1                    NaN              NaN  0.93634  \n",
       "2                    NaN              NaN  0.98552  "
      ]
     },
     "execution_count": 76,
     "metadata": {},
     "output_type": "execute_result"
    }
   ],
   "source": [
    "best_clients.mode()"
   ]
  },
  {
   "cell_type": "code",
   "execution_count": 77,
   "id": "b17159dd-8029-4451-a0bc-5127f22b6b60",
   "metadata": {},
   "outputs": [
    {
     "name": "stderr",
     "output_type": "stream",
     "text": [
      "C:\\Users\\kimm0\\AppData\\Local\\Programs\\Python\\Python37\\lib\\site-packages\\ipykernel_launcher.py:1: FutureWarning: Dropping of nuisance columns in DataFrame reductions (with 'numeric_only=None') is deprecated; in a future version this will raise TypeError.  Select only valid columns before calling the reduction.\n",
      "  \"\"\"Entry point for launching an IPython kernel.\n"
     ]
    },
    {
     "data": {
      "text/plain": [
       "monthly_income          421530.27083\n",
       "monthly_outcome         596105.36979\n",
       "total_credit_payments        0.00000\n",
       "maximum_credit_amount    43267.78646\n",
       "current_balance              0.00000\n",
       "class_1                      0.90649\n",
       "dtype: float64"
      ]
     },
     "execution_count": 77,
     "metadata": {},
     "output_type": "execute_result"
    }
   ],
   "source": [
    "best_clients.mean()"
   ]
  },
  {
   "cell_type": "code",
   "execution_count": 78,
   "id": "fc133069-038b-4be7-998f-5bcd5af23af2",
   "metadata": {},
   "outputs": [],
   "source": [
    "plazos = X_test_save[X_test_save.class_1 >= 0.80].copy()\n",
    "plazos = plazos[['monthly_income', 'monthly_outcome', 'institution', 'account_type',\n",
    "       'credit_type','payment_frequency','total_credit_payments','maximum_credit_amount','current_balance','class_1']].copy()"
   ]
  },
  {
   "cell_type": "code",
   "execution_count": 79,
   "id": "9f2788d7-0edc-4fcf-99cc-14808fcaa3ec",
   "metadata": {},
   "outputs": [],
   "source": [
    "plazos = plazos[plazos.total_credit_payments >1].copy()\n",
    "plazos = plazos[plazos.institution == 'BANCO'].copy()\n",
    "plazos = plazos[plazos.payment_frequency == 'Mensual'].copy()\n",
    "plazos = plazos[plazos.current_balance == 0].copy()"
   ]
  },
  {
   "cell_type": "code",
   "execution_count": 80,
   "id": "836ba09f-06fd-4c3a-8f99-9e015bf8642b",
   "metadata": {},
   "outputs": [
    {
     "data": {
      "text/html": [
       "<div>\n",
       "<style scoped>\n",
       "    .dataframe tbody tr th:only-of-type {\n",
       "        vertical-align: middle;\n",
       "    }\n",
       "\n",
       "    .dataframe tbody tr th {\n",
       "        vertical-align: top;\n",
       "    }\n",
       "\n",
       "    .dataframe thead th {\n",
       "        text-align: right;\n",
       "    }\n",
       "</style>\n",
       "<table border=\"1\" class=\"dataframe\">\n",
       "  <thead>\n",
       "    <tr style=\"text-align: right;\">\n",
       "      <th></th>\n",
       "      <th>monthly_income</th>\n",
       "      <th>monthly_outcome</th>\n",
       "      <th>institution</th>\n",
       "      <th>account_type</th>\n",
       "      <th>credit_type</th>\n",
       "      <th>payment_frequency</th>\n",
       "      <th>total_credit_payments</th>\n",
       "      <th>maximum_credit_amount</th>\n",
       "      <th>current_balance</th>\n",
       "      <th>class_1</th>\n",
       "    </tr>\n",
       "    <tr>\n",
       "      <th>id</th>\n",
       "      <th></th>\n",
       "      <th></th>\n",
       "      <th></th>\n",
       "      <th></th>\n",
       "      <th></th>\n",
       "      <th></th>\n",
       "      <th></th>\n",
       "      <th></th>\n",
       "      <th></th>\n",
       "      <th></th>\n",
       "    </tr>\n",
       "  </thead>\n",
       "  <tbody>\n",
       "    <tr>\n",
       "      <th>760</th>\n",
       "      <td>31767</td>\n",
       "      <td>187154</td>\n",
       "      <td>BANCO</td>\n",
       "      <td>Pagos Fijos</td>\n",
       "      <td>Línea de Crédito</td>\n",
       "      <td>Mensual</td>\n",
       "      <td>120.00000</td>\n",
       "      <td>201200.00000</td>\n",
       "      <td>0.00000</td>\n",
       "      <td>0.97752</td>\n",
       "    </tr>\n",
       "  </tbody>\n",
       "</table>\n",
       "</div>"
      ],
      "text/plain": [
       "     monthly_income  monthly_outcome institution account_type  \\\n",
       "id                                                              \n",
       "760           31767           187154       BANCO  Pagos Fijos   \n",
       "\n",
       "          credit_type payment_frequency  total_credit_payments  \\\n",
       "id                                                               \n",
       "760  Línea de Crédito           Mensual              120.00000   \n",
       "\n",
       "     maximum_credit_amount  current_balance  class_1  \n",
       "id                                                    \n",
       "760           201200.00000          0.00000  0.97752  "
      ]
     },
     "execution_count": 80,
     "metadata": {},
     "output_type": "execute_result"
    }
   ],
   "source": [
    "plazos.head(1)"
   ]
  },
  {
   "cell_type": "code",
   "execution_count": 81,
   "id": "ef6ac06e-5cab-47c4-adcd-05ba64663fd8",
   "metadata": {},
   "outputs": [
    {
     "name": "stderr",
     "output_type": "stream",
     "text": [
      "C:\\Users\\kimm0\\AppData\\Local\\Programs\\Python\\Python37\\lib\\site-packages\\ipykernel_launcher.py:1: FutureWarning: Dropping of nuisance columns in DataFrame reductions (with 'numeric_only=None') is deprecated; in a future version this will raise TypeError.  Select only valid columns before calling the reduction.\n",
      "  \"\"\"Entry point for launching an IPython kernel.\n"
     ]
    },
    {
     "data": {
      "text/plain": [
       "monthly_income          39247.50000\n",
       "monthly_outcome         71202.50000\n",
       "total_credit_payments      36.00000\n",
       "maximum_credit_amount   29952.00000\n",
       "current_balance             0.00000\n",
       "class_1                     0.92734\n",
       "dtype: float64"
      ]
     },
     "execution_count": 81,
     "metadata": {},
     "output_type": "execute_result"
    }
   ],
   "source": [
    "plazos.median()"
   ]
  },
  {
   "cell_type": "code",
   "execution_count": 82,
   "id": "c33f5574-4917-4962-ac15-43fc50c7e943",
   "metadata": {},
   "outputs": [
    {
     "name": "stderr",
     "output_type": "stream",
     "text": [
      "C:\\Users\\kimm0\\AppData\\Local\\Programs\\Python\\Python37\\lib\\site-packages\\ipykernel_launcher.py:1: FutureWarning: Dropping of nuisance columns in DataFrame reductions (with 'numeric_only=None') is deprecated; in a future version this will raise TypeError.  Select only valid columns before calling the reduction.\n",
      "  \"\"\"Entry point for launching an IPython kernel.\n"
     ]
    },
    {
     "data": {
      "text/plain": [
       "monthly_income          362475.76667\n",
       "monthly_outcome         413675.30000\n",
       "total_credit_payments       51.40000\n",
       "maximum_credit_amount    99541.60000\n",
       "current_balance              0.00000\n",
       "class_1                      0.91687\n",
       "dtype: float64"
      ]
     },
     "execution_count": 82,
     "metadata": {},
     "output_type": "execute_result"
    }
   ],
   "source": [
    "plazos.mean()"
   ]
  },
  {
   "cell_type": "code",
   "execution_count": 83,
   "id": "a8dc6610-035d-4719-8a02-538081aef65b",
   "metadata": {},
   "outputs": [
    {
     "data": {
      "text/html": [
       "<div>\n",
       "<style scoped>\n",
       "    .dataframe tbody tr th:only-of-type {\n",
       "        vertical-align: middle;\n",
       "    }\n",
       "\n",
       "    .dataframe tbody tr th {\n",
       "        vertical-align: top;\n",
       "    }\n",
       "\n",
       "    .dataframe thead th {\n",
       "        text-align: right;\n",
       "    }\n",
       "</style>\n",
       "<table border=\"1\" class=\"dataframe\">\n",
       "  <thead>\n",
       "    <tr style=\"text-align: right;\">\n",
       "      <th></th>\n",
       "      <th>monthly_income</th>\n",
       "      <th>monthly_outcome</th>\n",
       "      <th>institution</th>\n",
       "      <th>account_type</th>\n",
       "      <th>credit_type</th>\n",
       "      <th>payment_frequency</th>\n",
       "      <th>total_credit_payments</th>\n",
       "      <th>maximum_credit_amount</th>\n",
       "      <th>current_balance</th>\n",
       "      <th>class_1</th>\n",
       "    </tr>\n",
       "  </thead>\n",
       "  <tbody>\n",
       "    <tr>\n",
       "      <th>0</th>\n",
       "      <td>911667</td>\n",
       "      <td>597753</td>\n",
       "      <td>BANCO</td>\n",
       "      <td>Pagos Fijos</td>\n",
       "      <td>Préstamo Personal</td>\n",
       "      <td>Mensual</td>\n",
       "      <td>36.00000</td>\n",
       "      <td>15000.00000</td>\n",
       "      <td>0.00000</td>\n",
       "      <td>0.92734</td>\n",
       "    </tr>\n",
       "  </tbody>\n",
       "</table>\n",
       "</div>"
      ],
      "text/plain": [
       "   monthly_income  monthly_outcome institution account_type  \\\n",
       "0          911667           597753       BANCO  Pagos Fijos   \n",
       "\n",
       "          credit_type payment_frequency  total_credit_payments  \\\n",
       "0  Préstamo Personal            Mensual               36.00000   \n",
       "\n",
       "   maximum_credit_amount  current_balance  class_1  \n",
       "0            15000.00000          0.00000  0.92734  "
      ]
     },
     "execution_count": 83,
     "metadata": {},
     "output_type": "execute_result"
    }
   ],
   "source": [
    "plazos.mode()"
   ]
  },
  {
   "cell_type": "code",
   "execution_count": 84,
   "id": "76cf4b0d-0f13-428c-b83c-f9b8c68a8a5c",
   "metadata": {},
   "outputs": [
    {
     "data": {
      "text/plain": [
       "36.00000     10\n",
       "48.00000      5\n",
       "12.00000      5\n",
       "90.00000      4\n",
       "6.00000       4\n",
       "120.00000     4\n",
       "18.00000      3\n",
       "24.00000      3\n",
       "9.00000       3\n",
       "45.00000      2\n",
       "8.00000       2\n",
       "73.00000      2\n",
       "72.00000      1\n",
       "288.00000     1\n",
       "30.00000      1\n",
       "156.00000     1\n",
       "240.00000     1\n",
       "59.00000      1\n",
       "23.00000      1\n",
       "10.00000      1\n",
       "2.00000       1\n",
       "25.00000      1\n",
       "71.00000      1\n",
       "119.00000     1\n",
       "60.00000      1\n",
       "Name: total_credit_payments, dtype: int64"
      ]
     },
     "execution_count": 84,
     "metadata": {},
     "output_type": "execute_result"
    }
   ],
   "source": [
    "plazos.total_credit_payments.value_counts()"
   ]
  },
  {
   "cell_type": "code",
   "execution_count": null,
   "id": "5034d996-a595-4186-96ca-3dce336ea740",
   "metadata": {},
   "outputs": [],
   "source": []
  }
 ],
 "metadata": {
  "interpreter": {
   "hash": "b6854413468b7f9353f7f11db85091d46b4c1e8f0358c94add5f22500ca1605d"
  },
  "kernelspec": {
   "display_name": "Python 3.7.9 64-bit",
   "name": "python3"
  },
  "language_info": {
   "codemirror_mode": {
    "name": "ipython",
    "version": 3
   },
   "file_extension": ".py",
   "mimetype": "text/x-python",
   "name": "python",
   "nbconvert_exporter": "python",
   "pygments_lexer": "ipython3",
   "version": "3.7.9"
  }
 },
 "nbformat": 4,
 "nbformat_minor": 5
}
